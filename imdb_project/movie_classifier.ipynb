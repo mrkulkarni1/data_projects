{
 "cells": [
  {
   "cell_type": "code",
   "execution_count": 627,
   "metadata": {},
   "outputs": [
    {
     "data": {
      "text/html": [
       "<style>body {\n",
       "    margin: 0;\n",
       "    font-family: Helvetica;\n",
       "}\n",
       "table.dataframe {\n",
       "    border-collapse: collapse;\n",
       "    border: none;\n",
       "}\n",
       "table.dataframe tr {\n",
       "    border: none;\n",
       "}\n",
       "table.dataframe td, table.dataframe th {\n",
       "    margin: 0;\n",
       "    border: 1px solid white;\n",
       "    padding-left: 0.25em;\n",
       "    padding-right: 0.25em;\n",
       "}\n",
       "table.dataframe th:not(:empty) {\n",
       "    background-color: #fec;\n",
       "    text-align: left;\n",
       "    font-weight: normal;\n",
       "}\n",
       "table.dataframe tr:nth-child(2) th:empty {\n",
       "    border-left: none;\n",
       "    border-right: 1px dashed #888;\n",
       "}\n",
       "table.dataframe td {\n",
       "    border: 2px solid #ccf;\n",
       "    background-color: #f4f4ff;\n",
       "}\n",
       "h3 {\n",
       "    color: white;\n",
       "    background-color: black;\n",
       "    padding: 0.5em;\n",
       "}\n",
       "</style>"
      ],
      "text/plain": [
       "<IPython.core.display.HTML object>"
      ]
     },
     "execution_count": 627,
     "metadata": {},
     "output_type": "execute_result"
    }
   ],
   "source": [
    "\n",
    "import numpy as np\n",
    "import pandas as pd\n",
    "import scipy.stats as stats\n",
    "import matplotlib.pyplot as plt\n",
    "import sklearn\n",
    "\n",
    "import seaborn as sns\n",
    "\n",
    "# special matplotlib argument for improved plots\n",
    "from matplotlib import rcParams\n",
    "sns.set_style(\"whitegrid\")\n",
    "sns.set_context(\"poster\")\n",
    "from sklearn.linear_model import LinearRegression\n",
    "from sklearn.utils import shuffle\n",
    "from IPython.core.display import HTML\n",
    "import seaborn as sns\n",
    "import re\n",
    "%matplotlib inline\n",
    "\n",
    "css = open('style-table.css').read() + open('style-notebook.css').read()\n",
    "HTML('<style>{}</style>'.format(css))"
   ]
  },
  {
   "cell_type": "code",
   "execution_count": 628,
   "metadata": {
    "collapsed": true
   },
   "outputs": [],
   "source": [
    "titles = pd.DataFrame.from_csv('movie_metadata.csv', index_col=None)"
   ]
  },
  {
   "cell_type": "code",
   "execution_count": 629,
   "metadata": {
    "collapsed": true
   },
   "outputs": [],
   "source": [
    "titles=titles.set_index('movie_title')"
   ]
  },
  {
   "cell_type": "code",
   "execution_count": 630,
   "metadata": {
    "collapsed": true
   },
   "outputs": [],
   "source": [
    "titles['ratio']=titles.gross/titles.budget"
   ]
  },
  {
   "cell_type": "code",
   "execution_count": 631,
   "metadata": {
    "collapsed": true
   },
   "outputs": [],
   "source": [
    "titles=titles=titles.dropna(axis=0, subset=['imdb_score','gross', 'budget', 'ratio', 'director_facebook_likes' , 'content_rating' , 'title_year' , 'movie_facebook_likes' ])"
   ]
  },
  {
   "cell_type": "code",
   "execution_count": 632,
   "metadata": {},
   "outputs": [
    {
     "data": {
      "text/plain": [
       "R            1737\n",
       "PG-13        1331\n",
       "PG            576\n",
       "G              91\n",
       "Not Rated      42\n",
       "Unrated        24\n",
       "Approved       17\n",
       "X              10\n",
       "NC-17           6\n",
       "Passed          3\n",
       "M               2\n",
       "GP              1\n",
       "Name: content_rating, dtype: int64"
      ]
     },
     "execution_count": 632,
     "metadata": {},
     "output_type": "execute_result"
    }
   ],
   "source": [
    "titles.content_rating.value_counts()"
   ]
  },
  {
   "cell_type": "code",
   "execution_count": 633,
   "metadata": {},
   "outputs": [
    {
     "data": {
      "text/plain": [
       "6.0    1459\n",
       "7.0    1091\n",
       "5.0     769\n",
       "4.0     217\n",
       "8.0     211\n",
       "3.0      64\n",
       "2.0      22\n",
       "9.0       4\n",
       "1.0       3\n",
       "Name: imdb_score, dtype: int64"
      ]
     },
     "execution_count": 633,
     "metadata": {},
     "output_type": "execute_result"
    }
   ],
   "source": [
    "((titles.imdb_score//1)).value_counts()"
   ]
  },
  {
   "cell_type": "code",
   "execution_count": 634,
   "metadata": {
    "collapsed": true
   },
   "outputs": [],
   "source": [
    "titles.genres=titles.genres.str.replace(\"\\|.*\",\"\")\n"
   ]
  },
  {
   "cell_type": "code",
   "execution_count": 635,
   "metadata": {},
   "outputs": [
    {
     "data": {
      "text/plain": [
       "<matplotlib.axes._subplots.AxesSubplot at 0x1a2f5c1898>"
      ]
     },
     "execution_count": 635,
     "metadata": {},
     "output_type": "execute_result"
    },
    {
     "data": {
      "image/png": "[encoded data removed]",
      "text/plain": [
       "<matplotlib.figure.Figure at 0x1a2f060e80>"
      ]
     },
     "metadata": {},
     "output_type": "display_data"
    }
   ],
   "source": [
    "titles.genres.value_counts().plot(kind = 'bar')"
   ]
  },
  {
   "cell_type": "code",
   "execution_count": 636,
   "metadata": {
    "collapsed": true
   },
   "outputs": [],
   "source": [
    "def normalize(array1, name):\n",
    "    print (\"normalizing \"+name);\n",
    "    array=array1\n",
    "    array=array/array.std()\n",
    "    array=array-array.mean()\n",
    "    return(array);"
   ]
  },
  {
   "cell_type": "code",
   "execution_count": 637,
   "metadata": {},
   "outputs": [
    {
     "data": {
      "text/plain": [
       "<matplotlib.axes._subplots.AxesSubplot at 0x1a28e5eb00>"
      ]
     },
     "execution_count": 637,
     "metadata": {},
     "output_type": "execute_result"
    },
    {
     "data": {
      "image/png": "[encoded data removed]",
      "text/plain": [
       "<matplotlib.figure.Figure at 0x1a296494a8>"
      ]
     },
     "metadata": {},
     "output_type": "display_data"
    }
   ],
   "source": [
    "titles.imdb_score.plot.kde()"
   ]
  },
  {
   "cell_type": "code",
   "execution_count": 638,
   "metadata": {},
   "outputs": [
    {
     "data": {
      "text/plain": [
       "<matplotlib.axes._subplots.AxesSubplot at 0x1a1fd25518>"
      ]
     },
     "execution_count": 638,
     "metadata": {},
     "output_type": "execute_result"
    },
    {
     "data": {
      "image/png": "[encoded data removed]",
      "text/plain": [
       "<matplotlib.figure.Figure at 0x1a351e9978>"
      ]
     },
     "metadata": {},
     "output_type": "display_data"
    }
   ],
   "source": [
    "titles.ratio.plot.kde(xlim=[-100,100])"
   ]
  },
  {
   "cell_type": "code",
   "execution_count": 639,
   "metadata": {
    "collapsed": true
   },
   "outputs": [],
   "source": [
    "## removing movies with a very high profit ratio for which are mostly low budget movies\n",
    "titles=titles.drop(titles[(titles.ratio>2000)].index)"
   ]
  },
  {
   "cell_type": "code",
   "execution_count": 640,
   "metadata": {},
   "outputs": [
    {
     "data": {
      "text/plain": [
       "3.1335171057909883"
      ]
     },
     "execution_count": 640,
     "metadata": {},
     "output_type": "execute_result"
    }
   ],
   "source": [
    "titles.ratio.mean()\n"
   ]
  },
  {
   "cell_type": "code",
   "execution_count": 641,
   "metadata": {},
   "outputs": [
    {
     "data": {
      "text/plain": [
       "<matplotlib.axes._subplots.AxesSubplot at 0x1a2922c400>"
      ]
     },
     "execution_count": 641,
     "metadata": {},
     "output_type": "execute_result"
    },
    {
     "data": {
      "image/png": "[encoded data removed]",
      "text/plain": [
       "<matplotlib.figure.Figure at 0x1a1fd50240>"
      ]
     },
     "metadata": {},
     "output_type": "display_data"
    }
   ],
   "source": [
    "titles.ratio.plot.kde(xlim=[-10,100])"
   ]
  },
  {
   "cell_type": "code",
   "execution_count": 642,
   "metadata": {},
   "outputs": [
    {
     "name": "stdout",
     "output_type": "stream",
     "text": [
      "3.1335171057909883 14.902585199854006\n"
     ]
    }
   ],
   "source": [
    "print(titles.ratio.mean(),titles.ratio.std() )\n"
   ]
  },
  {
   "cell_type": "code",
   "execution_count": 643,
   "metadata": {},
   "outputs": [
    {
     "data": {
      "text/plain": [
       "80"
      ]
     },
     "execution_count": 643,
     "metadata": {},
     "output_type": "execute_result"
    }
   ],
   "source": [
    "len(titles[(titles.ratio > 18)])"
   ]
  },
  {
   "cell_type": "code",
   "execution_count": 644,
   "metadata": {},
   "outputs": [
    {
     "data": {
      "text/plain": [
       "<matplotlib.axes._subplots.AxesSubplot at 0x1a3530f898>"
      ]
     },
     "execution_count": 644,
     "metadata": {},
     "output_type": "execute_result"
    },
    {
     "data": {
      "image/png": "[encoded data removed]",
      "text/plain": [
       "<matplotlib.figure.Figure at 0x1a29244320>"
      ]
     },
     "metadata": {},
     "output_type": "display_data"
    }
   ],
   "source": [
    "# %profit distribution\n",
    "(titles.ratio*100).plot.hist(xlim=[-10,600],ylim=[0,100],bins=10000)"
   ]
  },
  {
   "cell_type": "code",
   "execution_count": 645,
   "metadata": {},
   "outputs": [
    {
     "data": {
      "text/plain": [
       "<matplotlib.axes._subplots.AxesSubplot at 0x1a35352e10>"
      ]
     },
     "execution_count": 645,
     "metadata": {},
     "output_type": "execute_result"
    },
    {
     "data": {
      "image/png": "[encoded data removed]",
      "text/plain": [
       "<matplotlib.figure.Figure at 0x1a29227240>"
      ]
     },
     "metadata": {},
     "output_type": "display_data"
    }
   ],
   "source": [
    "# profit density plot\n",
    "(titles.ratio).plot.kde(xlim=[-10,10])"
   ]
  },
  {
   "cell_type": "code",
   "execution_count": 646,
   "metadata": {},
   "outputs": [
    {
     "data": {
      "text/plain": [
       "(3.1335171057909883, 14.902585199854006, 1.0924944666666667)"
      ]
     },
     "execution_count": 646,
     "metadata": {},
     "output_type": "execute_result"
    }
   ],
   "source": [
    "titles.ratio.mean() , titles.ratio.std() , titles.ratio.median() "
   ]
  },
  {
   "cell_type": "code",
   "execution_count": 647,
   "metadata": {},
   "outputs": [
    {
     "data": {
      "text/plain": [
       "153"
      ]
     },
     "execution_count": 647,
     "metadata": {},
     "output_type": "execute_result"
    }
   ],
   "source": [
    "len(titles[(titles.ratio > 10)])"
   ]
  },
  {
   "cell_type": "code",
   "execution_count": 648,
   "metadata": {
    "collapsed": true
   },
   "outputs": [],
   "source": [
    "## defining profit making movie. Criterion is 20% profit.\n",
    "titles['profit_making']= (titles.ratio > 1.2)"
   ]
  },
  {
   "cell_type": "code",
   "execution_count": 649,
   "metadata": {},
   "outputs": [
    {
     "data": {
      "text/plain": [
       "False    2059\n",
       "True     1778\n",
       "Name: profit_making, dtype: int64"
      ]
     },
     "execution_count": 649,
     "metadata": {},
     "output_type": "execute_result"
    }
   ],
   "source": [
    "titles.profit_making.value_counts()"
   ]
  },
  {
   "cell_type": "code",
   "execution_count": 650,
   "metadata": {},
   "outputs": [],
   "source": [
    "##  sending budget and likes through normalizer\n"
   ]
  },
  {
   "cell_type": "code",
   "execution_count": 651,
   "metadata": {},
   "outputs": [
    {
     "name": "stdout",
     "output_type": "stream",
     "text": [
      "budget: true\n",
      "normalizing budget\n",
      "movie_facebook_likes: true\n",
      "normalizing movie_facebook_likes\n",
      "cast_total_facebook_likes: true\n",
      "normalizing cast_total_facebook_likes\n",
      "director_facebook_likes: true\n",
      "normalizing director_facebook_likes\n",
      "actor_1_facebook_likes: true\n",
      "normalizing actor_1_facebook_likes\n",
      "actor_2_facebook_likes: true\n",
      "normalizing actor_2_facebook_likes\n",
      "duration: true\n",
      "normalizing duration\n",
      "num_voted_users: true\n",
      "normalizing num_voted_users\n",
      "num_user_for_reviews: true\n",
      "normalizing num_user_for_reviews\n",
      "gross: true\n",
      "normalizing gross\n"
     ]
    }
   ],
   "source": [
    "for column in ['budget','movie_facebook_likes','cast_total_facebook_likes','director_facebook_likes','actor_1_facebook_likes','actor_2_facebook_likes','duration','num_voted_users', 'num_user_for_reviews', 'gross']:\n",
    "    if np.issubdtype(titles[column].dtype, np.number):\n",
    "        print (column + \": true\")\n",
    "        titles[column]=normalize(array1=titles[column],name=column)\n",
    "    else:\n",
    "        print (column + \":false\")"
   ]
  },
  {
   "cell_type": "code",
   "execution_count": 652,
   "metadata": {},
   "outputs": [
    {
     "data": {
      "text/plain": [
       "-0.09168398031167933"
      ]
     },
     "execution_count": 652,
     "metadata": {},
     "output_type": "execute_result"
    }
   ],
   "source": [
    "titles.budget.median()"
   ]
  },
  {
   "cell_type": "code",
   "execution_count": 653,
   "metadata": {
    "collapsed": true
   },
   "outputs": [],
   "source": [
    "titles2 = pd.DataFrame.from_csv('movie_metadata.csv', index_col=None)"
   ]
  },
  {
   "cell_type": "code",
   "execution_count": 654,
   "metadata": {},
   "outputs": [
    {
     "data": {
      "text/plain": [
       "<matplotlib.axes._subplots.AxesSubplot at 0x1a354c4c50>"
      ]
     },
     "execution_count": 654,
     "metadata": {},
     "output_type": "execute_result"
    },
    {
     "data": {
      "image/png": "[encoded data removed]",
      "text/plain": [
       "<matplotlib.figure.Figure at 0x1a0d4ff0b8>"
      ]
     },
     "metadata": {},
     "output_type": "display_data"
    }
   ],
   "source": [
    "titles2.budget.plot.kde(xlim=[-.4e9,.4e9])"
   ]
  },
  {
   "cell_type": "code",
   "execution_count": 655,
   "metadata": {},
   "outputs": [
    {
     "data": {
      "text/plain": [
       "39752620.436387606"
      ]
     },
     "execution_count": 655,
     "metadata": {},
     "output_type": "execute_result"
    }
   ],
   "source": [
    "titles2.budget.mean()"
   ]
  },
  {
   "cell_type": "code",
   "execution_count": 656,
   "metadata": {},
   "outputs": [
    {
     "data": {
      "text/plain": [
       "206114898.44868386"
      ]
     },
     "execution_count": 656,
     "metadata": {},
     "output_type": "execute_result"
    }
   ],
   "source": [
    "titles2.budget.std()\n"
   ]
  },
  {
   "cell_type": "code",
   "execution_count": 657,
   "metadata": {
    "collapsed": true
   },
   "outputs": [],
   "source": [
    "temp1=((titles2.budget//1e6)*(1e6)).value_counts().sort_index()"
   ]
  },
  {
   "cell_type": "code",
   "execution_count": 658,
   "metadata": {
    "collapsed": true
   },
   "outputs": [],
   "source": [
    "temp1=((titles.ratio//.5)*.5).value_counts().sort_index()"
   ]
  },
  {
   "cell_type": "code",
   "execution_count": 659,
   "metadata": {},
   "outputs": [
    {
     "data": {
      "text/plain": [
       "<matplotlib.axes._subplots.AxesSubplot at 0x1a3b350160>"
      ]
     },
     "execution_count": 659,
     "metadata": {},
     "output_type": "execute_result"
    },
    {
     "data": {
      "image/png": "[encoded data removed]",
      "text/plain": [
       "<matplotlib.figure.Figure at 0x1a3b272c88>"
      ]
     },
     "metadata": {},
     "output_type": "display_data"
    }
   ],
   "source": [
    "temp1.plot.hist(bins=1000 , xlim=[0,100]  )"
   ]
  },
  {
   "cell_type": "code",
   "execution_count": 660,
   "metadata": {
    "collapsed": true
   },
   "outputs": [],
   "source": [
    "temp1=((titles2.budget//1000000)*(1000000)).value_counts().sort_index()\n"
   ]
  },
  {
   "cell_type": "code",
   "execution_count": 661,
   "metadata": {},
   "outputs": [
    {
     "data": {
      "text/plain": [
       "<matplotlib.axes._subplots.AxesSubplot at 0x1a3b34a780>"
      ]
     },
     "execution_count": 661,
     "metadata": {},
     "output_type": "execute_result"
    },
    {
     "data": {
      "image/png": "[encoded data removed]",
      "text/plain": [
       "<matplotlib.figure.Figure at 0x1a3bd94588>"
      ]
     },
     "metadata": {},
     "output_type": "display_data"
    }
   ],
   "source": [
    "temp1.plot.hist(bins=1000 , xlim=[0,100]  )"
   ]
  },
  {
   "cell_type": "code",
   "execution_count": 662,
   "metadata": {},
   "outputs": [
    {
     "data": {
      "text/plain": [
       "39752620.436387606"
      ]
     },
     "execution_count": 662,
     "metadata": {},
     "output_type": "execute_result"
    }
   ],
   "source": [
    "titles2.budget.mean()"
   ]
  },
  {
   "cell_type": "code",
   "execution_count": 663,
   "metadata": {},
   "outputs": [
    {
     "data": {
      "text/plain": [
       "movie_title\n",
       "Snowpiercer                            -0.028209\n",
       "Dragon Wars: D-War                     -0.046983\n",
       "The Last Godfather                     -0.143537\n",
       "Tae Guk Gi: The Brotherhood of War     -0.146219\n",
       "The Host                               54.400735\n",
       "The Good, the Bad, the Weird           -0.158735\n",
       "Lady Vengeance                         18.570869\n",
       "Oldboy                                 -0.190026\n",
       "Name: budget, dtype: float64"
      ]
     },
     "execution_count": 663,
     "metadata": {},
     "output_type": "execute_result"
    }
   ],
   "source": [
    "titles[titles.country.str.match(\"South Korea\")].budget"
   ]
  },
  {
   "cell_type": "code",
   "execution_count": 664,
   "metadata": {
    "collapsed": true
   },
   "outputs": [],
   "source": [
    "titles_highb = titles[(titles.budget > -.114)]"
   ]
  },
  {
   "cell_type": "code",
   "execution_count": 665,
   "metadata": {
    "collapsed": true
   },
   "outputs": [],
   "source": [
    "titles_lowb = titles[(titles.budget <= -.114)]"
   ]
  },
  {
   "cell_type": "code",
   "execution_count": 666,
   "metadata": {},
   "outputs": [
    {
     "data": {
      "text/plain": [
       "2052"
      ]
     },
     "execution_count": 666,
     "metadata": {},
     "output_type": "execute_result"
    }
   ],
   "source": [
    "len(titles_highb)"
   ]
  },
  {
   "cell_type": "code",
   "execution_count": 667,
   "metadata": {},
   "outputs": [
    {
     "data": {
      "text/plain": [
       "1785"
      ]
     },
     "execution_count": 667,
     "metadata": {},
     "output_type": "execute_result"
    }
   ],
   "source": [
    "len(titles_lowb)"
   ]
  },
  {
   "cell_type": "code",
   "execution_count": 668,
   "metadata": {},
   "outputs": [
    {
     "data": {
      "text/plain": [
       "0.40692007797270957"
      ]
     },
     "execution_count": 668,
     "metadata": {},
     "output_type": "execute_result"
    }
   ],
   "source": [
    "titles_highb.profit_making.mean()"
   ]
  },
  {
   "cell_type": "code",
   "execution_count": 669,
   "metadata": {},
   "outputs": [
    {
     "data": {
      "text/html": [
       "<div>\n",
       "<style>\n",
       "    .dataframe thead tr:only-child th {\n",
       "        text-align: right;\n",
       "    }\n",
       "\n",
       "    .dataframe thead th {\n",
       "        text-align: left;\n",
       "    }\n",
       "\n",
       "    .dataframe tbody tr th {\n",
       "        vertical-align: top;\n",
       "    }\n",
       "</style>\n",
       "<table border=\"1\" class=\"dataframe\">\n",
       "  <thead>\n",
       "    <tr style=\"text-align: right;\">\n",
       "      <th></th>\n",
       "      <th>color</th>\n",
       "      <th>director_name</th>\n",
       "      <th>num_critic_for_reviews</th>\n",
       "      <th>duration</th>\n",
       "      <th>director_facebook_likes</th>\n",
       "      <th>actor_3_facebook_likes</th>\n",
       "      <th>actor_2_name</th>\n",
       "      <th>actor_1_facebook_likes</th>\n",
       "      <th>gross</th>\n",
       "      <th>genres</th>\n",
       "      <th>...</th>\n",
       "      <th>country</th>\n",
       "      <th>content_rating</th>\n",
       "      <th>budget</th>\n",
       "      <th>title_year</th>\n",
       "      <th>actor_2_facebook_likes</th>\n",
       "      <th>imdb_score</th>\n",
       "      <th>aspect_ratio</th>\n",
       "      <th>movie_facebook_likes</th>\n",
       "      <th>ratio</th>\n",
       "      <th>profit_making</th>\n",
       "    </tr>\n",
       "    <tr>\n",
       "      <th>movie_title</th>\n",
       "      <th></th>\n",
       "      <th></th>\n",
       "      <th></th>\n",
       "      <th></th>\n",
       "      <th></th>\n",
       "      <th></th>\n",
       "      <th></th>\n",
       "      <th></th>\n",
       "      <th></th>\n",
       "      <th></th>\n",
       "      <th></th>\n",
       "      <th></th>\n",
       "      <th></th>\n",
       "      <th></th>\n",
       "      <th></th>\n",
       "      <th></th>\n",
       "      <th></th>\n",
       "      <th></th>\n",
       "      <th></th>\n",
       "      <th></th>\n",
       "      <th></th>\n",
       "    </tr>\n",
       "  </thead>\n",
       "  <tbody>\n",
       "    <tr>\n",
       "      <th>The Host</th>\n",
       "      <td>Color</td>\n",
       "      <td>Joon-ho Bong</td>\n",
       "      <td>363.0</td>\n",
       "      <td>-0.000762</td>\n",
       "      <td>-0.068297</td>\n",
       "      <td>74.0</td>\n",
       "      <td>Kang-ho Song</td>\n",
       "      <td>-0.455541</td>\n",
       "      <td>-0.706838</td>\n",
       "      <td>Comedy</td>\n",
       "      <td>...</td>\n",
       "      <td>South Korea</td>\n",
       "      <td>R</td>\n",
       "      <td>54.400735</td>\n",
       "      <td>2006.0</td>\n",
       "      <td>-0.353520</td>\n",
       "      <td>7.0</td>\n",
       "      <td>1.85</td>\n",
       "      <td>-0.105261</td>\n",
       "      <td>0.000180</td>\n",
       "      <td>False</td>\n",
       "    </tr>\n",
       "    <tr>\n",
       "      <th>Lady Vengeance</th>\n",
       "      <td>Color</td>\n",
       "      <td>Chan-wook Park</td>\n",
       "      <td>202.0</td>\n",
       "      <td>0.087825</td>\n",
       "      <td>-0.260555</td>\n",
       "      <td>38.0</td>\n",
       "      <td>Yeong-ae Lee</td>\n",
       "      <td>-0.449838</td>\n",
       "      <td>-0.735253</td>\n",
       "      <td>Crime</td>\n",
       "      <td>...</td>\n",
       "      <td>South Korea</td>\n",
       "      <td>R</td>\n",
       "      <td>18.570869</td>\n",
       "      <td>2005.0</td>\n",
       "      <td>-0.413853</td>\n",
       "      <td>7.7</td>\n",
       "      <td>2.35</td>\n",
       "      <td>-0.245279</td>\n",
       "      <td>0.000050</td>\n",
       "      <td>False</td>\n",
       "    </tr>\n",
       "    <tr>\n",
       "      <th>Fateless</th>\n",
       "      <td>Color</td>\n",
       "      <td>Lajos Koltai</td>\n",
       "      <td>73.0</td>\n",
       "      <td>1.062278</td>\n",
       "      <td>-0.245740</td>\n",
       "      <td>0.0</td>\n",
       "      <td>Péter Fancsikai</td>\n",
       "      <td>-0.495717</td>\n",
       "      <td>-0.735478</td>\n",
       "      <td>Drama</td>\n",
       "      <td>...</td>\n",
       "      <td>Hungary</td>\n",
       "      <td>R</td>\n",
       "      <td>10.971746</td>\n",
       "      <td>2005.0</td>\n",
       "      <td>-0.441358</td>\n",
       "      <td>7.1</td>\n",
       "      <td>2.35</td>\n",
       "      <td>-0.403640</td>\n",
       "      <td>0.000078</td>\n",
       "      <td>False</td>\n",
       "    </tr>\n",
       "    <tr>\n",
       "      <th>Princess Mononoke</th>\n",
       "      <td>Color</td>\n",
       "      <td>Hayao Miyazaki</td>\n",
       "      <td>174.0</td>\n",
       "      <td>1.062278</td>\n",
       "      <td>1.714699</td>\n",
       "      <td>745.0</td>\n",
       "      <td>Jada Pinkett Smith</td>\n",
       "      <td>-0.438433</td>\n",
       "      <td>-0.705456</td>\n",
       "      <td>Adventure</td>\n",
       "      <td>...</td>\n",
       "      <td>Japan</td>\n",
       "      <td>PG-13</td>\n",
       "      <td>10.524738</td>\n",
       "      <td>1997.0</td>\n",
       "      <td>-0.253038</td>\n",
       "      <td>8.4</td>\n",
       "      <td>1.85</td>\n",
       "      <td>0.081431</td>\n",
       "      <td>0.000958</td>\n",
       "      <td>False</td>\n",
       "    </tr>\n",
       "    <tr>\n",
       "      <th>Steamboy</th>\n",
       "      <td>Color</td>\n",
       "      <td>Katsuhiro Ôtomo</td>\n",
       "      <td>105.0</td>\n",
       "      <td>-0.310815</td>\n",
       "      <td>-0.234876</td>\n",
       "      <td>101.0</td>\n",
       "      <td>Robin Atkin Downes</td>\n",
       "      <td>-0.464678</td>\n",
       "      <td>-0.732415</td>\n",
       "      <td>Action</td>\n",
       "      <td>...</td>\n",
       "      <td>Japan</td>\n",
       "      <td>PG-13</td>\n",
       "      <td>9.306732</td>\n",
       "      <td>2004.0</td>\n",
       "      <td>-0.367272</td>\n",
       "      <td>6.9</td>\n",
       "      <td>1.85</td>\n",
       "      <td>-0.386558</td>\n",
       "      <td>0.000193</td>\n",
       "      <td>False</td>\n",
       "    </tr>\n",
       "    <tr>\n",
       "      <th>Akira</th>\n",
       "      <td>Color</td>\n",
       "      <td>Katsuhiro Ôtomo</td>\n",
       "      <td>150.0</td>\n",
       "      <td>0.619345</td>\n",
       "      <td>-0.234876</td>\n",
       "      <td>4.0</td>\n",
       "      <td>Takeshi Kusao</td>\n",
       "      <td>-0.495912</td>\n",
       "      <td>-0.732004</td>\n",
       "      <td>Action</td>\n",
       "      <td>...</td>\n",
       "      <td>Japan</td>\n",
       "      <td>R</td>\n",
       "      <td>4.713644</td>\n",
       "      <td>1988.0</td>\n",
       "      <td>-0.440692</td>\n",
       "      <td>8.1</td>\n",
       "      <td>1.85</td>\n",
       "      <td>-0.431971</td>\n",
       "      <td>0.000399</td>\n",
       "      <td>False</td>\n",
       "    </tr>\n",
       "    <tr>\n",
       "      <th>Godzilla 2000</th>\n",
       "      <td>Color</td>\n",
       "      <td>Takao Okawara</td>\n",
       "      <td>107.0</td>\n",
       "      <td>-0.487988</td>\n",
       "      <td>-0.259896</td>\n",
       "      <td>3.0</td>\n",
       "      <td>Naomi Nishida</td>\n",
       "      <td>-0.493514</td>\n",
       "      <td>-0.594934</td>\n",
       "      <td>Action</td>\n",
       "      <td>...</td>\n",
       "      <td>Japan</td>\n",
       "      <td>PG</td>\n",
       "      <td>4.266637</td>\n",
       "      <td>1999.0</td>\n",
       "      <td>-0.441136</td>\n",
       "      <td>6.0</td>\n",
       "      <td>2.35</td>\n",
       "      <td>-0.416149</td>\n",
       "      <td>0.010037</td>\n",
       "      <td>False</td>\n",
       "    </tr>\n",
       "    <tr>\n",
       "      <th>Kabhi Alvida Naa Kehna</th>\n",
       "      <td>Color</td>\n",
       "      <td>Karan Johar</td>\n",
       "      <td>20.0</td>\n",
       "      <td>3.675584</td>\n",
       "      <td>-0.207881</td>\n",
       "      <td>860.0</td>\n",
       "      <td>John Abraham</td>\n",
       "      <td>0.022107</td>\n",
       "      <td>-0.691500</td>\n",
       "      <td>Drama</td>\n",
       "      <td>...</td>\n",
       "      <td>India</td>\n",
       "      <td>R</td>\n",
       "      <td>2.925615</td>\n",
       "      <td>2006.0</td>\n",
       "      <td>-0.219988</td>\n",
       "      <td>6.0</td>\n",
       "      <td>2.35</td>\n",
       "      <td>-0.401213</td>\n",
       "      <td>0.004679</td>\n",
       "      <td>False</td>\n",
       "    </tr>\n",
       "    <tr>\n",
       "      <th>Tango</th>\n",
       "      <td>Color</td>\n",
       "      <td>Carlos Saura</td>\n",
       "      <td>35.0</td>\n",
       "      <td>0.220705</td>\n",
       "      <td>-0.228292</td>\n",
       "      <td>4.0</td>\n",
       "      <td>Juan Luis Galiardo</td>\n",
       "      <td>-0.474203</td>\n",
       "      <td>-0.714179</td>\n",
       "      <td>Drama</td>\n",
       "      <td>...</td>\n",
       "      <td>Spain</td>\n",
       "      <td>PG-13</td>\n",
       "      <td>2.925615</td>\n",
       "      <td>1998.0</td>\n",
       "      <td>-0.436034</td>\n",
       "      <td>7.2</td>\n",
       "      <td>2.00</td>\n",
       "      <td>-0.406814</td>\n",
       "      <td>0.002410</td>\n",
       "      <td>False</td>\n",
       "    </tr>\n",
       "    <tr>\n",
       "      <th>Red Cliff</th>\n",
       "      <td>Color</td>\n",
       "      <td>John Woo</td>\n",
       "      <td>160.0</td>\n",
       "      <td>1.770971</td>\n",
       "      <td>-0.059737</td>\n",
       "      <td>478.0</td>\n",
       "      <td>Tony Chiu Wai Leung</td>\n",
       "      <td>-0.447376</td>\n",
       "      <td>-0.729324</td>\n",
       "      <td>Action</td>\n",
       "      <td>...</td>\n",
       "      <td>China</td>\n",
       "      <td>R</td>\n",
       "      <td>2.271339</td>\n",
       "      <td>2008.0</td>\n",
       "      <td>-0.299175</td>\n",
       "      <td>7.4</td>\n",
       "      <td>2.35</td>\n",
       "      <td>-0.431971</td>\n",
       "      <td>0.001132</td>\n",
       "      <td>False</td>\n",
       "    </tr>\n",
       "    <tr>\n",
       "      <th>The Legend of Suriyothai</th>\n",
       "      <td>Color</td>\n",
       "      <td>Chatrichalerm Yukol</td>\n",
       "      <td>31.0</td>\n",
       "      <td>8.414970</td>\n",
       "      <td>-0.258579</td>\n",
       "      <td>6.0</td>\n",
       "      <td>Chatchai Plengpanich</td>\n",
       "      <td>-0.495847</td>\n",
       "      <td>-0.731788</td>\n",
       "      <td>Action</td>\n",
       "      <td>...</td>\n",
       "      <td>Thailand</td>\n",
       "      <td>R</td>\n",
       "      <td>1.584593</td>\n",
       "      <td>2001.0</td>\n",
       "      <td>-0.440470</td>\n",
       "      <td>6.6</td>\n",
       "      <td>1.85</td>\n",
       "      <td>-0.426183</td>\n",
       "      <td>0.001136</td>\n",
       "      <td>False</td>\n",
       "    </tr>\n",
       "    <tr>\n",
       "      <th>The Messenger: The Story of Joan of Arc</th>\n",
       "      <td>Color</td>\n",
       "      <td>Luc Besson</td>\n",
       "      <td>111.0</td>\n",
       "      <td>2.125318</td>\n",
       "      <td>-0.260555</td>\n",
       "      <td>15.0</td>\n",
       "      <td>David Bailie</td>\n",
       "      <td>-0.492996</td>\n",
       "      <td>-0.536470</td>\n",
       "      <td>Adventure</td>\n",
       "      <td>...</td>\n",
       "      <td>France</td>\n",
       "      <td>R</td>\n",
       "      <td>1.539892</td>\n",
       "      <td>1999.0</td>\n",
       "      <td>-0.432929</td>\n",
       "      <td>6.4</td>\n",
       "      <td>2.35</td>\n",
       "      <td>-0.431971</td>\n",
       "      <td>0.036234</td>\n",
       "      <td>False</td>\n",
       "    </tr>\n",
       "    <tr>\n",
       "      <th>Pirates of the Caribbean: At World's End</th>\n",
       "      <td>Color</td>\n",
       "      <td>Gore Verbinski</td>\n",
       "      <td>302.0</td>\n",
       "      <td>2.612544</td>\n",
       "      <td>-0.075210</td>\n",
       "      <td>1000.0</td>\n",
       "      <td>Orlando Bloom</td>\n",
       "      <td>2.095738</td>\n",
       "      <td>3.680244</td>\n",
       "      <td>Action</td>\n",
       "      <td>...</td>\n",
       "      <td>USA</td>\n",
       "      <td>PG-13</td>\n",
       "      <td>1.137586</td>\n",
       "      <td>2007.0</td>\n",
       "      <td>0.667264</td>\n",
       "      <td>7.1</td>\n",
       "      <td>2.35</td>\n",
       "      <td>-0.431971</td>\n",
       "      <td>1.031347</td>\n",
       "      <td>False</td>\n",
       "    </tr>\n",
       "    <tr>\n",
       "      <th>Ong-bak 2</th>\n",
       "      <td>Color</td>\n",
       "      <td>Tony Jaa</td>\n",
       "      <td>110.0</td>\n",
       "      <td>-0.000762</td>\n",
       "      <td>-0.260555</td>\n",
       "      <td>7.0</td>\n",
       "      <td>Petchtai Wongkamlao</td>\n",
       "      <td>-0.492153</td>\n",
       "      <td>-0.736818</td>\n",
       "      <td>Action</td>\n",
       "      <td>...</td>\n",
       "      <td>Thailand</td>\n",
       "      <td>R</td>\n",
       "      <td>1.137586</td>\n",
       "      <td>2008.0</td>\n",
       "      <td>-0.431820</td>\n",
       "      <td>6.2</td>\n",
       "      <td>2.35</td>\n",
       "      <td>-0.431971</td>\n",
       "      <td>0.000340</td>\n",
       "      <td>False</td>\n",
       "    </tr>\n",
       "    <tr>\n",
       "      <th>John Carter</th>\n",
       "      <td>Color</td>\n",
       "      <td>Andrew Stanton</td>\n",
       "      <td>462.0</td>\n",
       "      <td>0.973691</td>\n",
       "      <td>-0.104180</td>\n",
       "      <td>530.0</td>\n",
       "      <td>Samantha Morton</td>\n",
       "      <td>-0.454828</td>\n",
       "      <td>0.305056</td>\n",
       "      <td>Action</td>\n",
       "      <td>...</td>\n",
       "      <td>USA</td>\n",
       "      <td>PG-13</td>\n",
       "      <td>0.975322</td>\n",
       "      <td>2012.0</td>\n",
       "      <td>-0.301615</td>\n",
       "      <td>6.6</td>\n",
       "      <td>2.35</td>\n",
       "      <td>0.688178</td>\n",
       "      <td>0.277052</td>\n",
       "      <td>False</td>\n",
       "    </tr>\n",
       "    <tr>\n",
       "      <th>Tangled</th>\n",
       "      <td>Color</td>\n",
       "      <td>Nathan Greno</td>\n",
       "      <td>324.0</td>\n",
       "      <td>-0.443695</td>\n",
       "      <td>-0.255616</td>\n",
       "      <td>284.0</td>\n",
       "      <td>Donna Murphy</td>\n",
       "      <td>-0.444524</td>\n",
       "      <td>2.129400</td>\n",
       "      <td>Adventure</td>\n",
       "      <td>...</td>\n",
       "      <td>USA</td>\n",
       "      <td>PG</td>\n",
       "      <td>0.958783</td>\n",
       "      <td>2010.0</td>\n",
       "      <td>-0.319139</td>\n",
       "      <td>7.8</td>\n",
       "      <td>1.85</td>\n",
       "      <td>0.921542</td>\n",
       "      <td>0.772336</td>\n",
       "      <td>False</td>\n",
       "    </tr>\n",
       "    <tr>\n",
       "      <th>Spider-Man 3</th>\n",
       "      <td>Color</td>\n",
       "      <td>Sam Raimi</td>\n",
       "      <td>392.0</td>\n",
       "      <td>2.036731</td>\n",
       "      <td>-0.260555</td>\n",
       "      <td>4000.0</td>\n",
       "      <td>James Franco</td>\n",
       "      <td>1.058923</td>\n",
       "      <td>4.067625</td>\n",
       "      <td>Action</td>\n",
       "      <td>...</td>\n",
       "      <td>USA</td>\n",
       "      <td>PG-13</td>\n",
       "      <td>0.949843</td>\n",
       "      <td>2007.0</td>\n",
       "      <td>1.998143</td>\n",
       "      <td>6.2</td>\n",
       "      <td>2.35</td>\n",
       "      <td>-0.431971</td>\n",
       "      <td>1.304381</td>\n",
       "      <td>True</td>\n",
       "    </tr>\n",
       "    <tr>\n",
       "      <th>Spider-Man 3</th>\n",
       "      <td>Color</td>\n",
       "      <td>Sam Raimi</td>\n",
       "      <td>392.0</td>\n",
       "      <td>2.036731</td>\n",
       "      <td>-0.260555</td>\n",
       "      <td>4000.0</td>\n",
       "      <td>James Franco</td>\n",
       "      <td>1.058923</td>\n",
       "      <td>4.067625</td>\n",
       "      <td>Action</td>\n",
       "      <td>...</td>\n",
       "      <td>USA</td>\n",
       "      <td>PG-13</td>\n",
       "      <td>0.949843</td>\n",
       "      <td>2007.0</td>\n",
       "      <td>1.998143</td>\n",
       "      <td>6.2</td>\n",
       "      <td>2.35</td>\n",
       "      <td>-0.431971</td>\n",
       "      <td>1.304381</td>\n",
       "      <td>True</td>\n",
       "    </tr>\n",
       "    <tr>\n",
       "      <th>Captain America: Civil War</th>\n",
       "      <td>Color</td>\n",
       "      <td>Anthony Russo</td>\n",
       "      <td>516.0</td>\n",
       "      <td>1.638091</td>\n",
       "      <td>-0.229609</td>\n",
       "      <td>11000.0</td>\n",
       "      <td>Scarlett Johansson</td>\n",
       "      <td>0.864520</td>\n",
       "      <td>5.076801</td>\n",
       "      <td>Action</td>\n",
       "      <td>...</td>\n",
       "      <td>USA</td>\n",
       "      <td>PG-13</td>\n",
       "      <td>0.914082</td>\n",
       "      <td>2016.0</td>\n",
       "      <td>3.772647</td>\n",
       "      <td>8.2</td>\n",
       "      <td>2.35</td>\n",
       "      <td>2.928475</td>\n",
       "      <td>1.628789</td>\n",
       "      <td>True</td>\n",
       "    </tr>\n",
       "    <tr>\n",
       "      <th>The Dark Knight Rises</th>\n",
       "      <td>Color</td>\n",
       "      <td>Christopher Nolan</td>\n",
       "      <td>813.0</td>\n",
       "      <td>2.391078</td>\n",
       "      <td>6.982041</td>\n",
       "      <td>23000.0</td>\n",
       "      <td>Christian Bale</td>\n",
       "      <td>1.253325</td>\n",
       "      <td>5.661360</td>\n",
       "      <td>Action</td>\n",
       "      <td>...</td>\n",
       "      <td>USA</td>\n",
       "      <td>PG-13</td>\n",
       "      <td>0.914082</td>\n",
       "      <td>2012.0</td>\n",
       "      <td>4.659900</td>\n",
       "      <td>8.5</td>\n",
       "      <td>2.35</td>\n",
       "      <td>7.222379</td>\n",
       "      <td>1.792523</td>\n",
       "      <td>True</td>\n",
       "    </tr>\n",
       "    <tr>\n",
       "      <th>Pirates of the Caribbean: On Stranger Tides</th>\n",
       "      <td>Color</td>\n",
       "      <td>Rob Marshall</td>\n",
       "      <td>448.0</td>\n",
       "      <td>1.150865</td>\n",
       "      <td>-0.177594</td>\n",
       "      <td>1000.0</td>\n",
       "      <td>Sam Claflin</td>\n",
       "      <td>2.095738</td>\n",
       "      <td>2.704294</td>\n",
       "      <td>Action</td>\n",
       "      <td>...</td>\n",
       "      <td>USA</td>\n",
       "      <td>PG-13</td>\n",
       "      <td>0.914082</td>\n",
       "      <td>2011.0</td>\n",
       "      <td>1.998143</td>\n",
       "      <td>6.7</td>\n",
       "      <td>2.35</td>\n",
       "      <td>2.275055</td>\n",
       "      <td>0.964256</td>\n",
       "      <td>False</td>\n",
       "    </tr>\n",
       "    <tr>\n",
       "      <th>Batman v Superman: Dawn of Justice</th>\n",
       "      <td>Color</td>\n",
       "      <td>Zack Snyder</td>\n",
       "      <td>673.0</td>\n",
       "      <td>3.232651</td>\n",
       "      <td>-0.260555</td>\n",
       "      <td>2000.0</td>\n",
       "      <td>Lauren Cohan</td>\n",
       "      <td>0.475714</td>\n",
       "      <td>3.977924</td>\n",
       "      <td>Action</td>\n",
       "      <td>...</td>\n",
       "      <td>USA</td>\n",
       "      <td>PG-13</td>\n",
       "      <td>0.914082</td>\n",
       "      <td>2016.0</td>\n",
       "      <td>0.445451</td>\n",
       "      <td>6.9</td>\n",
       "      <td>2.35</td>\n",
       "      <td>8.762583</td>\n",
       "      <td>1.320996</td>\n",
       "      <td>True</td>\n",
       "    </tr>\n",
       "    <tr>\n",
       "      <th>The Hobbit: The Battle of the Five Armies</th>\n",
       "      <td>Color</td>\n",
       "      <td>Peter Jackson</td>\n",
       "      <td>422.0</td>\n",
       "      <td>2.391078</td>\n",
       "      <td>-0.260555</td>\n",
       "      <td>773.0</td>\n",
       "      <td>Adam Brown</td>\n",
       "      <td>-0.172296</td>\n",
       "      <td>2.904860</td>\n",
       "      <td>Adventure</td>\n",
       "      <td>...</td>\n",
       "      <td>New Zealand</td>\n",
       "      <td>PG-13</td>\n",
       "      <td>0.914082</td>\n",
       "      <td>2014.0</td>\n",
       "      <td>-0.226199</td>\n",
       "      <td>7.5</td>\n",
       "      <td>2.35</td>\n",
       "      <td>2.601765</td>\n",
       "      <td>1.020433</td>\n",
       "      <td>False</td>\n",
       "    </tr>\n",
       "    <tr>\n",
       "      <th>Harry Potter and the Half-Blood Prince</th>\n",
       "      <td>Color</td>\n",
       "      <td>David Yates</td>\n",
       "      <td>375.0</td>\n",
       "      <td>1.903851</td>\n",
       "      <td>-0.167718</td>\n",
       "      <td>10000.0</td>\n",
       "      <td>Daniel Radcliffe</td>\n",
       "      <td>1.123724</td>\n",
       "      <td>3.573892</td>\n",
       "      <td>Adventure</td>\n",
       "      <td>...</td>\n",
       "      <td>UK</td>\n",
       "      <td>PG</td>\n",
       "      <td>0.914082</td>\n",
       "      <td>2009.0</td>\n",
       "      <td>1.998143</td>\n",
       "      <td>7.5</td>\n",
       "      <td>2.35</td>\n",
       "      <td>0.034758</td>\n",
       "      <td>1.207828</td>\n",
       "      <td>True</td>\n",
       "    </tr>\n",
       "    <tr>\n",
       "      <th>Avengers: Age of Ultron</th>\n",
       "      <td>Color</td>\n",
       "      <td>Joss Whedon</td>\n",
       "      <td>635.0</td>\n",
       "      <td>1.372331</td>\n",
       "      <td>-0.260555</td>\n",
       "      <td>19000.0</td>\n",
       "      <td>Robert Downey Jr.</td>\n",
       "      <td>1.188525</td>\n",
       "      <td>5.816462</td>\n",
       "      <td>Action</td>\n",
       "      <td>...</td>\n",
       "      <td>USA</td>\n",
       "      <td>PG-13</td>\n",
       "      <td>0.914082</td>\n",
       "      <td>2015.0</td>\n",
       "      <td>4.216273</td>\n",
       "      <td>7.5</td>\n",
       "      <td>2.35</td>\n",
       "      <td>5.075427</td>\n",
       "      <td>1.835966</td>\n",
       "      <td>True</td>\n",
       "    </tr>\n",
       "    <tr>\n",
       "      <th>Spectre</th>\n",
       "      <td>Color</td>\n",
       "      <td>Sam Mendes</td>\n",
       "      <td>602.0</td>\n",
       "      <td>1.682384</td>\n",
       "      <td>-0.260555</td>\n",
       "      <td>161.0</td>\n",
       "      <td>Rory Kinnear</td>\n",
       "      <td>0.216510</td>\n",
       "      <td>2.118931</td>\n",
       "      <td>Action</td>\n",
       "      <td>...</td>\n",
       "      <td>UK</td>\n",
       "      <td>PG-13</td>\n",
       "      <td>0.891732</td>\n",
       "      <td>2015.0</td>\n",
       "      <td>-0.354629</td>\n",
       "      <td>6.8</td>\n",
       "      <td>2.35</td>\n",
       "      <td>3.535223</td>\n",
       "      <td>0.816629</td>\n",
       "      <td>False</td>\n",
       "    </tr>\n",
       "    <tr>\n",
       "      <th>Avatar</th>\n",
       "      <td>Color</td>\n",
       "      <td>James Cameron</td>\n",
       "      <td>723.0</td>\n",
       "      <td>3.011184</td>\n",
       "      <td>-0.260555</td>\n",
       "      <td>855.0</td>\n",
       "      <td>Joel David Moore</td>\n",
       "      <td>-0.431499</td>\n",
       "      <td>10.122308</td>\n",
       "      <td>Action</td>\n",
       "      <td>...</td>\n",
       "      <td>USA</td>\n",
       "      <td>PG-13</td>\n",
       "      <td>0.855971</td>\n",
       "      <td>2009.0</td>\n",
       "      <td>-0.234184</td>\n",
       "      <td>7.9</td>\n",
       "      <td>1.78</td>\n",
       "      <td>1.108234</td>\n",
       "      <td>3.208885</td>\n",
       "      <td>True</td>\n",
       "    </tr>\n",
       "    <tr>\n",
       "      <th>The Amazing Spider-Man</th>\n",
       "      <td>Color</td>\n",
       "      <td>Marc Webb</td>\n",
       "      <td>599.0</td>\n",
       "      <td>1.903851</td>\n",
       "      <td>-0.107802</td>\n",
       "      <td>963.0</td>\n",
       "      <td>Andrew Garfield</td>\n",
       "      <td>0.475714</td>\n",
       "      <td>3.003715</td>\n",
       "      <td>Action</td>\n",
       "      <td>...</td>\n",
       "      <td>USA</td>\n",
       "      <td>PG-13</td>\n",
       "      <td>0.824681</td>\n",
       "      <td>2012.0</td>\n",
       "      <td>1.776330</td>\n",
       "      <td>7.0</td>\n",
       "      <td>2.35</td>\n",
       "      <td>2.181710</td>\n",
       "      <td>1.139264</td>\n",
       "      <td>False</td>\n",
       "    </tr>\n",
       "    <tr>\n",
       "      <th>The Hobbit: The Desolation of Smaug</th>\n",
       "      <td>Color</td>\n",
       "      <td>Peter Jackson</td>\n",
       "      <td>509.0</td>\n",
       "      <td>3.365531</td>\n",
       "      <td>-0.260555</td>\n",
       "      <td>773.0</td>\n",
       "      <td>Adam Brown</td>\n",
       "      <td>-0.172296</td>\n",
       "      <td>2.951229</td>\n",
       "      <td>Adventure</td>\n",
       "      <td>...</td>\n",
       "      <td>USA</td>\n",
       "      <td>PG-13</td>\n",
       "      <td>0.802331</td>\n",
       "      <td>2013.0</td>\n",
       "      <td>-0.226199</td>\n",
       "      <td>7.9</td>\n",
       "      <td>2.35</td>\n",
       "      <td>3.441877</td>\n",
       "      <td>1.148246</td>\n",
       "      <td>False</td>\n",
       "    </tr>\n",
       "    <tr>\n",
       "      <th>Men in Black 3</th>\n",
       "      <td>Color</td>\n",
       "      <td>Barry Sonnenfeld</td>\n",
       "      <td>451.0</td>\n",
       "      <td>-0.177935</td>\n",
       "      <td>-0.198663</td>\n",
       "      <td>718.0</td>\n",
       "      <td>Michael Stuhlbarg</td>\n",
       "      <td>0.151709</td>\n",
       "      <td>1.818274</td>\n",
       "      <td>Action</td>\n",
       "      <td>...</td>\n",
       "      <td>USA</td>\n",
       "      <td>PG-13</td>\n",
       "      <td>0.802331</td>\n",
       "      <td>2012.0</td>\n",
       "      <td>-0.260802</td>\n",
       "      <td>6.8</td>\n",
       "      <td>1.85</td>\n",
       "      <td>1.434944</td>\n",
       "      <td>0.795648</td>\n",
       "      <td>False</td>\n",
       "    </tr>\n",
       "    <tr>\n",
       "      <th>...</th>\n",
       "      <td>...</td>\n",
       "      <td>...</td>\n",
       "      <td>...</td>\n",
       "      <td>...</td>\n",
       "      <td>...</td>\n",
       "      <td>...</td>\n",
       "      <td>...</td>\n",
       "      <td>...</td>\n",
       "      <td>...</td>\n",
       "      <td>...</td>\n",
       "      <td>...</td>\n",
       "      <td>...</td>\n",
       "      <td>...</td>\n",
       "      <td>...</td>\n",
       "      <td>...</td>\n",
       "      <td>...</td>\n",
       "      <td>...</td>\n",
       "      <td>...</td>\n",
       "      <td>...</td>\n",
       "      <td>...</td>\n",
       "      <td>...</td>\n",
       "    </tr>\n",
       "    <tr>\n",
       "      <th>The Animal</th>\n",
       "      <td>Color</td>\n",
       "      <td>Luke Greenfield</td>\n",
       "      <td>75.0</td>\n",
       "      <td>-1.152388</td>\n",
       "      <td>-0.246728</td>\n",
       "      <td>182.0</td>\n",
       "      <td>Michael Papajohn</td>\n",
       "      <td>-0.468047</td>\n",
       "      <td>0.058050</td>\n",
       "      <td>Comedy</td>\n",
       "      <td>...</td>\n",
       "      <td>USA</td>\n",
       "      <td>PG-13</td>\n",
       "      <td>-0.105094</td>\n",
       "      <td>2001.0</td>\n",
       "      <td>-0.388344</td>\n",
       "      <td>4.8</td>\n",
       "      <td>1.85</td>\n",
       "      <td>-0.385298</td>\n",
       "      <td>2.534647</td>\n",
       "      <td>True</td>\n",
       "    </tr>\n",
       "    <tr>\n",
       "      <th>Willard</th>\n",
       "      <td>Color</td>\n",
       "      <td>Glen Morgan</td>\n",
       "      <td>129.0</td>\n",
       "      <td>-0.443695</td>\n",
       "      <td>-0.254958</td>\n",
       "      <td>86.0</td>\n",
       "      <td>Ty Olsson</td>\n",
       "      <td>-0.452949</td>\n",
       "      <td>-0.640422</td>\n",
       "      <td>Drama</td>\n",
       "      <td>...</td>\n",
       "      <td>Canada</td>\n",
       "      <td>PG-13</td>\n",
       "      <td>-0.105094</td>\n",
       "      <td>2003.0</td>\n",
       "      <td>-0.346643</td>\n",
       "      <td>6.2</td>\n",
       "      <td>2.35</td>\n",
       "      <td>-0.431971</td>\n",
       "      <td>0.311461</td>\n",
       "      <td>False</td>\n",
       "    </tr>\n",
       "    <tr>\n",
       "      <th>Summer of Sam</th>\n",
       "      <td>Color</td>\n",
       "      <td>Spike Lee</td>\n",
       "      <td>85.0</td>\n",
       "      <td>1.416624</td>\n",
       "      <td>-0.260555</td>\n",
       "      <td>854.0</td>\n",
       "      <td>Jennifer Esposito</td>\n",
       "      <td>-0.432925</td>\n",
       "      <td>-0.462889</td>\n",
       "      <td>Crime</td>\n",
       "      <td>...</td>\n",
       "      <td>USA</td>\n",
       "      <td>R</td>\n",
       "      <td>-0.105094</td>\n",
       "      <td>1999.0</td>\n",
       "      <td>-0.239729</td>\n",
       "      <td>6.6</td>\n",
       "      <td>1.85</td>\n",
       "      <td>-0.431971</td>\n",
       "      <td>0.876536</td>\n",
       "      <td>False</td>\n",
       "    </tr>\n",
       "    <tr>\n",
       "      <th>Homefront</th>\n",
       "      <td>Color</td>\n",
       "      <td>Gary Fleder</td>\n",
       "      <td>203.0</td>\n",
       "      <td>-0.443695</td>\n",
       "      <td>-0.247715</td>\n",
       "      <td>798.0</td>\n",
       "      <td>James Franco</td>\n",
       "      <td>1.188525</td>\n",
       "      <td>-0.455749</td>\n",
       "      <td>Action</td>\n",
       "      <td>...</td>\n",
       "      <td>USA</td>\n",
       "      <td>R</td>\n",
       "      <td>-0.105094</td>\n",
       "      <td>2013.0</td>\n",
       "      <td>1.998143</td>\n",
       "      <td>6.5</td>\n",
       "      <td>2.35</td>\n",
       "      <td>0.268122</td>\n",
       "      <td>0.899263</td>\n",
       "      <td>False</td>\n",
       "    </tr>\n",
       "    <tr>\n",
       "      <th>The Game Plan</th>\n",
       "      <td>Color</td>\n",
       "      <td>Andy Fickman</td>\n",
       "      <td>112.0</td>\n",
       "      <td>-0.000762</td>\n",
       "      <td>-0.227963</td>\n",
       "      <td>835.0</td>\n",
       "      <td>Kyra Sedgwick</td>\n",
       "      <td>0.281311</td>\n",
       "      <td>0.556087</td>\n",
       "      <td>Comedy</td>\n",
       "      <td>...</td>\n",
       "      <td>USA</td>\n",
       "      <td>PG</td>\n",
       "      <td>-0.105094</td>\n",
       "      <td>2007.0</td>\n",
       "      <td>-0.233075</td>\n",
       "      <td>6.2</td>\n",
       "      <td>2.35</td>\n",
       "      <td>-0.431971</td>\n",
       "      <td>4.119863</td>\n",
       "      <td>True</td>\n",
       "    </tr>\n",
       "    <tr>\n",
       "      <th>The Santa Clause</th>\n",
       "      <td>Color</td>\n",
       "      <td>John Pasquin</td>\n",
       "      <td>64.0</td>\n",
       "      <td>-0.576575</td>\n",
       "      <td>-0.256933</td>\n",
       "      <td>595.0</td>\n",
       "      <td>Eric Lloyd</td>\n",
       "      <td>-0.437915</td>\n",
       "      <td>1.330051</td>\n",
       "      <td>Comedy</td>\n",
       "      <td>...</td>\n",
       "      <td>USA</td>\n",
       "      <td>PG</td>\n",
       "      <td>-0.105094</td>\n",
       "      <td>1994.0</td>\n",
       "      <td>-0.269896</td>\n",
       "      <td>6.4</td>\n",
       "      <td>1.85</td>\n",
       "      <td>-0.431971</td>\n",
       "      <td>6.583334</td>\n",
       "      <td>True</td>\n",
       "    </tr>\n",
       "    <tr>\n",
       "      <th>Ghost</th>\n",
       "      <td>Color</td>\n",
       "      <td>Jerry Zucker</td>\n",
       "      <td>77.0</td>\n",
       "      <td>0.752225</td>\n",
       "      <td>-0.224671</td>\n",
       "      <td>71.0</td>\n",
       "      <td>Tony Goldwyn</td>\n",
       "      <td>-0.366699</td>\n",
       "      <td>2.369660</td>\n",
       "      <td>Drama</td>\n",
       "      <td>...</td>\n",
       "      <td>USA</td>\n",
       "      <td>PG-13</td>\n",
       "      <td>-0.105094</td>\n",
       "      <td>1990.0</td>\n",
       "      <td>-0.229748</td>\n",
       "      <td>7.0</td>\n",
       "      <td>1.85</td>\n",
       "      <td>-0.431971</td>\n",
       "      <td>9.892332</td>\n",
       "      <td>True</td>\n",
       "    </tr>\n",
       "    <tr>\n",
       "      <th>Jay and Silent Bob Strike Back</th>\n",
       "      <td>Color</td>\n",
       "      <td>Kevin Smith</td>\n",
       "      <td>181.0</td>\n",
       "      <td>-0.266522</td>\n",
       "      <td>-0.260555</td>\n",
       "      <td>898.0</td>\n",
       "      <td>Shannon Elizabeth</td>\n",
       "      <td>0.022107</td>\n",
       "      <td>-0.309005</td>\n",
       "      <td>Comedy</td>\n",
       "      <td>...</td>\n",
       "      <td>USA</td>\n",
       "      <td>R</td>\n",
       "      <td>-0.105094</td>\n",
       "      <td>2001.0</td>\n",
       "      <td>-0.219988</td>\n",
       "      <td>6.9</td>\n",
       "      <td>2.35</td>\n",
       "      <td>-0.431971</td>\n",
       "      <td>1.366336</td>\n",
       "      <td>True</td>\n",
       "    </tr>\n",
       "    <tr>\n",
       "      <th>My Fellow Americans</th>\n",
       "      <td>Color</td>\n",
       "      <td>Peter Segal</td>\n",
       "      <td>27.0</td>\n",
       "      <td>-0.399402</td>\n",
       "      <td>-0.231584</td>\n",
       "      <td>812.0</td>\n",
       "      <td>Bradley Whitford</td>\n",
       "      <td>-0.434286</td>\n",
       "      <td>-0.419896</td>\n",
       "      <td>Adventure</td>\n",
       "      <td>...</td>\n",
       "      <td>USA</td>\n",
       "      <td>PG-13</td>\n",
       "      <td>-0.107329</td>\n",
       "      <td>1996.0</td>\n",
       "      <td>-0.259693</td>\n",
       "      <td>6.5</td>\n",
       "      <td>1.85</td>\n",
       "      <td>-0.396593</td>\n",
       "      <td>1.036946</td>\n",
       "      <td>False</td>\n",
       "    </tr>\n",
       "    <tr>\n",
       "      <th>Arlington Road</th>\n",
       "      <td>Color</td>\n",
       "      <td>Mark Pellington</td>\n",
       "      <td>155.0</td>\n",
       "      <td>0.309291</td>\n",
       "      <td>-0.231255</td>\n",
       "      <td>442.0</td>\n",
       "      <td>Spencer Treat Clark</td>\n",
       "      <td>0.281311</td>\n",
       "      <td>-0.390361</td>\n",
       "      <td>Crime</td>\n",
       "      <td>...</td>\n",
       "      <td>USA</td>\n",
       "      <td>R</td>\n",
       "      <td>-0.107329</td>\n",
       "      <td>1999.0</td>\n",
       "      <td>-0.321800</td>\n",
       "      <td>7.2</td>\n",
       "      <td>2.35</td>\n",
       "      <td>-0.431971</td>\n",
       "      <td>1.133140</td>\n",
       "      <td>False</td>\n",
       "    </tr>\n",
       "    <tr>\n",
       "      <th>Crocodile Dundee in Los Angeles</th>\n",
       "      <td>Color</td>\n",
       "      <td>Simon Wincer</td>\n",
       "      <td>71.0</td>\n",
       "      <td>-0.798042</td>\n",
       "      <td>-0.252983</td>\n",
       "      <td>162.0</td>\n",
       "      <td>Paul Hogan</td>\n",
       "      <td>-0.466492</td>\n",
       "      <td>-0.372830</td>\n",
       "      <td>Adventure</td>\n",
       "      <td>...</td>\n",
       "      <td>Australia</td>\n",
       "      <td>PG</td>\n",
       "      <td>-0.108894</td>\n",
       "      <td>2001.0</td>\n",
       "      <td>-0.343760</td>\n",
       "      <td>4.8</td>\n",
       "      <td>1.85</td>\n",
       "      <td>-0.413908</td>\n",
       "      <td>1.209935</td>\n",
       "      <td>True</td>\n",
       "    </tr>\n",
       "    <tr>\n",
       "      <th>Black Book</th>\n",
       "      <td>Color</td>\n",
       "      <td>Paul Verhoeven</td>\n",
       "      <td>231.0</td>\n",
       "      <td>1.549504</td>\n",
       "      <td>-0.023853</td>\n",
       "      <td>104.0</td>\n",
       "      <td>Sebastian Koch</td>\n",
       "      <td>-0.366699</td>\n",
       "      <td>-0.675463</td>\n",
       "      <td>Drama</td>\n",
       "      <td>...</td>\n",
       "      <td>Netherlands</td>\n",
       "      <td>R</td>\n",
       "      <td>-0.109564</td>\n",
       "      <td>2006.0</td>\n",
       "      <td>-0.357512</td>\n",
       "      <td>7.8</td>\n",
       "      <td>2.35</td>\n",
       "      <td>-0.431971</td>\n",
       "      <td>0.209447</td>\n",
       "      <td>False</td>\n",
       "    </tr>\n",
       "    <tr>\n",
       "      <th>DOA: Dead or Alive</th>\n",
       "      <td>Color</td>\n",
       "      <td>Corey Yuen</td>\n",
       "      <td>110.0</td>\n",
       "      <td>-1.019508</td>\n",
       "      <td>-0.252983</td>\n",
       "      <td>748.0</td>\n",
       "      <td>Holly Valance</td>\n",
       "      <td>-0.442775</td>\n",
       "      <td>-0.731416</td>\n",
       "      <td>Action</td>\n",
       "      <td>...</td>\n",
       "      <td>USA</td>\n",
       "      <td>PG-13</td>\n",
       "      <td>-0.109564</td>\n",
       "      <td>2006.0</td>\n",
       "      <td>-0.260802</td>\n",
       "      <td>4.8</td>\n",
       "      <td>2.35</td>\n",
       "      <td>-0.431971</td>\n",
       "      <td>0.022872</td>\n",
       "      <td>False</td>\n",
       "    </tr>\n",
       "    <tr>\n",
       "      <th>Firefox</th>\n",
       "      <td>Color</td>\n",
       "      <td>Clint Eastwood</td>\n",
       "      <td>43.0</td>\n",
       "      <td>1.150865</td>\n",
       "      <td>5.006787</td>\n",
       "      <td>216.0</td>\n",
       "      <td>Warren Clarke</td>\n",
       "      <td>0.540515</td>\n",
       "      <td>-0.071365</td>\n",
       "      <td>Action</td>\n",
       "      <td>...</td>\n",
       "      <td>USA</td>\n",
       "      <td>PG</td>\n",
       "      <td>-0.109564</td>\n",
       "      <td>1982.0</td>\n",
       "      <td>-0.379472</td>\n",
       "      <td>5.9</td>\n",
       "      <td>2.35</td>\n",
       "      <td>-0.431971</td>\n",
       "      <td>2.223810</td>\n",
       "      <td>True</td>\n",
       "    </tr>\n",
       "    <tr>\n",
       "      <th>South Park: Bigger Longer &amp; Uncut</th>\n",
       "      <td>Color</td>\n",
       "      <td>Trey Parker</td>\n",
       "      <td>163.0</td>\n",
       "      <td>-1.285268</td>\n",
       "      <td>-0.126896</td>\n",
       "      <td>406.0</td>\n",
       "      <td>Eric Idle</td>\n",
       "      <td>-0.438433</td>\n",
       "      <td>0.004441</td>\n",
       "      <td>Animation</td>\n",
       "      <td>...</td>\n",
       "      <td>USA</td>\n",
       "      <td>R</td>\n",
       "      <td>-0.109564</td>\n",
       "      <td>1999.0</td>\n",
       "      <td>-0.265460</td>\n",
       "      <td>7.8</td>\n",
       "      <td>1.85</td>\n",
       "      <td>-0.431971</td>\n",
       "      <td>2.476585</td>\n",
       "      <td>True</td>\n",
       "    </tr>\n",
       "    <tr>\n",
       "      <th>Hardball</th>\n",
       "      <td>Color</td>\n",
       "      <td>Brian Robbins</td>\n",
       "      <td>85.0</td>\n",
       "      <td>-0.177935</td>\n",
       "      <td>-0.244753</td>\n",
       "      <td>39.0</td>\n",
       "      <td>D.B. Sweeney</td>\n",
       "      <td>0.670117</td>\n",
       "      <td>-0.163908</td>\n",
       "      <td>Drama</td>\n",
       "      <td>...</td>\n",
       "      <td>USA</td>\n",
       "      <td>PG-13</td>\n",
       "      <td>-0.109564</td>\n",
       "      <td>2001.0</td>\n",
       "      <td>-0.318029</td>\n",
       "      <td>6.3</td>\n",
       "      <td>1.85</td>\n",
       "      <td>-0.431971</td>\n",
       "      <td>1.915224</td>\n",
       "      <td>True</td>\n",
       "    </tr>\n",
       "    <tr>\n",
       "      <th>The Royal Tenenbaums</th>\n",
       "      <td>Color</td>\n",
       "      <td>Wes Anderson</td>\n",
       "      <td>220.0</td>\n",
       "      <td>-0.000762</td>\n",
       "      <td>-0.260555</td>\n",
       "      <td>327.0</td>\n",
       "      <td>Anjelica Huston</td>\n",
       "      <td>0.346112</td>\n",
       "      <td>0.009373</td>\n",
       "      <td>Comedy</td>\n",
       "      <td>...</td>\n",
       "      <td>USA</td>\n",
       "      <td>R</td>\n",
       "      <td>-0.109564</td>\n",
       "      <td>2001.0</td>\n",
       "      <td>-0.219988</td>\n",
       "      <td>7.6</td>\n",
       "      <td>2.35</td>\n",
       "      <td>-0.431971</td>\n",
       "      <td>2.493030</td>\n",
       "      <td>True</td>\n",
       "    </tr>\n",
       "    <tr>\n",
       "      <th>We Own the Night</th>\n",
       "      <td>Color</td>\n",
       "      <td>James Gray</td>\n",
       "      <td>222.0</td>\n",
       "      <td>0.309291</td>\n",
       "      <td>-0.222696</td>\n",
       "      <td>97.0</td>\n",
       "      <td>Oleg Taktarov</td>\n",
       "      <td>-0.301898</td>\n",
       "      <td>-0.330372</td>\n",
       "      <td>Crime</td>\n",
       "      <td>...</td>\n",
       "      <td>USA</td>\n",
       "      <td>R</td>\n",
       "      <td>-0.109564</td>\n",
       "      <td>2007.0</td>\n",
       "      <td>-0.369268</td>\n",
       "      <td>6.9</td>\n",
       "      <td>1.85</td>\n",
       "      <td>-0.431971</td>\n",
       "      <td>1.360151</td>\n",
       "      <td>True</td>\n",
       "    </tr>\n",
       "    <tr>\n",
       "      <th>Silver Linings Playbook</th>\n",
       "      <td>Color</td>\n",
       "      <td>David O. Russell</td>\n",
       "      <td>539.0</td>\n",
       "      <td>0.530758</td>\n",
       "      <td>-0.017928</td>\n",
       "      <td>14000.0</td>\n",
       "      <td>Robert De Niro</td>\n",
       "      <td>1.706932</td>\n",
       "      <td>1.148051</td>\n",
       "      <td>Comedy</td>\n",
       "      <td>...</td>\n",
       "      <td>USA</td>\n",
       "      <td>R</td>\n",
       "      <td>-0.109564</td>\n",
       "      <td>2012.0</td>\n",
       "      <td>4.438087</td>\n",
       "      <td>7.8</td>\n",
       "      <td>2.35</td>\n",
       "      <td>5.028754</td>\n",
       "      <td>6.289948</td>\n",
       "      <td>True</td>\n",
       "    </tr>\n",
       "    <tr>\n",
       "      <th>Freedom Writers</th>\n",
       "      <td>Color</td>\n",
       "      <td>Richard LaGravenese</td>\n",
       "      <td>84.0</td>\n",
       "      <td>0.575051</td>\n",
       "      <td>-0.228292</td>\n",
       "      <td>579.0</td>\n",
       "      <td>Scott Glenn</td>\n",
       "      <td>-0.366699</td>\n",
       "      <td>-0.215863</td>\n",
       "      <td>Biography</td>\n",
       "      <td>...</td>\n",
       "      <td>Germany</td>\n",
       "      <td>PG-13</td>\n",
       "      <td>-0.109564</td>\n",
       "      <td>2007.0</td>\n",
       "      <td>-0.258584</td>\n",
       "      <td>7.5</td>\n",
       "      <td>1.85</td>\n",
       "      <td>0.034758</td>\n",
       "      <td>1.741983</td>\n",
       "      <td>True</td>\n",
       "    </tr>\n",
       "    <tr>\n",
       "      <th>Diary of a Wimpy Kid: Rodrick Rules</th>\n",
       "      <td>Color</td>\n",
       "      <td>David Bowers</td>\n",
       "      <td>103.0</td>\n",
       "      <td>-0.487988</td>\n",
       "      <td>-0.246728</td>\n",
       "      <td>557.0</td>\n",
       "      <td>Rachael Harris</td>\n",
       "      <td>-0.433119</td>\n",
       "      <td>0.014191</td>\n",
       "      <td>Comedy</td>\n",
       "      <td>...</td>\n",
       "      <td>USA</td>\n",
       "      <td>PG</td>\n",
       "      <td>-0.109564</td>\n",
       "      <td>2011.0</td>\n",
       "      <td>-0.315590</td>\n",
       "      <td>6.6</td>\n",
       "      <td>2.35</td>\n",
       "      <td>-0.431971</td>\n",
       "      <td>2.509096</td>\n",
       "      <td>True</td>\n",
       "    </tr>\n",
       "    <tr>\n",
       "      <th>The Transporter</th>\n",
       "      <td>Color</td>\n",
       "      <td>Louis Leterrier</td>\n",
       "      <td>171.0</td>\n",
       "      <td>-0.798042</td>\n",
       "      <td>-0.176606</td>\n",
       "      <td>447.0</td>\n",
       "      <td>Qi Shu</td>\n",
       "      <td>1.188525</td>\n",
       "      <td>-0.377024</td>\n",
       "      <td>Action</td>\n",
       "      <td>...</td>\n",
       "      <td>France</td>\n",
       "      <td>PG-13</td>\n",
       "      <td>-0.109564</td>\n",
       "      <td>2002.0</td>\n",
       "      <td>-0.219988</td>\n",
       "      <td>6.8</td>\n",
       "      <td>2.35</td>\n",
       "      <td>-0.431971</td>\n",
       "      <td>1.204593</td>\n",
       "      <td>True</td>\n",
       "    </tr>\n",
       "    <tr>\n",
       "      <th>Synecdoche, New York</th>\n",
       "      <td>Color</td>\n",
       "      <td>Charlie Kaufman</td>\n",
       "      <td>245.0</td>\n",
       "      <td>0.619345</td>\n",
       "      <td>-0.260555</td>\n",
       "      <td>631.0</td>\n",
       "      <td>Jennifer Jason Leigh</td>\n",
       "      <td>0.929321</td>\n",
       "      <td>-0.694263</td>\n",
       "      <td>Comedy</td>\n",
       "      <td>...</td>\n",
       "      <td>USA</td>\n",
       "      <td>R</td>\n",
       "      <td>-0.109564</td>\n",
       "      <td>2008.0</td>\n",
       "      <td>-0.219988</td>\n",
       "      <td>7.5</td>\n",
       "      <td>2.35</td>\n",
       "      <td>0.174776</td>\n",
       "      <td>0.146758</td>\n",
       "      <td>False</td>\n",
       "    </tr>\n",
       "    <tr>\n",
       "      <th>The Informant!</th>\n",
       "      <td>Color</td>\n",
       "      <td>Steven Soderbergh</td>\n",
       "      <td>248.0</td>\n",
       "      <td>-0.089349</td>\n",
       "      <td>-0.260555</td>\n",
       "      <td>690.0</td>\n",
       "      <td>Joel McHale</td>\n",
       "      <td>0.346112</td>\n",
       "      <td>-0.262533</td>\n",
       "      <td>Comedy</td>\n",
       "      <td>...</td>\n",
       "      <td>USA</td>\n",
       "      <td>R</td>\n",
       "      <td>-0.109564</td>\n",
       "      <td>2009.0</td>\n",
       "      <td>-0.278990</td>\n",
       "      <td>6.5</td>\n",
       "      <td>1.85</td>\n",
       "      <td>-0.431971</td>\n",
       "      <td>1.586361</td>\n",
       "      <td>True</td>\n",
       "    </tr>\n",
       "    <tr>\n",
       "      <th>The Rage: Carrie 2</th>\n",
       "      <td>Black and White</td>\n",
       "      <td>Katt Shea</td>\n",
       "      <td>85.0</td>\n",
       "      <td>-0.266522</td>\n",
       "      <td>-0.243436</td>\n",
       "      <td>484.0</td>\n",
       "      <td>Rachel Blanchard</td>\n",
       "      <td>-0.450227</td>\n",
       "      <td>-0.484691</td>\n",
       "      <td>Horror</td>\n",
       "      <td>...</td>\n",
       "      <td>USA</td>\n",
       "      <td>R</td>\n",
       "      <td>-0.109564</td>\n",
       "      <td>1999.0</td>\n",
       "      <td>-0.333113</td>\n",
       "      <td>4.6</td>\n",
       "      <td>1.85</td>\n",
       "      <td>-0.390105</td>\n",
       "      <td>0.845576</td>\n",
       "      <td>False</td>\n",
       "    </tr>\n",
       "    <tr>\n",
       "      <th>Swing Vote</th>\n",
       "      <td>Color</td>\n",
       "      <td>Joshua Michael Stern</td>\n",
       "      <td>131.0</td>\n",
       "      <td>0.442171</td>\n",
       "      <td>-0.260555</td>\n",
       "      <td>886.0</td>\n",
       "      <td>Judge Reinhold</td>\n",
       "      <td>-0.431499</td>\n",
       "      <td>-0.505723</td>\n",
       "      <td>Comedy</td>\n",
       "      <td>...</td>\n",
       "      <td>USA</td>\n",
       "      <td>PG-13</td>\n",
       "      <td>-0.109564</td>\n",
       "      <td>2008.0</td>\n",
       "      <td>-0.241948</td>\n",
       "      <td>6.1</td>\n",
       "      <td>2.35</td>\n",
       "      <td>-0.385298</td>\n",
       "      <td>0.775446</td>\n",
       "      <td>False</td>\n",
       "    </tr>\n",
       "    <tr>\n",
       "      <th>Moonlight Mile</th>\n",
       "      <td>Color</td>\n",
       "      <td>Brad Silberling</td>\n",
       "      <td>111.0</td>\n",
       "      <td>0.087825</td>\n",
       "      <td>-0.243436</td>\n",
       "      <td>347.0</td>\n",
       "      <td>Holly Hunter</td>\n",
       "      <td>0.475714</td>\n",
       "      <td>-0.640724</td>\n",
       "      <td>Drama</td>\n",
       "      <td>...</td>\n",
       "      <td>USA</td>\n",
       "      <td>PG-13</td>\n",
       "      <td>-0.109564</td>\n",
       "      <td>2002.0</td>\n",
       "      <td>-0.219988</td>\n",
       "      <td>6.7</td>\n",
       "      <td>2.35</td>\n",
       "      <td>-0.414935</td>\n",
       "      <td>0.325284</td>\n",
       "      <td>False</td>\n",
       "    </tr>\n",
       "    <tr>\n",
       "      <th>Molly</th>\n",
       "      <td>Color</td>\n",
       "      <td>John Duigan</td>\n",
       "      <td>16.0</td>\n",
       "      <td>-0.355108</td>\n",
       "      <td>-0.254629</td>\n",
       "      <td>186.0</td>\n",
       "      <td>Jill Hennessy</td>\n",
       "      <td>-0.452884</td>\n",
       "      <td>-0.738053</td>\n",
       "      <td>Comedy</td>\n",
       "      <td>...</td>\n",
       "      <td>USA</td>\n",
       "      <td>PG-13</td>\n",
       "      <td>-0.109564</td>\n",
       "      <td>1999.0</td>\n",
       "      <td>-0.348861</td>\n",
       "      <td>5.8</td>\n",
       "      <td>1.85</td>\n",
       "      <td>-0.418716</td>\n",
       "      <td>0.000743</td>\n",
       "      <td>False</td>\n",
       "    </tr>\n",
       "    <tr>\n",
       "      <th>The Beaver</th>\n",
       "      <td>Color</td>\n",
       "      <td>Jodie Foster</td>\n",
       "      <td>276.0</td>\n",
       "      <td>-0.842335</td>\n",
       "      <td>-0.260555</td>\n",
       "      <td>220.0</td>\n",
       "      <td>Cherry Jones</td>\n",
       "      <td>1.706932</td>\n",
       "      <td>-0.724590</td>\n",
       "      <td>Drama</td>\n",
       "      <td>...</td>\n",
       "      <td>USA</td>\n",
       "      <td>PG-13</td>\n",
       "      <td>-0.109564</td>\n",
       "      <td>2011.0</td>\n",
       "      <td>-0.388122</td>\n",
       "      <td>6.7</td>\n",
       "      <td>2.35</td>\n",
       "      <td>0.361468</td>\n",
       "      <td>0.045634</td>\n",
       "      <td>False</td>\n",
       "    </tr>\n",
       "    <tr>\n",
       "      <th>Everybody's Fine</th>\n",
       "      <td>Color</td>\n",
       "      <td>Kirk Jones</td>\n",
       "      <td>160.0</td>\n",
       "      <td>-0.487988</td>\n",
       "      <td>-0.243436</td>\n",
       "      <td>148.0</td>\n",
       "      <td>James Frain</td>\n",
       "      <td>0.929321</td>\n",
       "      <td>-0.611810</td>\n",
       "      <td>Adventure</td>\n",
       "      <td>...</td>\n",
       "      <td>USA</td>\n",
       "      <td>PG-13</td>\n",
       "      <td>-0.109564</td>\n",
       "      <td>2009.0</td>\n",
       "      <td>-0.219988</td>\n",
       "      <td>7.2</td>\n",
       "      <td>2.35</td>\n",
       "      <td>0.034758</td>\n",
       "      <td>0.421697</td>\n",
       "      <td>False</td>\n",
       "    </tr>\n",
       "  </tbody>\n",
       "</table>\n",
       "<p>2052 rows × 29 columns</p>\n",
       "</div>"
      ],
      "text/plain": [
       "                                                         color  \\\n",
       "movie_title                                                      \n",
       "The Host                                                 Color   \n",
       "Lady Vengeance                                           Color   \n",
       "Fateless                                                 Color   \n",
       "Princess Mononoke                                        Color   \n",
       "Steamboy                                                 Color   \n",
       "Akira                                                    Color   \n",
       "Godzilla 2000                                            Color   \n",
       "Kabhi Alvida Naa Kehna                                   Color   \n",
       "Tango                                                    Color   \n",
       "Red Cliff                                                Color   \n",
       "The Legend of Suriyothai                                 Color   \n",
       "The Messenger: The Story of Joan of Arc                  Color   \n",
       "Pirates of the Caribbean: At World's End                 Color   \n",
       "Ong-bak 2                                                Color   \n",
       "John Carter                                              Color   \n",
       "Tangled                                                  Color   \n",
       "Spider-Man 3                                             Color   \n",
       "Spider-Man 3                                             Color   \n",
       "Captain America: Civil War                               Color   \n",
       "The Dark Knight Rises                                    Color   \n",
       "Pirates of the Caribbean: On Stranger Tides              Color   \n",
       "Batman v Superman: Dawn of Justice                       Color   \n",
       "The Hobbit: The Battle of the Five Armies                Color   \n",
       "Harry Potter and the Half-Blood Prince                   Color   \n",
       "Avengers: Age of Ultron                                  Color   \n",
       "Spectre                                                  Color   \n",
       "Avatar                                                   Color   \n",
       "The Amazing Spider-Man                                   Color   \n",
       "The Hobbit: The Desolation of Smaug                      Color   \n",
       "Men in Black 3                                           Color   \n",
       "...                                                        ...   \n",
       "The Animal                                               Color   \n",
       "Willard                                                  Color   \n",
       "Summer of Sam                                            Color   \n",
       "Homefront                                                Color   \n",
       "The Game Plan                                            Color   \n",
       "The Santa Clause                                         Color   \n",
       "Ghost                                                    Color   \n",
       "Jay and Silent Bob Strike Back                           Color   \n",
       "My Fellow Americans                                      Color   \n",
       "Arlington Road                                           Color   \n",
       "Crocodile Dundee in Los Angeles                          Color   \n",
       "Black Book                                               Color   \n",
       "DOA: Dead or Alive                                       Color   \n",
       "Firefox                                                  Color   \n",
       "South Park: Bigger Longer & Uncut                        Color   \n",
       "Hardball                                                 Color   \n",
       "The Royal Tenenbaums                                     Color   \n",
       "We Own the Night                                         Color   \n",
       "Silver Linings Playbook                                  Color   \n",
       "Freedom Writers                                          Color   \n",
       "Diary of a Wimpy Kid: Rodrick Rules                      Color   \n",
       "The Transporter                                          Color   \n",
       "Synecdoche, New York                                     Color   \n",
       "The Informant!                                           Color   \n",
       "The Rage: Carrie 2                             Black and White   \n",
       "Swing Vote                                               Color   \n",
       "Moonlight Mile                                           Color   \n",
       "Molly                                                    Color   \n",
       "The Beaver                                               Color   \n",
       "Everybody's Fine                                         Color   \n",
       "\n",
       "                                                     director_name  \\\n",
       "movie_title                                                          \n",
       "The Host                                              Joon-ho Bong   \n",
       "Lady Vengeance                                      Chan-wook Park   \n",
       "Fateless                                              Lajos Koltai   \n",
       "Princess Mononoke                                   Hayao Miyazaki   \n",
       "Steamboy                                           Katsuhiro Ôtomo   \n",
       "Akira                                              Katsuhiro Ôtomo   \n",
       "Godzilla 2000                                        Takao Okawara   \n",
       "Kabhi Alvida Naa Kehna                                 Karan Johar   \n",
       "Tango                                                 Carlos Saura   \n",
       "Red Cliff                                                 John Woo   \n",
       "The Legend of Suriyothai                       Chatrichalerm Yukol   \n",
       "The Messenger: The Story of Joan of Arc                 Luc Besson   \n",
       "Pirates of the Caribbean: At World's End            Gore Verbinski   \n",
       "Ong-bak 2                                                 Tony Jaa   \n",
       "John Carter                                         Andrew Stanton   \n",
       "Tangled                                               Nathan Greno   \n",
       "Spider-Man 3                                             Sam Raimi   \n",
       "Spider-Man 3                                             Sam Raimi   \n",
       "Captain America: Civil War                           Anthony Russo   \n",
       "The Dark Knight Rises                            Christopher Nolan   \n",
       "Pirates of the Caribbean: On Stranger Tides           Rob Marshall   \n",
       "Batman v Superman: Dawn of Justice                     Zack Snyder   \n",
       "The Hobbit: The Battle of the Five Armies            Peter Jackson   \n",
       "Harry Potter and the Half-Blood Prince                 David Yates   \n",
       "Avengers: Age of Ultron                                Joss Whedon   \n",
       "Spectre                                                 Sam Mendes   \n",
       "Avatar                                               James Cameron   \n",
       "The Amazing Spider-Man                                   Marc Webb   \n",
       "The Hobbit: The Desolation of Smaug                  Peter Jackson   \n",
       "Men in Black 3                                    Barry Sonnenfeld   \n",
       "...                                                            ...   \n",
       "The Animal                                         Luke Greenfield   \n",
       "Willard                                                Glen Morgan   \n",
       "Summer of Sam                                            Spike Lee   \n",
       "Homefront                                              Gary Fleder   \n",
       "The Game Plan                                         Andy Fickman   \n",
       "The Santa Clause                                      John Pasquin   \n",
       "Ghost                                                 Jerry Zucker   \n",
       "Jay and Silent Bob Strike Back                         Kevin Smith   \n",
       "My Fellow Americans                                    Peter Segal   \n",
       "Arlington Road                                     Mark Pellington   \n",
       "Crocodile Dundee in Los Angeles                       Simon Wincer   \n",
       "Black Book                                          Paul Verhoeven   \n",
       "DOA: Dead or Alive                                      Corey Yuen   \n",
       "Firefox                                             Clint Eastwood   \n",
       "South Park: Bigger Longer & Uncut                      Trey Parker   \n",
       "Hardball                                             Brian Robbins   \n",
       "The Royal Tenenbaums                                  Wes Anderson   \n",
       "We Own the Night                                        James Gray   \n",
       "Silver Linings Playbook                           David O. Russell   \n",
       "Freedom Writers                                Richard LaGravenese   \n",
       "Diary of a Wimpy Kid: Rodrick Rules                   David Bowers   \n",
       "The Transporter                                    Louis Leterrier   \n",
       "Synecdoche, New York                               Charlie Kaufman   \n",
       "The Informant!                                   Steven Soderbergh   \n",
       "The Rage: Carrie 2                                       Katt Shea   \n",
       "Swing Vote                                    Joshua Michael Stern   \n",
       "Moonlight Mile                                     Brad Silberling   \n",
       "Molly                                                  John Duigan   \n",
       "The Beaver                                            Jodie Foster   \n",
       "Everybody's Fine                                        Kirk Jones   \n",
       "\n",
       "                                              num_critic_for_reviews  \\\n",
       "movie_title                                                            \n",
       "The Host                                                       363.0   \n",
       "Lady Vengeance                                                 202.0   \n",
       "Fateless                                                        73.0   \n",
       "Princess Mononoke                                              174.0   \n",
       "Steamboy                                                       105.0   \n",
       "Akira                                                          150.0   \n",
       "Godzilla 2000                                                  107.0   \n",
       "Kabhi Alvida Naa Kehna                                          20.0   \n",
       "Tango                                                           35.0   \n",
       "Red Cliff                                                      160.0   \n",
       "The Legend of Suriyothai                                        31.0   \n",
       "The Messenger: The Story of Joan of Arc                        111.0   \n",
       "Pirates of the Caribbean: At World's End                       302.0   \n",
       "Ong-bak 2                                                      110.0   \n",
       "John Carter                                                    462.0   \n",
       "Tangled                                                        324.0   \n",
       "Spider-Man 3                                                   392.0   \n",
       "Spider-Man 3                                                   392.0   \n",
       "Captain America: Civil War                                     516.0   \n",
       "The Dark Knight Rises                                          813.0   \n",
       "Pirates of the Caribbean: On Stranger Tides                    448.0   \n",
       "Batman v Superman: Dawn of Justice                             673.0   \n",
       "The Hobbit: The Battle of the Five Armies                      422.0   \n",
       "Harry Potter and the Half-Blood Prince                         375.0   \n",
       "Avengers: Age of Ultron                                        635.0   \n",
       "Spectre                                                        602.0   \n",
       "Avatar                                                         723.0   \n",
       "The Amazing Spider-Man                                         599.0   \n",
       "The Hobbit: The Desolation of Smaug                            509.0   \n",
       "Men in Black 3                                                 451.0   \n",
       "...                                                              ...   \n",
       "The Animal                                                      75.0   \n",
       "Willard                                                        129.0   \n",
       "Summer of Sam                                                   85.0   \n",
       "Homefront                                                      203.0   \n",
       "The Game Plan                                                  112.0   \n",
       "The Santa Clause                                                64.0   \n",
       "Ghost                                                           77.0   \n",
       "Jay and Silent Bob Strike Back                                 181.0   \n",
       "My Fellow Americans                                             27.0   \n",
       "Arlington Road                                                 155.0   \n",
       "Crocodile Dundee in Los Angeles                                 71.0   \n",
       "Black Book                                                     231.0   \n",
       "DOA: Dead or Alive                                             110.0   \n",
       "Firefox                                                         43.0   \n",
       "South Park: Bigger Longer & Uncut                              163.0   \n",
       "Hardball                                                        85.0   \n",
       "The Royal Tenenbaums                                           220.0   \n",
       "We Own the Night                                               222.0   \n",
       "Silver Linings Playbook                                        539.0   \n",
       "Freedom Writers                                                 84.0   \n",
       "Diary of a Wimpy Kid: Rodrick Rules                            103.0   \n",
       "The Transporter                                                171.0   \n",
       "Synecdoche, New York                                           245.0   \n",
       "The Informant!                                                 248.0   \n",
       "The Rage: Carrie 2                                              85.0   \n",
       "Swing Vote                                                     131.0   \n",
       "Moonlight Mile                                                 111.0   \n",
       "Molly                                                           16.0   \n",
       "The Beaver                                                     276.0   \n",
       "Everybody's Fine                                               160.0   \n",
       "\n",
       "                                              duration  \\\n",
       "movie_title                                              \n",
       "The Host                                     -0.000762   \n",
       "Lady Vengeance                                0.087825   \n",
       "Fateless                                      1.062278   \n",
       "Princess Mononoke                             1.062278   \n",
       "Steamboy                                     -0.310815   \n",
       "Akira                                         0.619345   \n",
       "Godzilla 2000                                -0.487988   \n",
       "Kabhi Alvida Naa Kehna                        3.675584   \n",
       "Tango                                         0.220705   \n",
       "Red Cliff                                     1.770971   \n",
       "The Legend of Suriyothai                      8.414970   \n",
       "The Messenger: The Story of Joan of Arc       2.125318   \n",
       "Pirates of the Caribbean: At World's End      2.612544   \n",
       "Ong-bak 2                                    -0.000762   \n",
       "John Carter                                   0.973691   \n",
       "Tangled                                      -0.443695   \n",
       "Spider-Man 3                                  2.036731   \n",
       "Spider-Man 3                                  2.036731   \n",
       "Captain America: Civil War                    1.638091   \n",
       "The Dark Knight Rises                         2.391078   \n",
       "Pirates of the Caribbean: On Stranger Tides   1.150865   \n",
       "Batman v Superman: Dawn of Justice            3.232651   \n",
       "The Hobbit: The Battle of the Five Armies     2.391078   \n",
       "Harry Potter and the Half-Blood Prince        1.903851   \n",
       "Avengers: Age of Ultron                       1.372331   \n",
       "Spectre                                       1.682384   \n",
       "Avatar                                        3.011184   \n",
       "The Amazing Spider-Man                        1.903851   \n",
       "The Hobbit: The Desolation of Smaug           3.365531   \n",
       "Men in Black 3                               -0.177935   \n",
       "...                                                ...   \n",
       "The Animal                                   -1.152388   \n",
       "Willard                                      -0.443695   \n",
       "Summer of Sam                                 1.416624   \n",
       "Homefront                                    -0.443695   \n",
       "The Game Plan                                -0.000762   \n",
       "The Santa Clause                             -0.576575   \n",
       "Ghost                                         0.752225   \n",
       "Jay and Silent Bob Strike Back               -0.266522   \n",
       "My Fellow Americans                          -0.399402   \n",
       "Arlington Road                                0.309291   \n",
       "Crocodile Dundee in Los Angeles              -0.798042   \n",
       "Black Book                                    1.549504   \n",
       "DOA: Dead or Alive                           -1.019508   \n",
       "Firefox                                       1.150865   \n",
       "South Park: Bigger Longer & Uncut            -1.285268   \n",
       "Hardball                                     -0.177935   \n",
       "The Royal Tenenbaums                         -0.000762   \n",
       "We Own the Night                              0.309291   \n",
       "Silver Linings Playbook                       0.530758   \n",
       "Freedom Writers                               0.575051   \n",
       "Diary of a Wimpy Kid: Rodrick Rules          -0.487988   \n",
       "The Transporter                              -0.798042   \n",
       "Synecdoche, New York                          0.619345   \n",
       "The Informant!                               -0.089349   \n",
       "The Rage: Carrie 2                           -0.266522   \n",
       "Swing Vote                                    0.442171   \n",
       "Moonlight Mile                                0.087825   \n",
       "Molly                                        -0.355108   \n",
       "The Beaver                                   -0.842335   \n",
       "Everybody's Fine                             -0.487988   \n",
       "\n",
       "                                              director_facebook_likes  \\\n",
       "movie_title                                                             \n",
       "The Host                                                    -0.068297   \n",
       "Lady Vengeance                                              -0.260555   \n",
       "Fateless                                                    -0.245740   \n",
       "Princess Mononoke                                            1.714699   \n",
       "Steamboy                                                    -0.234876   \n",
       "Akira                                                       -0.234876   \n",
       "Godzilla 2000                                               -0.259896   \n",
       "Kabhi Alvida Naa Kehna                                      -0.207881   \n",
       "Tango                                                       -0.228292   \n",
       "Red Cliff                                                   -0.059737   \n",
       "The Legend of Suriyothai                                    -0.258579   \n",
       "The Messenger: The Story of Joan of Arc                     -0.260555   \n",
       "Pirates of the Caribbean: At World's End                    -0.075210   \n",
       "Ong-bak 2                                                   -0.260555   \n",
       "John Carter                                                 -0.104180   \n",
       "Tangled                                                     -0.255616   \n",
       "Spider-Man 3                                                -0.260555   \n",
       "Spider-Man 3                                                -0.260555   \n",
       "Captain America: Civil War                                  -0.229609   \n",
       "The Dark Knight Rises                                        6.982041   \n",
       "Pirates of the Caribbean: On Stranger Tides                 -0.177594   \n",
       "Batman v Superman: Dawn of Justice                          -0.260555   \n",
       "The Hobbit: The Battle of the Five Armies                   -0.260555   \n",
       "Harry Potter and the Half-Blood Prince                      -0.167718   \n",
       "Avengers: Age of Ultron                                     -0.260555   \n",
       "Spectre                                                     -0.260555   \n",
       "Avatar                                                      -0.260555   \n",
       "The Amazing Spider-Man                                      -0.107802   \n",
       "The Hobbit: The Desolation of Smaug                         -0.260555   \n",
       "Men in Black 3                                              -0.198663   \n",
       "...                                                               ...   \n",
       "The Animal                                                  -0.246728   \n",
       "Willard                                                     -0.254958   \n",
       "Summer of Sam                                               -0.260555   \n",
       "Homefront                                                   -0.247715   \n",
       "The Game Plan                                               -0.227963   \n",
       "The Santa Clause                                            -0.256933   \n",
       "Ghost                                                       -0.224671   \n",
       "Jay and Silent Bob Strike Back                              -0.260555   \n",
       "My Fellow Americans                                         -0.231584   \n",
       "Arlington Road                                              -0.231255   \n",
       "Crocodile Dundee in Los Angeles                             -0.252983   \n",
       "Black Book                                                  -0.023853   \n",
       "DOA: Dead or Alive                                          -0.252983   \n",
       "Firefox                                                      5.006787   \n",
       "South Park: Bigger Longer & Uncut                           -0.126896   \n",
       "Hardball                                                    -0.244753   \n",
       "The Royal Tenenbaums                                        -0.260555   \n",
       "We Own the Night                                            -0.222696   \n",
       "Silver Linings Playbook                                     -0.017928   \n",
       "Freedom Writers                                             -0.228292   \n",
       "Diary of a Wimpy Kid: Rodrick Rules                         -0.246728   \n",
       "The Transporter                                             -0.176606   \n",
       "Synecdoche, New York                                        -0.260555   \n",
       "The Informant!                                              -0.260555   \n",
       "The Rage: Carrie 2                                          -0.243436   \n",
       "Swing Vote                                                  -0.260555   \n",
       "Moonlight Mile                                              -0.243436   \n",
       "Molly                                                       -0.254629   \n",
       "The Beaver                                                  -0.260555   \n",
       "Everybody's Fine                                            -0.243436   \n",
       "\n",
       "                                              actor_3_facebook_likes  \\\n",
       "movie_title                                                            \n",
       "The Host                                                        74.0   \n",
       "Lady Vengeance                                                  38.0   \n",
       "Fateless                                                         0.0   \n",
       "Princess Mononoke                                              745.0   \n",
       "Steamboy                                                       101.0   \n",
       "Akira                                                            4.0   \n",
       "Godzilla 2000                                                    3.0   \n",
       "Kabhi Alvida Naa Kehna                                         860.0   \n",
       "Tango                                                            4.0   \n",
       "Red Cliff                                                      478.0   \n",
       "The Legend of Suriyothai                                         6.0   \n",
       "The Messenger: The Story of Joan of Arc                         15.0   \n",
       "Pirates of the Caribbean: At World's End                      1000.0   \n",
       "Ong-bak 2                                                        7.0   \n",
       "John Carter                                                    530.0   \n",
       "Tangled                                                        284.0   \n",
       "Spider-Man 3                                                  4000.0   \n",
       "Spider-Man 3                                                  4000.0   \n",
       "Captain America: Civil War                                   11000.0   \n",
       "The Dark Knight Rises                                        23000.0   \n",
       "Pirates of the Caribbean: On Stranger Tides                   1000.0   \n",
       "Batman v Superman: Dawn of Justice                            2000.0   \n",
       "The Hobbit: The Battle of the Five Armies                      773.0   \n",
       "Harry Potter and the Half-Blood Prince                       10000.0   \n",
       "Avengers: Age of Ultron                                      19000.0   \n",
       "Spectre                                                        161.0   \n",
       "Avatar                                                         855.0   \n",
       "The Amazing Spider-Man                                         963.0   \n",
       "The Hobbit: The Desolation of Smaug                            773.0   \n",
       "Men in Black 3                                                 718.0   \n",
       "...                                                              ...   \n",
       "The Animal                                                     182.0   \n",
       "Willard                                                         86.0   \n",
       "Summer of Sam                                                  854.0   \n",
       "Homefront                                                      798.0   \n",
       "The Game Plan                                                  835.0   \n",
       "The Santa Clause                                               595.0   \n",
       "Ghost                                                           71.0   \n",
       "Jay and Silent Bob Strike Back                                 898.0   \n",
       "My Fellow Americans                                            812.0   \n",
       "Arlington Road                                                 442.0   \n",
       "Crocodile Dundee in Los Angeles                                162.0   \n",
       "Black Book                                                     104.0   \n",
       "DOA: Dead or Alive                                             748.0   \n",
       "Firefox                                                        216.0   \n",
       "South Park: Bigger Longer & Uncut                              406.0   \n",
       "Hardball                                                        39.0   \n",
       "The Royal Tenenbaums                                           327.0   \n",
       "We Own the Night                                                97.0   \n",
       "Silver Linings Playbook                                      14000.0   \n",
       "Freedom Writers                                                579.0   \n",
       "Diary of a Wimpy Kid: Rodrick Rules                            557.0   \n",
       "The Transporter                                                447.0   \n",
       "Synecdoche, New York                                           631.0   \n",
       "The Informant!                                                 690.0   \n",
       "The Rage: Carrie 2                                             484.0   \n",
       "Swing Vote                                                     886.0   \n",
       "Moonlight Mile                                                 347.0   \n",
       "Molly                                                          186.0   \n",
       "The Beaver                                                     220.0   \n",
       "Everybody's Fine                                               148.0   \n",
       "\n",
       "                                                      actor_2_name  \\\n",
       "movie_title                                                          \n",
       "The Host                                              Kang-ho Song   \n",
       "Lady Vengeance                                        Yeong-ae Lee   \n",
       "Fateless                                           Péter Fancsikai   \n",
       "Princess Mononoke                               Jada Pinkett Smith   \n",
       "Steamboy                                        Robin Atkin Downes   \n",
       "Akira                                                Takeshi Kusao   \n",
       "Godzilla 2000                                        Naomi Nishida   \n",
       "Kabhi Alvida Naa Kehna                                John Abraham   \n",
       "Tango                                           Juan Luis Galiardo   \n",
       "Red Cliff                                      Tony Chiu Wai Leung   \n",
       "The Legend of Suriyothai                      Chatchai Plengpanich   \n",
       "The Messenger: The Story of Joan of Arc               David Bailie   \n",
       "Pirates of the Caribbean: At World's End             Orlando Bloom   \n",
       "Ong-bak 2                                      Petchtai Wongkamlao   \n",
       "John Carter                                        Samantha Morton   \n",
       "Tangled                                               Donna Murphy   \n",
       "Spider-Man 3                                          James Franco   \n",
       "Spider-Man 3                                          James Franco   \n",
       "Captain America: Civil War                      Scarlett Johansson   \n",
       "The Dark Knight Rises                               Christian Bale   \n",
       "Pirates of the Caribbean: On Stranger Tides            Sam Claflin   \n",
       "Batman v Superman: Dawn of Justice                    Lauren Cohan   \n",
       "The Hobbit: The Battle of the Five Armies               Adam Brown   \n",
       "Harry Potter and the Half-Blood Prince            Daniel Radcliffe   \n",
       "Avengers: Age of Ultron                          Robert Downey Jr.   \n",
       "Spectre                                               Rory Kinnear   \n",
       "Avatar                                            Joel David Moore   \n",
       "The Amazing Spider-Man                             Andrew Garfield   \n",
       "The Hobbit: The Desolation of Smaug                     Adam Brown   \n",
       "Men in Black 3                                   Michael Stuhlbarg   \n",
       "...                                                            ...   \n",
       "The Animal                                        Michael Papajohn   \n",
       "Willard                                                  Ty Olsson   \n",
       "Summer of Sam                                    Jennifer Esposito   \n",
       "Homefront                                             James Franco   \n",
       "The Game Plan                                        Kyra Sedgwick   \n",
       "The Santa Clause                                        Eric Lloyd   \n",
       "Ghost                                                 Tony Goldwyn   \n",
       "Jay and Silent Bob Strike Back                   Shannon Elizabeth   \n",
       "My Fellow Americans                               Bradley Whitford   \n",
       "Arlington Road                                 Spencer Treat Clark   \n",
       "Crocodile Dundee in Los Angeles                         Paul Hogan   \n",
       "Black Book                                          Sebastian Koch   \n",
       "DOA: Dead or Alive                                   Holly Valance   \n",
       "Firefox                                              Warren Clarke   \n",
       "South Park: Bigger Longer & Uncut                        Eric Idle   \n",
       "Hardball                                              D.B. Sweeney   \n",
       "The Royal Tenenbaums                               Anjelica Huston   \n",
       "We Own the Night                                     Oleg Taktarov   \n",
       "Silver Linings Playbook                             Robert De Niro   \n",
       "Freedom Writers                                        Scott Glenn   \n",
       "Diary of a Wimpy Kid: Rodrick Rules                 Rachael Harris   \n",
       "The Transporter                                             Qi Shu   \n",
       "Synecdoche, New York                          Jennifer Jason Leigh   \n",
       "The Informant!                                         Joel McHale   \n",
       "The Rage: Carrie 2                                Rachel Blanchard   \n",
       "Swing Vote                                          Judge Reinhold   \n",
       "Moonlight Mile                                        Holly Hunter   \n",
       "Molly                                                Jill Hennessy   \n",
       "The Beaver                                            Cherry Jones   \n",
       "Everybody's Fine                                       James Frain   \n",
       "\n",
       "                                              actor_1_facebook_likes  \\\n",
       "movie_title                                                            \n",
       "The Host                                                   -0.455541   \n",
       "Lady Vengeance                                             -0.449838   \n",
       "Fateless                                                   -0.495717   \n",
       "Princess Mononoke                                          -0.438433   \n",
       "Steamboy                                                   -0.464678   \n",
       "Akira                                                      -0.495912   \n",
       "Godzilla 2000                                              -0.493514   \n",
       "Kabhi Alvida Naa Kehna                                      0.022107   \n",
       "Tango                                                      -0.474203   \n",
       "Red Cliff                                                  -0.447376   \n",
       "The Legend of Suriyothai                                   -0.495847   \n",
       "The Messenger: The Story of Joan of Arc                    -0.492996   \n",
       "Pirates of the Caribbean: At World's End                    2.095738   \n",
       "Ong-bak 2                                                  -0.492153   \n",
       "John Carter                                                -0.454828   \n",
       "Tangled                                                    -0.444524   \n",
       "Spider-Man 3                                                1.058923   \n",
       "Spider-Man 3                                                1.058923   \n",
       "Captain America: Civil War                                  0.864520   \n",
       "The Dark Knight Rises                                       1.253325   \n",
       "Pirates of the Caribbean: On Stranger Tides                 2.095738   \n",
       "Batman v Superman: Dawn of Justice                          0.475714   \n",
       "The Hobbit: The Battle of the Five Armies                  -0.172296   \n",
       "Harry Potter and the Half-Blood Prince                      1.123724   \n",
       "Avengers: Age of Ultron                                     1.188525   \n",
       "Spectre                                                     0.216510   \n",
       "Avatar                                                     -0.431499   \n",
       "The Amazing Spider-Man                                      0.475714   \n",
       "The Hobbit: The Desolation of Smaug                        -0.172296   \n",
       "Men in Black 3                                              0.151709   \n",
       "...                                                              ...   \n",
       "The Animal                                                 -0.468047   \n",
       "Willard                                                    -0.452949   \n",
       "Summer of Sam                                              -0.432925   \n",
       "Homefront                                                   1.188525   \n",
       "The Game Plan                                               0.281311   \n",
       "The Santa Clause                                           -0.437915   \n",
       "Ghost                                                      -0.366699   \n",
       "Jay and Silent Bob Strike Back                              0.022107   \n",
       "My Fellow Americans                                        -0.434286   \n",
       "Arlington Road                                              0.281311   \n",
       "Crocodile Dundee in Los Angeles                            -0.466492   \n",
       "Black Book                                                 -0.366699   \n",
       "DOA: Dead or Alive                                         -0.442775   \n",
       "Firefox                                                     0.540515   \n",
       "South Park: Bigger Longer & Uncut                          -0.438433   \n",
       "Hardball                                                    0.670117   \n",
       "The Royal Tenenbaums                                        0.346112   \n",
       "We Own the Night                                           -0.301898   \n",
       "Silver Linings Playbook                                     1.706932   \n",
       "Freedom Writers                                            -0.366699   \n",
       "Diary of a Wimpy Kid: Rodrick Rules                        -0.433119   \n",
       "The Transporter                                             1.188525   \n",
       "Synecdoche, New York                                        0.929321   \n",
       "The Informant!                                              0.346112   \n",
       "The Rage: Carrie 2                                         -0.450227   \n",
       "Swing Vote                                                 -0.431499   \n",
       "Moonlight Mile                                              0.475714   \n",
       "Molly                                                      -0.452884   \n",
       "The Beaver                                                  1.706932   \n",
       "Everybody's Fine                                            0.929321   \n",
       "\n",
       "                                                  gross     genres  \\\n",
       "movie_title                                                          \n",
       "The Host                                      -0.706838     Comedy   \n",
       "Lady Vengeance                                -0.735253      Crime   \n",
       "Fateless                                      -0.735478      Drama   \n",
       "Princess Mononoke                             -0.705456  Adventure   \n",
       "Steamboy                                      -0.732415     Action   \n",
       "Akira                                         -0.732004     Action   \n",
       "Godzilla 2000                                 -0.594934     Action   \n",
       "Kabhi Alvida Naa Kehna                        -0.691500      Drama   \n",
       "Tango                                         -0.714179      Drama   \n",
       "Red Cliff                                     -0.729324     Action   \n",
       "The Legend of Suriyothai                      -0.731788     Action   \n",
       "The Messenger: The Story of Joan of Arc       -0.536470  Adventure   \n",
       "Pirates of the Caribbean: At World's End       3.680244     Action   \n",
       "Ong-bak 2                                     -0.736818     Action   \n",
       "John Carter                                    0.305056     Action   \n",
       "Tangled                                        2.129400  Adventure   \n",
       "Spider-Man 3                                   4.067625     Action   \n",
       "Spider-Man 3                                   4.067625     Action   \n",
       "Captain America: Civil War                     5.076801     Action   \n",
       "The Dark Knight Rises                          5.661360     Action   \n",
       "Pirates of the Caribbean: On Stranger Tides    2.704294     Action   \n",
       "Batman v Superman: Dawn of Justice             3.977924     Action   \n",
       "The Hobbit: The Battle of the Five Armies      2.904860  Adventure   \n",
       "Harry Potter and the Half-Blood Prince         3.573892  Adventure   \n",
       "Avengers: Age of Ultron                        5.816462     Action   \n",
       "Spectre                                        2.118931     Action   \n",
       "Avatar                                        10.122308     Action   \n",
       "The Amazing Spider-Man                         3.003715     Action   \n",
       "The Hobbit: The Desolation of Smaug            2.951229  Adventure   \n",
       "Men in Black 3                                 1.818274     Action   \n",
       "...                                                 ...        ...   \n",
       "The Animal                                     0.058050     Comedy   \n",
       "Willard                                       -0.640422      Drama   \n",
       "Summer of Sam                                 -0.462889      Crime   \n",
       "Homefront                                     -0.455749     Action   \n",
       "The Game Plan                                  0.556087     Comedy   \n",
       "The Santa Clause                               1.330051     Comedy   \n",
       "Ghost                                          2.369660      Drama   \n",
       "Jay and Silent Bob Strike Back                -0.309005     Comedy   \n",
       "My Fellow Americans                           -0.419896  Adventure   \n",
       "Arlington Road                                -0.390361      Crime   \n",
       "Crocodile Dundee in Los Angeles               -0.372830  Adventure   \n",
       "Black Book                                    -0.675463      Drama   \n",
       "DOA: Dead or Alive                            -0.731416     Action   \n",
       "Firefox                                       -0.071365     Action   \n",
       "South Park: Bigger Longer & Uncut              0.004441  Animation   \n",
       "Hardball                                      -0.163908      Drama   \n",
       "The Royal Tenenbaums                           0.009373     Comedy   \n",
       "We Own the Night                              -0.330372      Crime   \n",
       "Silver Linings Playbook                        1.148051     Comedy   \n",
       "Freedom Writers                               -0.215863  Biography   \n",
       "Diary of a Wimpy Kid: Rodrick Rules            0.014191     Comedy   \n",
       "The Transporter                               -0.377024     Action   \n",
       "Synecdoche, New York                          -0.694263     Comedy   \n",
       "The Informant!                                -0.262533     Comedy   \n",
       "The Rage: Carrie 2                            -0.484691     Horror   \n",
       "Swing Vote                                    -0.505723     Comedy   \n",
       "Moonlight Mile                                -0.640724      Drama   \n",
       "Molly                                         -0.738053     Comedy   \n",
       "The Beaver                                    -0.724590      Drama   \n",
       "Everybody's Fine                              -0.611810  Adventure   \n",
       "\n",
       "                                                  ...           country  \\\n",
       "movie_title                                       ...                     \n",
       "The Host                                          ...       South Korea   \n",
       "Lady Vengeance                                    ...       South Korea   \n",
       "Fateless                                          ...           Hungary   \n",
       "Princess Mononoke                                 ...             Japan   \n",
       "Steamboy                                          ...             Japan   \n",
       "Akira                                             ...             Japan   \n",
       "Godzilla 2000                                     ...             Japan   \n",
       "Kabhi Alvida Naa Kehna                            ...             India   \n",
       "Tango                                             ...             Spain   \n",
       "Red Cliff                                         ...             China   \n",
       "The Legend of Suriyothai                          ...          Thailand   \n",
       "The Messenger: The Story of Joan of Arc           ...            France   \n",
       "Pirates of the Caribbean: At World's End          ...               USA   \n",
       "Ong-bak 2                                         ...          Thailand   \n",
       "John Carter                                       ...               USA   \n",
       "Tangled                                           ...               USA   \n",
       "Spider-Man 3                                      ...               USA   \n",
       "Spider-Man 3                                      ...               USA   \n",
       "Captain America: Civil War                        ...               USA   \n",
       "The Dark Knight Rises                             ...               USA   \n",
       "Pirates of the Caribbean: On Stranger Tides       ...               USA   \n",
       "Batman v Superman: Dawn of Justice                ...               USA   \n",
       "The Hobbit: The Battle of the Five Armies         ...       New Zealand   \n",
       "Harry Potter and the Half-Blood Prince            ...                UK   \n",
       "Avengers: Age of Ultron                           ...               USA   \n",
       "Spectre                                           ...                UK   \n",
       "Avatar                                            ...               USA   \n",
       "The Amazing Spider-Man                            ...               USA   \n",
       "The Hobbit: The Desolation of Smaug               ...               USA   \n",
       "Men in Black 3                                    ...               USA   \n",
       "...                                               ...               ...   \n",
       "The Animal                                        ...               USA   \n",
       "Willard                                           ...            Canada   \n",
       "Summer of Sam                                     ...               USA   \n",
       "Homefront                                         ...               USA   \n",
       "The Game Plan                                     ...               USA   \n",
       "The Santa Clause                                  ...               USA   \n",
       "Ghost                                             ...               USA   \n",
       "Jay and Silent Bob Strike Back                    ...               USA   \n",
       "My Fellow Americans                               ...               USA   \n",
       "Arlington Road                                    ...               USA   \n",
       "Crocodile Dundee in Los Angeles                   ...         Australia   \n",
       "Black Book                                        ...       Netherlands   \n",
       "DOA: Dead or Alive                                ...               USA   \n",
       "Firefox                                           ...               USA   \n",
       "South Park: Bigger Longer & Uncut                 ...               USA   \n",
       "Hardball                                          ...               USA   \n",
       "The Royal Tenenbaums                              ...               USA   \n",
       "We Own the Night                                  ...               USA   \n",
       "Silver Linings Playbook                           ...               USA   \n",
       "Freedom Writers                                   ...           Germany   \n",
       "Diary of a Wimpy Kid: Rodrick Rules               ...               USA   \n",
       "The Transporter                                   ...            France   \n",
       "Synecdoche, New York                              ...               USA   \n",
       "The Informant!                                    ...               USA   \n",
       "The Rage: Carrie 2                                ...               USA   \n",
       "Swing Vote                                        ...               USA   \n",
       "Moonlight Mile                                    ...               USA   \n",
       "Molly                                             ...               USA   \n",
       "The Beaver                                        ...               USA   \n",
       "Everybody's Fine                                  ...               USA   \n",
       "\n",
       "                                              content_rating     budget  \\\n",
       "movie_title                                                               \n",
       "The Host                                                   R  54.400735   \n",
       "Lady Vengeance                                             R  18.570869   \n",
       "Fateless                                                   R  10.971746   \n",
       "Princess Mononoke                                      PG-13  10.524738   \n",
       "Steamboy                                               PG-13   9.306732   \n",
       "Akira                                                      R   4.713644   \n",
       "Godzilla 2000                                             PG   4.266637   \n",
       "Kabhi Alvida Naa Kehna                                     R   2.925615   \n",
       "Tango                                                  PG-13   2.925615   \n",
       "Red Cliff                                                  R   2.271339   \n",
       "The Legend of Suriyothai                                   R   1.584593   \n",
       "The Messenger: The Story of Joan of Arc                    R   1.539892   \n",
       "Pirates of the Caribbean: At World's End               PG-13   1.137586   \n",
       "Ong-bak 2                                                  R   1.137586   \n",
       "John Carter                                            PG-13   0.975322   \n",
       "Tangled                                                   PG   0.958783   \n",
       "Spider-Man 3                                           PG-13   0.949843   \n",
       "Spider-Man 3                                           PG-13   0.949843   \n",
       "Captain America: Civil War                             PG-13   0.914082   \n",
       "The Dark Knight Rises                                  PG-13   0.914082   \n",
       "Pirates of the Caribbean: On Stranger Tides            PG-13   0.914082   \n",
       "Batman v Superman: Dawn of Justice                     PG-13   0.914082   \n",
       "The Hobbit: The Battle of the Five Armies              PG-13   0.914082   \n",
       "Harry Potter and the Half-Blood Prince                    PG   0.914082   \n",
       "Avengers: Age of Ultron                                PG-13   0.914082   \n",
       "Spectre                                                PG-13   0.891732   \n",
       "Avatar                                                 PG-13   0.855971   \n",
       "The Amazing Spider-Man                                 PG-13   0.824681   \n",
       "The Hobbit: The Desolation of Smaug                    PG-13   0.802331   \n",
       "Men in Black 3                                         PG-13   0.802331   \n",
       "...                                                      ...        ...   \n",
       "The Animal                                             PG-13  -0.105094   \n",
       "Willard                                                PG-13  -0.105094   \n",
       "Summer of Sam                                              R  -0.105094   \n",
       "Homefront                                                  R  -0.105094   \n",
       "The Game Plan                                             PG  -0.105094   \n",
       "The Santa Clause                                          PG  -0.105094   \n",
       "Ghost                                                  PG-13  -0.105094   \n",
       "Jay and Silent Bob Strike Back                             R  -0.105094   \n",
       "My Fellow Americans                                    PG-13  -0.107329   \n",
       "Arlington Road                                             R  -0.107329   \n",
       "Crocodile Dundee in Los Angeles                           PG  -0.108894   \n",
       "Black Book                                                 R  -0.109564   \n",
       "DOA: Dead or Alive                                     PG-13  -0.109564   \n",
       "Firefox                                                   PG  -0.109564   \n",
       "South Park: Bigger Longer & Uncut                          R  -0.109564   \n",
       "Hardball                                               PG-13  -0.109564   \n",
       "The Royal Tenenbaums                                       R  -0.109564   \n",
       "We Own the Night                                           R  -0.109564   \n",
       "Silver Linings Playbook                                    R  -0.109564   \n",
       "Freedom Writers                                        PG-13  -0.109564   \n",
       "Diary of a Wimpy Kid: Rodrick Rules                       PG  -0.109564   \n",
       "The Transporter                                        PG-13  -0.109564   \n",
       "Synecdoche, New York                                       R  -0.109564   \n",
       "The Informant!                                             R  -0.109564   \n",
       "The Rage: Carrie 2                                         R  -0.109564   \n",
       "Swing Vote                                             PG-13  -0.109564   \n",
       "Moonlight Mile                                         PG-13  -0.109564   \n",
       "Molly                                                  PG-13  -0.109564   \n",
       "The Beaver                                             PG-13  -0.109564   \n",
       "Everybody's Fine                                       PG-13  -0.109564   \n",
       "\n",
       "                                             title_year  \\\n",
       "movie_title                                               \n",
       "The Host                                         2006.0   \n",
       "Lady Vengeance                                   2005.0   \n",
       "Fateless                                         2005.0   \n",
       "Princess Mononoke                                1997.0   \n",
       "Steamboy                                         2004.0   \n",
       "Akira                                            1988.0   \n",
       "Godzilla 2000                                    1999.0   \n",
       "Kabhi Alvida Naa Kehna                           2006.0   \n",
       "Tango                                            1998.0   \n",
       "Red Cliff                                        2008.0   \n",
       "The Legend of Suriyothai                         2001.0   \n",
       "The Messenger: The Story of Joan of Arc          1999.0   \n",
       "Pirates of the Caribbean: At World's End         2007.0   \n",
       "Ong-bak 2                                        2008.0   \n",
       "John Carter                                      2012.0   \n",
       "Tangled                                          2010.0   \n",
       "Spider-Man 3                                     2007.0   \n",
       "Spider-Man 3                                     2007.0   \n",
       "Captain America: Civil War                       2016.0   \n",
       "The Dark Knight Rises                            2012.0   \n",
       "Pirates of the Caribbean: On Stranger Tides      2011.0   \n",
       "Batman v Superman: Dawn of Justice               2016.0   \n",
       "The Hobbit: The Battle of the Five Armies        2014.0   \n",
       "Harry Potter and the Half-Blood Prince           2009.0   \n",
       "Avengers: Age of Ultron                          2015.0   \n",
       "Spectre                                          2015.0   \n",
       "Avatar                                           2009.0   \n",
       "The Amazing Spider-Man                           2012.0   \n",
       "The Hobbit: The Desolation of Smaug              2013.0   \n",
       "Men in Black 3                                   2012.0   \n",
       "...                                                 ...   \n",
       "The Animal                                       2001.0   \n",
       "Willard                                          2003.0   \n",
       "Summer of Sam                                    1999.0   \n",
       "Homefront                                        2013.0   \n",
       "The Game Plan                                    2007.0   \n",
       "The Santa Clause                                 1994.0   \n",
       "Ghost                                            1990.0   \n",
       "Jay and Silent Bob Strike Back                   2001.0   \n",
       "My Fellow Americans                              1996.0   \n",
       "Arlington Road                                   1999.0   \n",
       "Crocodile Dundee in Los Angeles                  2001.0   \n",
       "Black Book                                       2006.0   \n",
       "DOA: Dead or Alive                               2006.0   \n",
       "Firefox                                          1982.0   \n",
       "South Park: Bigger Longer & Uncut                1999.0   \n",
       "Hardball                                         2001.0   \n",
       "The Royal Tenenbaums                             2001.0   \n",
       "We Own the Night                                 2007.0   \n",
       "Silver Linings Playbook                          2012.0   \n",
       "Freedom Writers                                  2007.0   \n",
       "Diary of a Wimpy Kid: Rodrick Rules              2011.0   \n",
       "The Transporter                                  2002.0   \n",
       "Synecdoche, New York                             2008.0   \n",
       "The Informant!                                   2009.0   \n",
       "The Rage: Carrie 2                               1999.0   \n",
       "Swing Vote                                       2008.0   \n",
       "Moonlight Mile                                   2002.0   \n",
       "Molly                                            1999.0   \n",
       "The Beaver                                       2011.0   \n",
       "Everybody's Fine                                 2009.0   \n",
       "\n",
       "                                              actor_2_facebook_likes  \\\n",
       "movie_title                                                            \n",
       "The Host                                                   -0.353520   \n",
       "Lady Vengeance                                             -0.413853   \n",
       "Fateless                                                   -0.441358   \n",
       "Princess Mononoke                                          -0.253038   \n",
       "Steamboy                                                   -0.367272   \n",
       "Akira                                                      -0.440692   \n",
       "Godzilla 2000                                              -0.441136   \n",
       "Kabhi Alvida Naa Kehna                                     -0.219988   \n",
       "Tango                                                      -0.436034   \n",
       "Red Cliff                                                  -0.299175   \n",
       "The Legend of Suriyothai                                   -0.440470   \n",
       "The Messenger: The Story of Joan of Arc                    -0.432929   \n",
       "Pirates of the Caribbean: At World's End                    0.667264   \n",
       "Ong-bak 2                                                  -0.431820   \n",
       "John Carter                                                -0.301615   \n",
       "Tangled                                                    -0.319139   \n",
       "Spider-Man 3                                                1.998143   \n",
       "Spider-Man 3                                                1.998143   \n",
       "Captain America: Civil War                                  3.772647   \n",
       "The Dark Knight Rises                                       4.659900   \n",
       "Pirates of the Caribbean: On Stranger Tides                 1.998143   \n",
       "Batman v Superman: Dawn of Justice                          0.445451   \n",
       "The Hobbit: The Battle of the Five Armies                  -0.226199   \n",
       "Harry Potter and the Half-Blood Prince                      1.998143   \n",
       "Avengers: Age of Ultron                                     4.216273   \n",
       "Spectre                                                    -0.354629   \n",
       "Avatar                                                     -0.234184   \n",
       "The Amazing Spider-Man                                      1.776330   \n",
       "The Hobbit: The Desolation of Smaug                        -0.226199   \n",
       "Men in Black 3                                             -0.260802   \n",
       "...                                                              ...   \n",
       "The Animal                                                 -0.388344   \n",
       "Willard                                                    -0.346643   \n",
       "Summer of Sam                                              -0.239729   \n",
       "Homefront                                                   1.998143   \n",
       "The Game Plan                                              -0.233075   \n",
       "The Santa Clause                                           -0.269896   \n",
       "Ghost                                                      -0.229748   \n",
       "Jay and Silent Bob Strike Back                             -0.219988   \n",
       "My Fellow Americans                                        -0.259693   \n",
       "Arlington Road                                             -0.321800   \n",
       "Crocodile Dundee in Los Angeles                            -0.343760   \n",
       "Black Book                                                 -0.357512   \n",
       "DOA: Dead or Alive                                         -0.260802   \n",
       "Firefox                                                    -0.379472   \n",
       "South Park: Bigger Longer & Uncut                          -0.265460   \n",
       "Hardball                                                   -0.318029   \n",
       "The Royal Tenenbaums                                       -0.219988   \n",
       "We Own the Night                                           -0.369268   \n",
       "Silver Linings Playbook                                     4.438087   \n",
       "Freedom Writers                                            -0.258584   \n",
       "Diary of a Wimpy Kid: Rodrick Rules                        -0.315590   \n",
       "The Transporter                                            -0.219988   \n",
       "Synecdoche, New York                                       -0.219988   \n",
       "The Informant!                                             -0.278990   \n",
       "The Rage: Carrie 2                                         -0.333113   \n",
       "Swing Vote                                                 -0.241948   \n",
       "Moonlight Mile                                             -0.219988   \n",
       "Molly                                                      -0.348861   \n",
       "The Beaver                                                 -0.388122   \n",
       "Everybody's Fine                                           -0.219988   \n",
       "\n",
       "                                             imdb_score aspect_ratio  \\\n",
       "movie_title                                                            \n",
       "The Host                                            7.0         1.85   \n",
       "Lady Vengeance                                      7.7         2.35   \n",
       "Fateless                                            7.1         2.35   \n",
       "Princess Mononoke                                   8.4         1.85   \n",
       "Steamboy                                            6.9         1.85   \n",
       "Akira                                               8.1         1.85   \n",
       "Godzilla 2000                                       6.0         2.35   \n",
       "Kabhi Alvida Naa Kehna                              6.0         2.35   \n",
       "Tango                                               7.2         2.00   \n",
       "Red Cliff                                           7.4         2.35   \n",
       "The Legend of Suriyothai                            6.6         1.85   \n",
       "The Messenger: The Story of Joan of Arc             6.4         2.35   \n",
       "Pirates of the Caribbean: At World's End            7.1         2.35   \n",
       "Ong-bak 2                                           6.2         2.35   \n",
       "John Carter                                         6.6         2.35   \n",
       "Tangled                                             7.8         1.85   \n",
       "Spider-Man 3                                        6.2         2.35   \n",
       "Spider-Man 3                                        6.2         2.35   \n",
       "Captain America: Civil War                          8.2         2.35   \n",
       "The Dark Knight Rises                               8.5         2.35   \n",
       "Pirates of the Caribbean: On Stranger Tides         6.7         2.35   \n",
       "Batman v Superman: Dawn of Justice                  6.9         2.35   \n",
       "The Hobbit: The Battle of the Five Armies           7.5         2.35   \n",
       "Harry Potter and the Half-Blood Prince              7.5         2.35   \n",
       "Avengers: Age of Ultron                             7.5         2.35   \n",
       "Spectre                                             6.8         2.35   \n",
       "Avatar                                              7.9         1.78   \n",
       "The Amazing Spider-Man                              7.0         2.35   \n",
       "The Hobbit: The Desolation of Smaug                 7.9         2.35   \n",
       "Men in Black 3                                      6.8         1.85   \n",
       "...                                                 ...          ...   \n",
       "The Animal                                          4.8         1.85   \n",
       "Willard                                             6.2         2.35   \n",
       "Summer of Sam                                       6.6         1.85   \n",
       "Homefront                                           6.5         2.35   \n",
       "The Game Plan                                       6.2         2.35   \n",
       "The Santa Clause                                    6.4         1.85   \n",
       "Ghost                                               7.0         1.85   \n",
       "Jay and Silent Bob Strike Back                      6.9         2.35   \n",
       "My Fellow Americans                                 6.5         1.85   \n",
       "Arlington Road                                      7.2         2.35   \n",
       "Crocodile Dundee in Los Angeles                     4.8         1.85   \n",
       "Black Book                                          7.8         2.35   \n",
       "DOA: Dead or Alive                                  4.8         2.35   \n",
       "Firefox                                             5.9         2.35   \n",
       "South Park: Bigger Longer & Uncut                   7.8         1.85   \n",
       "Hardball                                            6.3         1.85   \n",
       "The Royal Tenenbaums                                7.6         2.35   \n",
       "We Own the Night                                    6.9         1.85   \n",
       "Silver Linings Playbook                             7.8         2.35   \n",
       "Freedom Writers                                     7.5         1.85   \n",
       "Diary of a Wimpy Kid: Rodrick Rules                 6.6         2.35   \n",
       "The Transporter                                     6.8         2.35   \n",
       "Synecdoche, New York                                7.5         2.35   \n",
       "The Informant!                                      6.5         1.85   \n",
       "The Rage: Carrie 2                                  4.6         1.85   \n",
       "Swing Vote                                          6.1         2.35   \n",
       "Moonlight Mile                                      6.7         2.35   \n",
       "Molly                                               5.8         1.85   \n",
       "The Beaver                                          6.7         2.35   \n",
       "Everybody's Fine                                    7.2         2.35   \n",
       "\n",
       "                                              movie_facebook_likes     ratio  \\\n",
       "movie_title                                                                    \n",
       "The Host                                                 -0.105261  0.000180   \n",
       "Lady Vengeance                                           -0.245279  0.000050   \n",
       "Fateless                                                 -0.403640  0.000078   \n",
       "Princess Mononoke                                         0.081431  0.000958   \n",
       "Steamboy                                                 -0.386558  0.000193   \n",
       "Akira                                                    -0.431971  0.000399   \n",
       "Godzilla 2000                                            -0.416149  0.010037   \n",
       "Kabhi Alvida Naa Kehna                                   -0.401213  0.004679   \n",
       "Tango                                                    -0.406814  0.002410   \n",
       "Red Cliff                                                -0.431971  0.001132   \n",
       "The Legend of Suriyothai                                 -0.426183  0.001136   \n",
       "The Messenger: The Story of Joan of Arc                  -0.431971  0.036234   \n",
       "Pirates of the Caribbean: At World's End                 -0.431971  1.031347   \n",
       "Ong-bak 2                                                -0.431971  0.000340   \n",
       "John Carter                                               0.688178  0.277052   \n",
       "Tangled                                                   0.921542  0.772336   \n",
       "Spider-Man 3                                             -0.431971  1.304381   \n",
       "Spider-Man 3                                             -0.431971  1.304381   \n",
       "Captain America: Civil War                                2.928475  1.628789   \n",
       "The Dark Knight Rises                                     7.222379  1.792523   \n",
       "Pirates of the Caribbean: On Stranger Tides               2.275055  0.964256   \n",
       "Batman v Superman: Dawn of Justice                        8.762583  1.320996   \n",
       "The Hobbit: The Battle of the Five Armies                 2.601765  1.020433   \n",
       "Harry Potter and the Half-Blood Prince                    0.034758  1.207828   \n",
       "Avengers: Age of Ultron                                   5.075427  1.835966   \n",
       "Spectre                                                   3.535223  0.816629   \n",
       "Avatar                                                    1.108234  3.208885   \n",
       "The Amazing Spider-Man                                    2.181710  1.139264   \n",
       "The Hobbit: The Desolation of Smaug                       3.441877  1.148246   \n",
       "Men in Black 3                                            1.434944  0.795648   \n",
       "...                                                            ...       ...   \n",
       "The Animal                                               -0.385298  2.534647   \n",
       "Willard                                                  -0.431971  0.311461   \n",
       "Summer of Sam                                            -0.431971  0.876536   \n",
       "Homefront                                                 0.268122  0.899263   \n",
       "The Game Plan                                            -0.431971  4.119863   \n",
       "The Santa Clause                                         -0.431971  6.583334   \n",
       "Ghost                                                    -0.431971  9.892332   \n",
       "Jay and Silent Bob Strike Back                           -0.431971  1.366336   \n",
       "My Fellow Americans                                      -0.396593  1.036946   \n",
       "Arlington Road                                           -0.431971  1.133140   \n",
       "Crocodile Dundee in Los Angeles                          -0.413908  1.209935   \n",
       "Black Book                                               -0.431971  0.209447   \n",
       "DOA: Dead or Alive                                       -0.431971  0.022872   \n",
       "Firefox                                                  -0.431971  2.223810   \n",
       "South Park: Bigger Longer & Uncut                        -0.431971  2.476585   \n",
       "Hardball                                                 -0.431971  1.915224   \n",
       "The Royal Tenenbaums                                     -0.431971  2.493030   \n",
       "We Own the Night                                         -0.431971  1.360151   \n",
       "Silver Linings Playbook                                   5.028754  6.289948   \n",
       "Freedom Writers                                           0.034758  1.741983   \n",
       "Diary of a Wimpy Kid: Rodrick Rules                      -0.431971  2.509096   \n",
       "The Transporter                                          -0.431971  1.204593   \n",
       "Synecdoche, New York                                      0.174776  0.146758   \n",
       "The Informant!                                           -0.431971  1.586361   \n",
       "The Rage: Carrie 2                                       -0.390105  0.845576   \n",
       "Swing Vote                                               -0.385298  0.775446   \n",
       "Moonlight Mile                                           -0.414935  0.325284   \n",
       "Molly                                                    -0.418716  0.000743   \n",
       "The Beaver                                                0.361468  0.045634   \n",
       "Everybody's Fine                                          0.034758  0.421697   \n",
       "\n",
       "                                             profit_making  \n",
       "movie_title                                                 \n",
       "The Host                                             False  \n",
       "Lady Vengeance                                       False  \n",
       "Fateless                                             False  \n",
       "Princess Mononoke                                    False  \n",
       "Steamboy                                             False  \n",
       "Akira                                                False  \n",
       "Godzilla 2000                                        False  \n",
       "Kabhi Alvida Naa Kehna                               False  \n",
       "Tango                                                False  \n",
       "Red Cliff                                            False  \n",
       "The Legend of Suriyothai                             False  \n",
       "The Messenger: The Story of Joan of Arc              False  \n",
       "Pirates of the Caribbean: At World's End             False  \n",
       "Ong-bak 2                                            False  \n",
       "John Carter                                          False  \n",
       "Tangled                                              False  \n",
       "Spider-Man 3                                          True  \n",
       "Spider-Man 3                                          True  \n",
       "Captain America: Civil War                            True  \n",
       "The Dark Knight Rises                                 True  \n",
       "Pirates of the Caribbean: On Stranger Tides          False  \n",
       "Batman v Superman: Dawn of Justice                    True  \n",
       "The Hobbit: The Battle of the Five Armies            False  \n",
       "Harry Potter and the Half-Blood Prince                True  \n",
       "Avengers: Age of Ultron                               True  \n",
       "Spectre                                              False  \n",
       "Avatar                                                True  \n",
       "The Amazing Spider-Man                               False  \n",
       "The Hobbit: The Desolation of Smaug                  False  \n",
       "Men in Black 3                                       False  \n",
       "...                                                    ...  \n",
       "The Animal                                            True  \n",
       "Willard                                              False  \n",
       "Summer of Sam                                        False  \n",
       "Homefront                                            False  \n",
       "The Game Plan                                         True  \n",
       "The Santa Clause                                      True  \n",
       "Ghost                                                 True  \n",
       "Jay and Silent Bob Strike Back                        True  \n",
       "My Fellow Americans                                  False  \n",
       "Arlington Road                                       False  \n",
       "Crocodile Dundee in Los Angeles                       True  \n",
       "Black Book                                           False  \n",
       "DOA: Dead or Alive                                   False  \n",
       "Firefox                                               True  \n",
       "South Park: Bigger Longer & Uncut                     True  \n",
       "Hardball                                              True  \n",
       "The Royal Tenenbaums                                  True  \n",
       "We Own the Night                                      True  \n",
       "Silver Linings Playbook                               True  \n",
       "Freedom Writers                                       True  \n",
       "Diary of a Wimpy Kid: Rodrick Rules                   True  \n",
       "The Transporter                                       True  \n",
       "Synecdoche, New York                                 False  \n",
       "The Informant!                                        True  \n",
       "The Rage: Carrie 2                                   False  \n",
       "Swing Vote                                           False  \n",
       "Moonlight Mile                                       False  \n",
       "Molly                                                False  \n",
       "The Beaver                                           False  \n",
       "Everybody's Fine                                     False  \n",
       "\n",
       "[2052 rows x 29 columns]"
      ]
     },
     "execution_count": 669,
     "metadata": {},
     "output_type": "execute_result"
    }
   ],
   "source": [
    "titles_highb.sort_values('budget', ascending=False)"
   ]
  },
  {
   "cell_type": "code",
   "execution_count": 670,
   "metadata": {},
   "outputs": [
    {
     "data": {
      "text/plain": [
       "0.52829131652661065"
      ]
     },
     "execution_count": 670,
     "metadata": {},
     "output_type": "execute_result"
    }
   ],
   "source": [
    "titles_lowb.profit_making.mean()"
   ]
  },
  {
   "cell_type": "code",
   "execution_count": 671,
   "metadata": {
    "collapsed": true
   },
   "outputs": [],
   "source": [
    "from matplotlib import rcParams\n",
    "sns.set_style(\"whitegrid\")\n",
    "sns.set_context(\"poster\")\n",
    "from sklearn.linear_model import LinearRegression\n",
    "from sklearn.utils import shuffle\n"
   ]
  },
  {
   "cell_type": "code",
   "execution_count": 672,
   "metadata": {
    "collapsed": true
   },
   "outputs": [],
   "source": [
    "titles_highb=shuffle(titles_highb)"
   ]
  },
  {
   "cell_type": "code",
   "execution_count": 673,
   "metadata": {},
   "outputs": [
    {
     "data": {
      "text/html": [
       "<div>\n",
       "<style>\n",
       "    .dataframe thead tr:only-child th {\n",
       "        text-align: right;\n",
       "    }\n",
       "\n",
       "    .dataframe thead th {\n",
       "        text-align: left;\n",
       "    }\n",
       "\n",
       "    .dataframe tbody tr th {\n",
       "        vertical-align: top;\n",
       "    }\n",
       "</style>\n",
       "<table border=\"1\" class=\"dataframe\">\n",
       "  <thead>\n",
       "    <tr style=\"text-align: right;\">\n",
       "      <th></th>\n",
       "      <th>color</th>\n",
       "      <th>director_name</th>\n",
       "      <th>num_critic_for_reviews</th>\n",
       "      <th>duration</th>\n",
       "      <th>director_facebook_likes</th>\n",
       "      <th>actor_3_facebook_likes</th>\n",
       "      <th>actor_2_name</th>\n",
       "      <th>actor_1_facebook_likes</th>\n",
       "      <th>gross</th>\n",
       "      <th>genres</th>\n",
       "      <th>...</th>\n",
       "      <th>country</th>\n",
       "      <th>content_rating</th>\n",
       "      <th>budget</th>\n",
       "      <th>title_year</th>\n",
       "      <th>actor_2_facebook_likes</th>\n",
       "      <th>imdb_score</th>\n",
       "      <th>aspect_ratio</th>\n",
       "      <th>movie_facebook_likes</th>\n",
       "      <th>ratio</th>\n",
       "      <th>profit_making</th>\n",
       "    </tr>\n",
       "    <tr>\n",
       "      <th>movie_title</th>\n",
       "      <th></th>\n",
       "      <th></th>\n",
       "      <th></th>\n",
       "      <th></th>\n",
       "      <th></th>\n",
       "      <th></th>\n",
       "      <th></th>\n",
       "      <th></th>\n",
       "      <th></th>\n",
       "      <th></th>\n",
       "      <th></th>\n",
       "      <th></th>\n",
       "      <th></th>\n",
       "      <th></th>\n",
       "      <th></th>\n",
       "      <th></th>\n",
       "      <th></th>\n",
       "      <th></th>\n",
       "      <th></th>\n",
       "      <th></th>\n",
       "      <th></th>\n",
       "    </tr>\n",
       "  </thead>\n",
       "  <tbody>\n",
       "    <tr>\n",
       "      <th>Night at the Museum</th>\n",
       "      <td>Color</td>\n",
       "      <td>Shawn Levy</td>\n",
       "      <td>179.0</td>\n",
       "      <td>-0.089349</td>\n",
       "      <td>-0.198334</td>\n",
       "      <td>1000.0</td>\n",
       "      <td>Rami Malek</td>\n",
       "      <td>2.678947</td>\n",
       "      <td>2.844237</td>\n",
       "      <td>Action</td>\n",
       "      <td>...</td>\n",
       "      <td>USA</td>\n",
       "      <td>PG</td>\n",
       "      <td>0.288272</td>\n",
       "      <td>2006.0</td>\n",
       "      <td>0.223638</td>\n",
       "      <td>6.4</td>\n",
       "      <td>1.85</td>\n",
       "      <td>-0.291952</td>\n",
       "      <td>2.280575</td>\n",
       "      <td>True</td>\n",
       "    </tr>\n",
       "    <tr>\n",
       "      <th>Abandon</th>\n",
       "      <td>Color</td>\n",
       "      <td>Stephen Gaghan</td>\n",
       "      <td>72.0</td>\n",
       "      <td>-0.487988</td>\n",
       "      <td>-0.234547</td>\n",
       "      <td>956.0</td>\n",
       "      <td>Zooey Deschanel</td>\n",
       "      <td>0.540515</td>\n",
       "      <td>-0.585195</td>\n",
       "      <td>Drama</td>\n",
       "      <td>...</td>\n",
       "      <td>USA</td>\n",
       "      <td>PG-13</td>\n",
       "      <td>-0.091684</td>\n",
       "      <td>2002.0</td>\n",
       "      <td>1.998143</td>\n",
       "      <td>4.9</td>\n",
       "      <td>2.35</td>\n",
       "      <td>-0.419789</td>\n",
       "      <td>0.428775</td>\n",
       "      <td>False</td>\n",
       "    </tr>\n",
       "    <tr>\n",
       "      <th>Hudson Hawk</th>\n",
       "      <td>Color</td>\n",
       "      <td>Michael Lehmann</td>\n",
       "      <td>60.0</td>\n",
       "      <td>-0.443695</td>\n",
       "      <td>-0.248703</td>\n",
       "      <td>554.0</td>\n",
       "      <td>James Coburn</td>\n",
       "      <td>0.346112</td>\n",
       "      <td>-0.492389</td>\n",
       "      <td>Action</td>\n",
       "      <td>...</td>\n",
       "      <td>USA</td>\n",
       "      <td>R</td>\n",
       "      <td>0.109469</td>\n",
       "      <td>1991.0</td>\n",
       "      <td>-0.270340</td>\n",
       "      <td>5.7</td>\n",
       "      <td>1.85</td>\n",
       "      <td>-0.431971</td>\n",
       "      <td>0.245973</td>\n",
       "      <td>False</td>\n",
       "    </tr>\n",
       "    <tr>\n",
       "      <th>True Grit</th>\n",
       "      <td>Color</td>\n",
       "      <td>Ethan Coen</td>\n",
       "      <td>493.0</td>\n",
       "      <td>-0.000762</td>\n",
       "      <td>0.068654</td>\n",
       "      <td>538.0</td>\n",
       "      <td>Jeff Bridges</td>\n",
       "      <td>0.346112</td>\n",
       "      <td>1.704178</td>\n",
       "      <td>Adventure</td>\n",
       "      <td>...</td>\n",
       "      <td>USA</td>\n",
       "      <td>PG-13</td>\n",
       "      <td>-0.033573</td>\n",
       "      <td>2010.0</td>\n",
       "      <td>2.219956</td>\n",
       "      <td>7.7</td>\n",
       "      <td>2.35</td>\n",
       "      <td>1.248252</td>\n",
       "      <td>4.500825</td>\n",
       "      <td>True</td>\n",
       "    </tr>\n",
       "    <tr>\n",
       "      <th>Jurassic Park</th>\n",
       "      <td>Color</td>\n",
       "      <td>Steven Spielberg</td>\n",
       "      <td>308.0</td>\n",
       "      <td>0.752225</td>\n",
       "      <td>4.348370</td>\n",
       "      <td>191.0</td>\n",
       "      <td>Ariana Richards</td>\n",
       "      <td>-0.433638</td>\n",
       "      <td>4.356863</td>\n",
       "      <td>Adventure</td>\n",
       "      <td>...</td>\n",
       "      <td>USA</td>\n",
       "      <td>PG-13</td>\n",
       "      <td>0.078179</td>\n",
       "      <td>1993.0</td>\n",
       "      <td>-0.306495</td>\n",
       "      <td>8.1</td>\n",
       "      <td>1.85</td>\n",
       "      <td>0.454814</td>\n",
       "      <td>5.663238</td>\n",
       "      <td>True</td>\n",
       "    </tr>\n",
       "  </tbody>\n",
       "</table>\n",
       "<p>5 rows × 29 columns</p>\n",
       "</div>"
      ],
      "text/plain": [
       "                      color     director_name  num_critic_for_reviews  \\\n",
       "movie_title                                                             \n",
       "Night at the Museum   Color        Shawn Levy                   179.0   \n",
       "Abandon               Color    Stephen Gaghan                    72.0   \n",
       "Hudson Hawk           Color   Michael Lehmann                    60.0   \n",
       "True Grit             Color        Ethan Coen                   493.0   \n",
       "Jurassic Park         Color  Steven Spielberg                   308.0   \n",
       "\n",
       "                      duration  director_facebook_likes  \\\n",
       "movie_title                                               \n",
       "Night at the Museum  -0.089349                -0.198334   \n",
       "Abandon              -0.487988                -0.234547   \n",
       "Hudson Hawk          -0.443695                -0.248703   \n",
       "True Grit            -0.000762                 0.068654   \n",
       "Jurassic Park         0.752225                 4.348370   \n",
       "\n",
       "                      actor_3_facebook_likes     actor_2_name  \\\n",
       "movie_title                                                     \n",
       "Night at the Museum                   1000.0       Rami Malek   \n",
       "Abandon                                956.0  Zooey Deschanel   \n",
       "Hudson Hawk                            554.0     James Coburn   \n",
       "True Grit                              538.0     Jeff Bridges   \n",
       "Jurassic Park                          191.0  Ariana Richards   \n",
       "\n",
       "                      actor_1_facebook_likes     gross     genres  \\\n",
       "movie_title                                                         \n",
       "Night at the Museum                 2.678947  2.844237     Action   \n",
       "Abandon                             0.540515 -0.585195      Drama   \n",
       "Hudson Hawk                         0.346112 -0.492389     Action   \n",
       "True Grit                           0.346112  1.704178  Adventure   \n",
       "Jurassic Park                      -0.433638  4.356863  Adventure   \n",
       "\n",
       "                          ...      country  content_rating    budget  \\\n",
       "movie_title               ...                                          \n",
       "Night at the Museum       ...          USA              PG  0.288272   \n",
       "Abandon                   ...          USA           PG-13 -0.091684   \n",
       "Hudson Hawk               ...          USA               R  0.109469   \n",
       "True Grit                 ...          USA           PG-13 -0.033573   \n",
       "Jurassic Park             ...          USA           PG-13  0.078179   \n",
       "\n",
       "                     title_year  actor_2_facebook_likes imdb_score  \\\n",
       "movie_title                                                          \n",
       "Night at the Museum      2006.0                0.223638        6.4   \n",
       "Abandon                  2002.0                1.998143        4.9   \n",
       "Hudson Hawk              1991.0               -0.270340        5.7   \n",
       "True Grit                2010.0                2.219956        7.7   \n",
       "Jurassic Park            1993.0               -0.306495        8.1   \n",
       "\n",
       "                     aspect_ratio  movie_facebook_likes     ratio  \\\n",
       "movie_title                                                         \n",
       "Night at the Museum          1.85             -0.291952  2.280575   \n",
       "Abandon                      2.35             -0.419789  0.428775   \n",
       "Hudson Hawk                  1.85             -0.431971  0.245973   \n",
       "True Grit                    2.35              1.248252  4.500825   \n",
       "Jurassic Park                1.85              0.454814  5.663238   \n",
       "\n",
       "                     profit_making  \n",
       "movie_title                         \n",
       "Night at the Museum           True  \n",
       "Abandon                      False  \n",
       "Hudson Hawk                  False  \n",
       "True Grit                     True  \n",
       "Jurassic Park                 True  \n",
       "\n",
       "[5 rows x 29 columns]"
      ]
     },
     "execution_count": 673,
     "metadata": {},
     "output_type": "execute_result"
    }
   ],
   "source": [
    "titles_highb.head()"
   ]
  },
  {
   "cell_type": "code",
   "execution_count": 674,
   "metadata": {
    "collapsed": true
   },
   "outputs": [],
   "source": [
    "titles_highb=titles_highb[['imdb_score','gross', 'budget', 'ratio', 'director_facebook_likes' , 'content_rating' , 'title_year' , 'movie_facebook_likes' ,'actor_1_facebook_likes','actor_2_facebook_likes','actor_3_facebook_likes']]"
   ]
  },
  {
   "cell_type": "code",
   "execution_count": 675,
   "metadata": {
    "collapsed": true
   },
   "outputs": [],
   "source": [
    "titles_highb=titles_highb.dropna(axis=0, subset = ['actor_1_facebook_likes','actor_2_facebook_likes','actor_3_facebook_likes'])"
   ]
  },
  {
   "cell_type": "code",
   "execution_count": 676,
   "metadata": {
    "collapsed": true
   },
   "outputs": [],
   "source": [
    "titles_highb_train=titles_highb[:1500]\n",
    "titles_highb_test=titles_highb[1500:]"
   ]
  },
  {
   "cell_type": "code",
   "execution_count": 677,
   "metadata": {
    "collapsed": true
   },
   "outputs": [],
   "source": [
    "linear_regression_highb= LinearRegression()"
   ]
  },
  {
   "cell_type": "code",
   "execution_count": 678,
   "metadata": {},
   "outputs": [
    {
     "data": {
      "text/plain": [
       "LinearRegression(copy_X=True, fit_intercept=True, n_jobs=1, normalize=False)"
      ]
     },
     "execution_count": 678,
     "metadata": {},
     "output_type": "execute_result"
    }
   ],
   "source": [
    "linear_regression_highb.fit(titles_highb_train[['title_year','budget','imdb_score','director_facebook_likes' ,  'actor_1_facebook_likes', 'actor_2_facebook_likes' , 'actor_3_facebook_likes']] , titles_highb_train.ratio)"
   ]
  },
  {
   "cell_type": "code",
   "execution_count": 679,
   "metadata": {},
   "outputs": [
    {
     "data": {
      "text/plain": [
       "array([ 1.82440289,  0.79175729,  0.88586517,  1.29776949,  1.53415569,\n",
       "        1.34036901,  0.90069075,  1.45307588,  0.7506961 ,  1.2331124 ])"
      ]
     },
     "execution_count": 679,
     "metadata": {},
     "output_type": "execute_result"
    }
   ],
   "source": [
    "linear_regression_highb.predict(titles_highb_test[['title_year','budget','imdb_score','director_facebook_likes' ,  'actor_1_facebook_likes', 'actor_2_facebook_likes' , 'actor_3_facebook_likes']])[:10]"
   ]
  },
  {
   "cell_type": "code",
   "execution_count": 680,
   "metadata": {},
   "outputs": [
    {
     "data": {
      "text/plain": [
       "movie_title\n",
       "Silverado                        1.276923\n",
       "Son of God                       2.713463\n",
       "Teenage Mutant Ninja Turtles     1.526970\n",
       "The Four Feathers                0.523033\n",
       "Coach Carter                     2.241770\n",
       "Bad Boys II                      1.064589\n",
       "Get Carter                       0.374180\n",
       "Everybody's Fine                 0.421697\n",
       "Stealth                          0.234848\n",
       "Homefront                        0.899263\n",
       "Name: ratio, dtype: float64"
      ]
     },
     "execution_count": 680,
     "metadata": {},
     "output_type": "execute_result"
    }
   ],
   "source": [
    "titles_highb_test.ratio[:10]"
   ]
  },
  {
   "cell_type": "code",
   "execution_count": 681,
   "metadata": {},
   "outputs": [
    {
     "data": {
      "text/plain": [
       "0.085595856397699288"
      ]
     },
     "execution_count": 681,
     "metadata": {},
     "output_type": "execute_result"
    }
   ],
   "source": [
    "linear_regression_highb.score(titles_highb_test[['title_year','budget','imdb_score','director_facebook_likes' ,  'actor_1_facebook_likes', 'actor_2_facebook_likes' , 'actor_3_facebook_likes' ]],titles_highb_test.ratio)"
   ]
  },
  {
   "cell_type": "code",
   "execution_count": 682,
   "metadata": {},
   "outputs": [
    {
     "data": {
      "text/plain": [
       "array([ -1.73241211e-02,  -5.43038952e-02,   3.30446558e-01,\n",
       "         4.83230120e-03,   2.69215389e-02,   2.14408128e-02,\n",
       "         4.05728013e-05])"
      ]
     },
     "execution_count": 682,
     "metadata": {},
     "output_type": "execute_result"
    }
   ],
   "source": [
    "linear_regression_highb.coef_"
   ]
  },
  {
   "cell_type": "code",
   "execution_count": 683,
   "metadata": {
    "collapsed": true
   },
   "outputs": [],
   "source": [
    "new=titles.genres.drop_duplicates()"
   ]
  },
  {
   "cell_type": "code",
   "execution_count": 684,
   "metadata": {},
   "outputs": [
    {
     "data": {
      "text/plain": [
       "<bound method Series.sort_values of movie_title\n",
       "Avatar                           Action\n",
       "Tangled                       Adventure\n",
       "Titanic                           Drama\n",
       "A Christmas Carol             Animation\n",
       "Evan Almighty                    Comedy\n",
       "Angels & Demons                 Mystery\n",
       "Ocean's Twelve                    Crime\n",
       "The Aviator                   Biography\n",
       "The Haunting                    Fantasy\n",
       "Oceans                      Documentary\n",
       "The Invasion                     Sci-Fi\n",
       "Exorcist: The Beginning          Horror\n",
       "The Adjustment Bureau           Romance\n",
       "The Nutcracker                   Family\n",
       "Pale Rider                      Western\n",
       "Grease                          Musical\n",
       "Locker 13                      Thriller\n",
       "Name: genres, dtype: object>"
      ]
     },
     "execution_count": 684,
     "metadata": {},
     "output_type": "execute_result"
    }
   ],
   "source": [
    "new.sort_values"
   ]
  },
  {
   "cell_type": "code",
   "execution_count": 685,
   "metadata": {
    "collapsed": true
   },
   "outputs": [],
   "source": [
    "titles_cat=titles"
   ]
  },
  {
   "cell_type": "code",
   "execution_count": 686,
   "metadata": {
    "collapsed": true
   },
   "outputs": [],
   "source": [
    "from pandas import get_dummies "
   ]
  },
  {
   "cell_type": "code",
   "execution_count": 687,
   "metadata": {},
   "outputs": [
    {
     "data": {
      "text/plain": [
       "pandas.core.frame.DataFrame"
      ]
     },
     "execution_count": 687,
     "metadata": {},
     "output_type": "execute_result"
    }
   ],
   "source": [
    "type (titles_cat)"
   ]
  },
  {
   "cell_type": "code",
   "execution_count": 688,
   "metadata": {
    "collapsed": true
   },
   "outputs": [],
   "source": [
    "titles_cat=pd.get_dummies(titles_cat , columns=[\"genres\"])"
   ]
  },
  {
   "cell_type": "code",
   "execution_count": 689,
   "metadata": {},
   "outputs": [
    {
     "data": {
      "text/plain": [
       "movie_title\n",
       "Avatar                                       1\n",
       "Pirates of the Caribbean: At World's End     1\n",
       "Spectre                                      1\n",
       "The Dark Knight Rises                        1\n",
       "John Carter                                  1\n",
       "Name: genres_Action, dtype: uint8"
      ]
     },
     "execution_count": 689,
     "metadata": {},
     "output_type": "execute_result"
    }
   ],
   "source": [
    "titles_cat.genres_Action.head()"
   ]
  },
  {
   "cell_type": "code",
   "execution_count": 690,
   "metadata": {},
   "outputs": [
    {
     "data": {
      "text/plain": [
       "Index(['color', 'director_name', 'num_critic_for_reviews', 'duration',\n",
       "       'director_facebook_likes', 'actor_3_facebook_likes', 'actor_2_name',\n",
       "       'actor_1_facebook_likes', 'gross', 'actor_1_name', 'num_voted_users',\n",
       "       'cast_total_facebook_likes', 'actor_3_name', 'facenumber_in_poster',\n",
       "       'plot_keywords', 'movie_imdb_link', 'num_user_for_reviews', 'language',\n",
       "       'country', 'content_rating', 'budget', 'title_year',\n",
       "       'actor_2_facebook_likes', 'imdb_score', 'aspect_ratio',\n",
       "       'movie_facebook_likes', 'ratio', 'profit_making', 'genres_Action',\n",
       "       'genres_Adventure', 'genres_Animation', 'genres_Biography',\n",
       "       'genres_Comedy', 'genres_Crime', 'genres_Documentary', 'genres_Drama',\n",
       "       'genres_Family', 'genres_Fantasy', 'genres_Horror', 'genres_Musical',\n",
       "       'genres_Mystery', 'genres_Romance', 'genres_Sci-Fi', 'genres_Thriller',\n",
       "       'genres_Western'],\n",
       "      dtype='object')"
      ]
     },
     "execution_count": 690,
     "metadata": {},
     "output_type": "execute_result"
    }
   ],
   "source": [
    "titles_cat.columns"
   ]
  },
  {
   "cell_type": "code",
   "execution_count": 691,
   "metadata": {},
   "outputs": [
    {
     "data": {
      "text/plain": [
       "R            1735\n",
       "PG-13        1331\n",
       "PG            576\n",
       "G              91\n",
       "Not Rated      42\n",
       "Unrated        23\n",
       "Approved       17\n",
       "X              10\n",
       "NC-17           6\n",
       "Passed          3\n",
       "M               2\n",
       "GP              1\n",
       "Name: content_rating, dtype: int64"
      ]
     },
     "execution_count": 691,
     "metadata": {},
     "output_type": "execute_result"
    }
   ],
   "source": [
    "titles_cat.content_rating.value_counts()"
   ]
  },
  {
   "cell_type": "code",
   "execution_count": 692,
   "metadata": {},
   "outputs": [
    {
     "data": {
      "text/plain": [
       "movie_title\n",
       "The Host                                        South Korea\n",
       "Lady Vengeance                                  South Korea\n",
       "Fateless                                            Hungary\n",
       "Princess Mononoke                                     Japan\n",
       "Steamboy                                              Japan\n",
       "Akira                                                 Japan\n",
       "Godzilla 2000                                         Japan\n",
       "Kabhi Alvida Naa Kehna                                India\n",
       "Tango                                                 Spain\n",
       "Red Cliff                                             China\n",
       "The Legend of Suriyothai                           Thailand\n",
       "The Messenger: The Story of Joan of Arc              France\n",
       "Ong-bak 2                                          Thailand\n",
       "Pirates of the Caribbean: At World's End                USA\n",
       "John Carter                                             USA\n",
       "Tangled                                                 USA\n",
       "Spider-Man 3                                            USA\n",
       "Spider-Man 3                                            USA\n",
       "Pirates of the Caribbean: On Stranger Tides             USA\n",
       "The Hobbit: The Battle of the Five Armies       New Zealand\n",
       "Avengers: Age of Ultron                                 USA\n",
       "Harry Potter and the Half-Blood Prince                   UK\n",
       "Batman v Superman: Dawn of Justice                      USA\n",
       "Captain America: Civil War                              USA\n",
       "The Dark Knight Rises                                   USA\n",
       "Spectre                                                  UK\n",
       "Avatar                                                  USA\n",
       "The Amazing Spider-Man                                  USA\n",
       "The Chronicles of Narnia: Prince Caspian                USA\n",
       "Pirates of the Caribbean: Dead Man's Chest              USA\n",
       "                                                   ...     \n",
       "Another Earth                                           USA\n",
       "Facing the Giants                                       USA\n",
       "The Gallows                                             USA\n",
       "The Texas Chain Saw Massacre                            USA\n",
       "The Texas Chain Saw Massacre                            USA\n",
       "Happy Christmas                                         USA\n",
       "Tiny Furniture                                          USA\n",
       "Super Size Me                                           USA\n",
       "The FP                                                  USA\n",
       "Pi                                                      USA\n",
       "20 Dates                                                USA\n",
       "Osama                                           Afghanistan\n",
       "George Washington                                       USA\n",
       "The Lost Skeleton of Cadavra                            USA\n",
       "Smiling Fish & Goat on Fire                             USA\n",
       "The Legend of God's Gun                                 USA\n",
       "Pink Narcissus                                          USA\n",
       "The Brothers McMullen                                   USA\n",
       "In the Company of Men                                Canada\n",
       "Slacker                                                 USA\n",
       "The Puffy Chair                                         USA\n",
       "London                                                   UK\n",
       "Pink Flamingos                                          USA\n",
       "The Circle                                             Iran\n",
       "Newlyweds                                               USA\n",
       "Primer                                                  USA\n",
       "Cavite                                          Philippines\n",
       "El Mariachi                                             USA\n",
       "Clean                                                France\n",
       "My Date with Drew                                       USA\n",
       "Name: country, Length: 3837, dtype: object"
      ]
     },
     "execution_count": 692,
     "metadata": {},
     "output_type": "execute_result"
    }
   ],
   "source": [
    "titles_cat.sort_values('budget', ascending=False).country"
   ]
  },
  {
   "cell_type": "code",
   "execution_count": 693,
   "metadata": {
    "collapsed": true
   },
   "outputs": [],
   "source": [
    "titles_cat=titles_cat.drop(titles_cat[titles_cat.content_rating.str.match(\"NC-17|Passed|M|GP\")].index)"
   ]
  },
  {
   "cell_type": "code",
   "execution_count": 694,
   "metadata": {},
   "outputs": [
    {
     "data": {
      "text/plain": [
       "R            1735\n",
       "PG-13        1331\n",
       "PG            576\n",
       "G              91\n",
       "Not Rated      42\n",
       "Unrated        23\n",
       "Approved       17\n",
       "X              10\n",
       "Name: content_rating, dtype: int64"
      ]
     },
     "execution_count": 694,
     "metadata": {},
     "output_type": "execute_result"
    }
   ],
   "source": [
    "titles_cat.content_rating.value_counts()"
   ]
  },
  {
   "cell_type": "code",
   "execution_count": 695,
   "metadata": {
    "collapsed": true
   },
   "outputs": [],
   "source": [
    "titles_cat=pd.get_dummies(titles_cat , columns=[\"content_rating\"])"
   ]
  },
  {
   "cell_type": "code",
   "execution_count": 696,
   "metadata": {
    "collapsed": true
   },
   "outputs": [],
   "source": [
    "titles_cat_highb = titles_cat[(titles_cat.budget > -.114)]"
   ]
  },
  {
   "cell_type": "code",
   "execution_count": 697,
   "metadata": {
    "collapsed": true
   },
   "outputs": [],
   "source": [
    "titles_cat_lowb = titles_cat[(titles_cat.budget <= -.114)]"
   ]
  },
  {
   "cell_type": "code",
   "execution_count": 698,
   "metadata": {},
   "outputs": [
    {
     "data": {
      "text/plain": [
       "2051"
      ]
     },
     "execution_count": 698,
     "metadata": {},
     "output_type": "execute_result"
    }
   ],
   "source": [
    "len(titles_cat_highb)"
   ]
  },
  {
   "cell_type": "code",
   "execution_count": 699,
   "metadata": {},
   "outputs": [
    {
     "data": {
      "text/plain": [
       "1774"
      ]
     },
     "execution_count": 699,
     "metadata": {},
     "output_type": "execute_result"
    }
   ],
   "source": [
    "len(titles_cat_lowb)"
   ]
  },
  {
   "cell_type": "code",
   "execution_count": 700,
   "metadata": {},
   "outputs": [
    {
     "data": {
      "text/plain": [
       "0.40711847879083374"
      ]
     },
     "execution_count": 700,
     "metadata": {},
     "output_type": "execute_result"
    }
   ],
   "source": [
    "titles_cat_highb.profit_making.mean()"
   ]
  },
  {
   "cell_type": "code",
   "execution_count": 701,
   "metadata": {},
   "outputs": [
    {
     "data": {
      "text/plain": [
       "0.52705749718151074"
      ]
     },
     "execution_count": 701,
     "metadata": {},
     "output_type": "execute_result"
    }
   ],
   "source": [
    "titles_cat_lowb.profit_making.mean()"
   ]
  },
  {
   "cell_type": "code",
   "execution_count": 702,
   "metadata": {
    "collapsed": true
   },
   "outputs": [],
   "source": [
    "titles_cat_highb=shuffle(titles_cat_highb)"
   ]
  },
  {
   "cell_type": "code",
   "execution_count": 703,
   "metadata": {},
   "outputs": [
    {
     "data": {
      "text/plain": [
       "Index(['color', 'director_name', 'num_critic_for_reviews', 'duration',\n",
       "       'director_facebook_likes', 'actor_3_facebook_likes', 'actor_2_name',\n",
       "       'actor_1_facebook_likes', 'gross', 'actor_1_name', 'num_voted_users',\n",
       "       'cast_total_facebook_likes', 'actor_3_name', 'facenumber_in_poster',\n",
       "       'plot_keywords', 'movie_imdb_link', 'num_user_for_reviews', 'language',\n",
       "       'country', 'budget', 'title_year', 'actor_2_facebook_likes',\n",
       "       'imdb_score', 'aspect_ratio', 'movie_facebook_likes', 'ratio',\n",
       "       'profit_making', 'genres_Action', 'genres_Adventure',\n",
       "       'genres_Animation', 'genres_Biography', 'genres_Comedy', 'genres_Crime',\n",
       "       'genres_Documentary', 'genres_Drama', 'genres_Family', 'genres_Fantasy',\n",
       "       'genres_Horror', 'genres_Musical', 'genres_Mystery', 'genres_Romance',\n",
       "       'genres_Sci-Fi', 'genres_Thriller', 'genres_Western',\n",
       "       'content_rating_Approved', 'content_rating_G',\n",
       "       'content_rating_Not Rated', 'content_rating_PG', 'content_rating_PG-13',\n",
       "       'content_rating_R', 'content_rating_Unrated', 'content_rating_X'],\n",
       "      dtype='object')"
      ]
     },
     "execution_count": 703,
     "metadata": {},
     "output_type": "execute_result"
    }
   ],
   "source": [
    "titles_cat_highb.columns\n"
   ]
  },
  {
   "cell_type": "code",
   "execution_count": 704,
   "metadata": {
    "collapsed": true
   },
   "outputs": [],
   "source": [
    "#titles_cat_highb.drop(titles_cat_highb.country==)"
   ]
  },
  {
   "cell_type": "code",
   "execution_count": 705,
   "metadata": {},
   "outputs": [
    {
     "data": {
      "text/plain": [
       "339"
      ]
     },
     "execution_count": 705,
     "metadata": {},
     "output_type": "execute_result"
    }
   ],
   "source": [
    "len(titles_cat_highb[titles_cat_highb.country != \"USA\"])"
   ]
  },
  {
   "cell_type": "code",
   "execution_count": 706,
   "metadata": {
    "collapsed": true
   },
   "outputs": [],
   "source": [
    "titles_cat_highb=titles_cat_highb.drop(titles_cat_highb[titles_cat_highb.country != \"USA\"].index)"
   ]
  },
  {
   "cell_type": "code",
   "execution_count": 707,
   "metadata": {
    "collapsed": true
   },
   "outputs": [],
   "source": [
    "#titles_cat_highb=titles_cat_highb.drop(['actor_1_facebook_likes','actor_2_facebook_likes','actor_3_facebook_likes'],axis=1)"
   ]
  },
  {
   "cell_type": "code",
   "execution_count": 708,
   "metadata": {},
   "outputs": [
    {
     "data": {
      "text/plain": [
       "Index(['color', 'director_name', 'num_critic_for_reviews', 'duration',\n",
       "       'director_facebook_likes', 'actor_3_facebook_likes', 'actor_2_name',\n",
       "       'actor_1_facebook_likes', 'gross', 'actor_1_name', 'num_voted_users',\n",
       "       'cast_total_facebook_likes', 'actor_3_name', 'facenumber_in_poster',\n",
       "       'plot_keywords', 'movie_imdb_link', 'num_user_for_reviews', 'language',\n",
       "       'country', 'budget', 'title_year', 'actor_2_facebook_likes',\n",
       "       'imdb_score', 'aspect_ratio', 'movie_facebook_likes', 'ratio',\n",
       "       'profit_making', 'genres_Action', 'genres_Adventure',\n",
       "       'genres_Animation', 'genres_Biography', 'genres_Comedy', 'genres_Crime',\n",
       "       'genres_Documentary', 'genres_Drama', 'genres_Family', 'genres_Fantasy',\n",
       "       'genres_Horror', 'genres_Musical', 'genres_Mystery', 'genres_Romance',\n",
       "       'genres_Sci-Fi', 'genres_Thriller', 'genres_Western',\n",
       "       'content_rating_Approved', 'content_rating_G',\n",
       "       'content_rating_Not Rated', 'content_rating_PG', 'content_rating_PG-13',\n",
       "       'content_rating_R', 'content_rating_Unrated', 'content_rating_X'],\n",
       "      dtype='object')"
      ]
     },
     "execution_count": 708,
     "metadata": {},
     "output_type": "execute_result"
    }
   ],
   "source": [
    "titles_cat_highb.columns"
   ]
  },
  {
   "cell_type": "code",
   "execution_count": 709,
   "metadata": {
    "collapsed": true
   },
   "outputs": [],
   "source": [
    "titles_cat_ml_highb=titles_cat_highb.select_dtypes(exclude=['object']) "
   ]
  },
  {
   "cell_type": "code",
   "execution_count": 710,
   "metadata": {
    "collapsed": true
   },
   "outputs": [],
   "source": [
    "titles_cat_ml_highb=titles_cat_ml_highb.select_dtypes(exclude=['bool']) "
   ]
  },
  {
   "cell_type": "code",
   "execution_count": 711,
   "metadata": {
    "collapsed": true
   },
   "outputs": [],
   "source": [
    "titles_cat_ml_highb=titles_cat_ml_highb.dropna()"
   ]
  },
  {
   "cell_type": "code",
   "execution_count": 712,
   "metadata": {
    "collapsed": true
   },
   "outputs": [],
   "source": [
    "titles_cat_ml_highb=shuffle(titles_cat_ml_highb)"
   ]
  },
  {
   "cell_type": "code",
   "execution_count": 713,
   "metadata": {},
   "outputs": [
    {
     "data": {
      "text/plain": [
       "Index(['num_critic_for_reviews', 'duration', 'director_facebook_likes',\n",
       "       'actor_3_facebook_likes', 'actor_1_facebook_likes', 'gross',\n",
       "       'num_voted_users', 'cast_total_facebook_likes', 'facenumber_in_poster',\n",
       "       'num_user_for_reviews', 'budget', 'title_year',\n",
       "       'actor_2_facebook_likes', 'imdb_score', 'aspect_ratio',\n",
       "       'movie_facebook_likes', 'ratio', 'genres_Action', 'genres_Adventure',\n",
       "       'genres_Animation', 'genres_Biography', 'genres_Comedy', 'genres_Crime',\n",
       "       'genres_Documentary', 'genres_Drama', 'genres_Family', 'genres_Fantasy',\n",
       "       'genres_Horror', 'genres_Musical', 'genres_Mystery', 'genres_Romance',\n",
       "       'genres_Sci-Fi', 'genres_Thriller', 'genres_Western',\n",
       "       'content_rating_Approved', 'content_rating_G',\n",
       "       'content_rating_Not Rated', 'content_rating_PG', 'content_rating_PG-13',\n",
       "       'content_rating_R', 'content_rating_Unrated', 'content_rating_X'],\n",
       "      dtype='object')"
      ]
     },
     "execution_count": 713,
     "metadata": {},
     "output_type": "execute_result"
    }
   ],
   "source": [
    "titles_cat_ml_highb.columns"
   ]
  },
  {
   "cell_type": "code",
   "execution_count": 714,
   "metadata": {
    "collapsed": true
   },
   "outputs": [],
   "source": [
    "titles_cat_ml_highb_train=titles_cat_ml_highb[:1200]\n",
    "titles_cat_ml_highb_test=titles_cat_ml_highb[1200:]"
   ]
  },
  {
   "cell_type": "code",
   "execution_count": 715,
   "metadata": {
    "collapsed": true
   },
   "outputs": [],
   "source": [
    "titles_cat_ml_highb_train_x=titles_cat_ml_highb_train.drop(['gross', 'ratio'],axis=1 )"
   ]
  },
  {
   "cell_type": "code",
   "execution_count": 716,
   "metadata": {
    "collapsed": true
   },
   "outputs": [],
   "source": [
    "titles_cat_ml_highb_test_x=titles_cat_ml_highb_test.drop( ['ratio' , 'gross' ],axis=1)"
   ]
  },
  {
   "cell_type": "code",
   "execution_count": 717,
   "metadata": {
    "collapsed": true
   },
   "outputs": [],
   "source": [
    "titles_cat_ml_highb_train_y=pd.DataFrame(titles_cat_ml_highb_train['ratio'])"
   ]
  },
  {
   "cell_type": "code",
   "execution_count": 718,
   "metadata": {
    "collapsed": true
   },
   "outputs": [],
   "source": [
    "titles_cat_ml_highb_test_y=pd.DataFrame(titles_cat_ml_highb_test[ 'ratio' ])"
   ]
  },
  {
   "cell_type": "code",
   "execution_count": 719,
   "metadata": {
    "collapsed": true
   },
   "outputs": [],
   "source": [
    "linear_regression_highb_cat= LinearRegression()"
   ]
  },
  {
   "cell_type": "code",
   "execution_count": 720,
   "metadata": {},
   "outputs": [
    {
     "data": {
      "text/plain": [
       "LinearRegression(copy_X=True, fit_intercept=True, n_jobs=1, normalize=False)"
      ]
     },
     "execution_count": 720,
     "metadata": {},
     "output_type": "execute_result"
    }
   ],
   "source": [
    "linear_regression_highb_cat.fit(titles_cat_ml_highb_train_x ,titles_cat_ml_highb_train_y )"
   ]
  },
  {
   "cell_type": "code",
   "execution_count": 721,
   "metadata": {},
   "outputs": [
    {
     "data": {
      "text/plain": [
       "array([[ 1.63006605],\n",
       "       [ 0.3136847 ],\n",
       "       [ 0.72667237],\n",
       "       [ 1.85283783],\n",
       "       [ 1.37825711],\n",
       "       [ 1.65435159],\n",
       "       [ 0.70591586],\n",
       "       [ 2.35479854],\n",
       "       [ 1.26327582],\n",
       "       [ 0.70257092]])"
      ]
     },
     "execution_count": 721,
     "metadata": {},
     "output_type": "execute_result"
    }
   ],
   "source": [
    "linear_regression_highb_cat.predict(titles_cat_ml_highb_train_x)[:10]"
   ]
  },
  {
   "cell_type": "code",
   "execution_count": 722,
   "metadata": {},
   "outputs": [
    {
     "data": {
      "text/html": [
       "<div>\n",
       "<style>\n",
       "    .dataframe thead tr:only-child th {\n",
       "        text-align: right;\n",
       "    }\n",
       "\n",
       "    .dataframe thead th {\n",
       "        text-align: left;\n",
       "    }\n",
       "\n",
       "    .dataframe tbody tr th {\n",
       "        vertical-align: top;\n",
       "    }\n",
       "</style>\n",
       "<table border=\"1\" class=\"dataframe\">\n",
       "  <thead>\n",
       "    <tr style=\"text-align: right;\">\n",
       "      <th></th>\n",
       "      <th>ratio</th>\n",
       "    </tr>\n",
       "    <tr>\n",
       "      <th>movie_title</th>\n",
       "      <th></th>\n",
       "    </tr>\n",
       "  </thead>\n",
       "  <tbody>\n",
       "    <tr>\n",
       "      <th>A Lot Like Love</th>\n",
       "      <td>0.727859</td>\n",
       "    </tr>\n",
       "    <tr>\n",
       "      <th>Robin Hood</th>\n",
       "      <td>0.526099</td>\n",
       "    </tr>\n",
       "    <tr>\n",
       "      <th>Dragonball: Evolution</th>\n",
       "      <td>0.207857</td>\n",
       "    </tr>\n",
       "    <tr>\n",
       "      <th>Jay and Silent Bob Strike Back</th>\n",
       "      <td>1.366336</td>\n",
       "    </tr>\n",
       "    <tr>\n",
       "      <th>Payback</th>\n",
       "      <td>1.630349</td>\n",
       "    </tr>\n",
       "    <tr>\n",
       "      <th>Spy Kids 2: Island of Lost Dreams</th>\n",
       "      <td>2.251852</td>\n",
       "    </tr>\n",
       "    <tr>\n",
       "      <th>Victor Frankenstein</th>\n",
       "      <td>0.144338</td>\n",
       "    </tr>\n",
       "    <tr>\n",
       "      <th>Horrible Bosses</th>\n",
       "      <td>3.357961</td>\n",
       "    </tr>\n",
       "    <tr>\n",
       "      <th>Furry Vengeance</th>\n",
       "      <td>0.502750</td>\n",
       "    </tr>\n",
       "    <tr>\n",
       "      <th>Miracle at St. Anna</th>\n",
       "      <td>0.175931</td>\n",
       "    </tr>\n",
       "  </tbody>\n",
       "</table>\n",
       "</div>"
      ],
      "text/plain": [
       "                                       ratio\n",
       "movie_title                                 \n",
       "A Lot Like Love                     0.727859\n",
       "Robin Hood                          0.526099\n",
       "Dragonball: Evolution               0.207857\n",
       "Jay and Silent Bob Strike Back      1.366336\n",
       "Payback                             1.630349\n",
       "Spy Kids 2: Island of Lost Dreams   2.251852\n",
       "Victor Frankenstein                 0.144338\n",
       "Horrible Bosses                     3.357961\n",
       "Furry Vengeance                     0.502750\n",
       "Miracle at St. Anna                 0.175931"
      ]
     },
     "execution_count": 722,
     "metadata": {},
     "output_type": "execute_result"
    }
   ],
   "source": [
    "titles_cat_ml_highb_train_y[:10]"
   ]
  },
  {
   "cell_type": "code",
   "execution_count": 723,
   "metadata": {},
   "outputs": [
    {
     "data": {
      "text/plain": [
       "0.31549178633129304"
      ]
     },
     "execution_count": 723,
     "metadata": {},
     "output_type": "execute_result"
    }
   ],
   "source": [
    "linear_regression_highb_cat.score(titles_cat_ml_highb_test_x,titles_cat_ml_highb_test_y)"
   ]
  },
  {
   "cell_type": "code",
   "execution_count": 724,
   "metadata": {},
   "outputs": [
    {
     "data": {
      "text/plain": [
       "array([[  1.77653470e-03,  -3.82294304e-02,  -1.00219576e-01,\n",
       "         -7.70199808e-05,  -9.23296366e-01,   4.55344000e-01,\n",
       "          1.15859490e+00,   4.92516598e-03,  -7.29868699e-02,\n",
       "         -2.09489062e+00,  -3.13826697e-02,  -2.63505198e-01,\n",
       "          1.61208542e-01,  -1.31854596e-01,  -1.91088030e-02,\n",
       "          2.32499271e-01,   2.31330053e-01,   2.31275369e-02,\n",
       "          3.87936129e-01,   4.69756096e-01,   9.74766570e-03,\n",
       "          6.49942093e-02,   9.28521092e-02,  -3.46944695e-16,\n",
       "          3.30211505e-02,   3.17329724e-01,   2.22044605e-16,\n",
       "          5.93358784e-02,  -5.03549535e-01,  -1.41838029e+00,\n",
       "          0.00000000e+00,   0.00000000e+00,   0.00000000e+00,\n",
       "          3.38600946e-01,   0.00000000e+00,   2.01615765e-01,\n",
       "         -1.30785766e-01,  -4.09430945e-01,   0.00000000e+00,\n",
       "          0.00000000e+00]])"
      ]
     },
     "execution_count": 724,
     "metadata": {},
     "output_type": "execute_result"
    }
   ],
   "source": [
    "linear_regression_highb_cat.coef_"
   ]
  },
  {
   "cell_type": "code",
   "execution_count": 725,
   "metadata": {},
   "outputs": [
    {
     "data": {
      "text/plain": [
       "Index(['num_critic_for_reviews', 'duration', 'director_facebook_likes',\n",
       "       'actor_3_facebook_likes', 'actor_1_facebook_likes', 'num_voted_users',\n",
       "       'cast_total_facebook_likes', 'facenumber_in_poster',\n",
       "       'num_user_for_reviews', 'budget', 'title_year',\n",
       "       'actor_2_facebook_likes', 'imdb_score', 'aspect_ratio',\n",
       "       'movie_facebook_likes', 'genres_Action', 'genres_Adventure',\n",
       "       'genres_Animation', 'genres_Biography', 'genres_Comedy', 'genres_Crime',\n",
       "       'genres_Documentary', 'genres_Drama', 'genres_Family', 'genres_Fantasy',\n",
       "       'genres_Horror', 'genres_Musical', 'genres_Mystery', 'genres_Romance',\n",
       "       'genres_Sci-Fi', 'genres_Thriller', 'genres_Western',\n",
       "       'content_rating_Approved', 'content_rating_G',\n",
       "       'content_rating_Not Rated', 'content_rating_PG', 'content_rating_PG-13',\n",
       "       'content_rating_R', 'content_rating_Unrated', 'content_rating_X'],\n",
       "      dtype='object')"
      ]
     },
     "execution_count": 725,
     "metadata": {},
     "output_type": "execute_result"
    }
   ],
   "source": [
    "titles_cat_ml_highb_test_x.columns"
   ]
  },
  {
   "cell_type": "code",
   "execution_count": null,
   "metadata": {
    "collapsed": true
   },
   "outputs": [],
   "source": []
  },
  {
   "cell_type": "code",
   "execution_count": 726,
   "metadata": {
    "collapsed": true
   },
   "outputs": [],
   "source": [
    "titles2 = pd.DataFrame.from_csv('movie_metadata.csv', index_col=None)"
   ]
  },
  {
   "cell_type": "code",
   "execution_count": 727,
   "metadata": {
    "collapsed": true
   },
   "outputs": [],
   "source": [
    "titles2=titles2.set_index('movie_title')"
   ]
  },
  {
   "cell_type": "code",
   "execution_count": 728,
   "metadata": {
    "collapsed": true
   },
   "outputs": [],
   "source": [
    "\n",
    "titles2['ratio']=titles2.gross/titles2.budget"
   ]
  },
  {
   "cell_type": "code",
   "execution_count": 729,
   "metadata": {},
   "outputs": [
    {
     "data": {
      "text/plain": [
       "<matplotlib.collections.PathCollection at 0x1a1bf10be0>"
      ]
     },
     "execution_count": 729,
     "metadata": {},
     "output_type": "execute_result"
    },
    {
     "data": {
      "image/png": "[encoded data removed]",
      "text/plain": [
       "<matplotlib.figure.Figure at 0x1a3bd8b518>"
      ]
     },
     "metadata": {},
     "output_type": "display_data"
    }
   ],
   "source": [
    "plt.ylim=[0,500]\n",
    "plt.xlim=[0,.2e10]\n",
    "plt.scatter(titles2.budget , titles2.ratio)"
   ]
  },
  {
   "cell_type": "code",
   "execution_count": 730,
   "metadata": {
    "collapsed": true
   },
   "outputs": [],
   "source": [
    "titles2=titles2.drop(titles2[titles2.country!=\"USA\"].index)"
   ]
  },
  {
   "cell_type": "code",
   "execution_count": 731,
   "metadata": {},
   "outputs": [
    {
     "data": {
      "text/plain": [
       "<matplotlib.collections.PathCollection at 0x1a3bd5f898>"
      ]
     },
     "execution_count": 731,
     "metadata": {},
     "output_type": "execute_result"
    },
    {
     "data": {
      "image/png": "[encoded data removed]",
      "text/plain": [
       "<matplotlib.figure.Figure at 0x1a1f78e908>"
      ]
     },
     "metadata": {},
     "output_type": "display_data"
    }
   ],
   "source": [
    "plt.ylim=[0,500]\n",
    "plt.xlim=[0,.2e10]\n",
    "plt.scatter(titles2.budget , titles2.ratio)"
   ]
  },
  {
   "cell_type": "code",
   "execution_count": 732,
   "metadata": {},
   "outputs": [
    {
     "data": {
      "text/plain": [
       "<matplotlib.axes._subplots.AxesSubplot at 0x1a1f78e5c0>"
      ]
     },
     "execution_count": 732,
     "metadata": {},
     "output_type": "execute_result"
    },
    {
     "data": {
      "image/png": "[encoded data removed]",
      "text/plain": [
       "<matplotlib.figure.Figure at 0x1a3c46af60>"
      ]
     },
     "metadata": {},
     "output_type": "display_data"
    }
   ],
   "source": [
    "titles2.plot.scatter(x='imdb_score',y='gross')"
   ]
  },
  {
   "cell_type": "code",
   "execution_count": 733,
   "metadata": {},
   "outputs": [
    {
     "data": {
      "text/plain": [
       "<matplotlib.axes._subplots.AxesSubplot at 0x1a3bd3bef0>"
      ]
     },
     "execution_count": 733,
     "metadata": {},
     "output_type": "execute_result"
    },
    {
     "data": {
      "image/png": "[encoded data removed]",
      "text/plain": [
       "<matplotlib.figure.Figure at 0x1a1f86c358>"
      ]
     },
     "metadata": {},
     "output_type": "display_data"
    }
   ],
   "source": [
    "titles2.plot.scatter(x='budget',y='gross')"
   ]
  },
  {
   "cell_type": "code",
   "execution_count": 734,
   "metadata": {},
   "outputs": [
    {
     "data": {
      "text/plain": [
       "<matplotlib.axes._subplots.AxesSubplot at 0x1a3bc94668>"
      ]
     },
     "execution_count": 734,
     "metadata": {},
     "output_type": "execute_result"
    },
    {
     "data": {
      "image/png": "[encoded data removed]",
      "text/plain": [
       "<matplotlib.figure.Figure at 0x1a1fd36f98>"
      ]
     },
     "metadata": {},
     "output_type": "display_data"
    }
   ],
   "source": [
    "titles2.plot.scatter(x='actor_1_facebook_likes',y='gross')"
   ]
  },
  {
   "cell_type": "code",
   "execution_count": 736,
   "metadata": {},
   "outputs": [
    {
     "data": {
      "text/plain": [
       "16655.361604538255"
      ]
     },
     "execution_count": 736,
     "metadata": {},
     "output_type": "execute_result"
    }
   ],
   "source": [
    "titles2.actor_1_facebook_likes.std()"
   ]
  },
  {
   "cell_type": "code",
   "execution_count": 996,
   "metadata": {
    "collapsed": true
   },
   "outputs": [],
   "source": [
    "#Logistic Regression #####"
   ]
  },
  {
   "cell_type": "code",
   "execution_count": 997,
   "metadata": {
    "collapsed": true
   },
   "outputs": [],
   "source": [
    "from sklearn.model_selection import train_test_split\n",
    "from sklearn.linear_model import LogisticRegression\n",
    "from sklearn.metrics import accuracy_score\n"
   ]
  },
  {
   "cell_type": "code",
   "execution_count": 998,
   "metadata": {
    "collapsed": true
   },
   "outputs": [],
   "source": [
    "logistic_regression_1= LogisticRegression()"
   ]
  },
  {
   "cell_type": "code",
   "execution_count": 999,
   "metadata": {
    "collapsed": true
   },
   "outputs": [],
   "source": [
    "titles_cat_ml_highb=titles_cat_highb.select_dtypes(exclude=['object']) "
   ]
  },
  {
   "cell_type": "code",
   "execution_count": 1000,
   "metadata": {
    "collapsed": true
   },
   "outputs": [],
   "source": [
    "titles_cat_ml_highb_ratio=titles_cat_ml_highb.ratio"
   ]
  },
  {
   "cell_type": "code",
   "execution_count": 1001,
   "metadata": {
    "collapsed": true
   },
   "outputs": [],
   "source": [
    "titles_cat_logistic_highb=titles_cat_ml_highb.drop(['ratio'], axis=1)"
   ]
  },
  {
   "cell_type": "code",
   "execution_count": 1002,
   "metadata": {
    "collapsed": true
   },
   "outputs": [],
   "source": [
    "titles_cat_logistic_highb=titles_cat_logistic_highb.dropna()"
   ]
  },
  {
   "cell_type": "code",
   "execution_count": 1003,
   "metadata": {
    "collapsed": true
   },
   "outputs": [],
   "source": [
    "titles_cat_logistic_highb=shuffle(titles_cat_logistic_highb)"
   ]
  },
  {
   "cell_type": "code",
   "execution_count": 1004,
   "metadata": {
    "collapsed": true
   },
   "outputs": [],
   "source": [
    "titles_cat_logistic_highb_train=titles_cat_logistic_highb[:1200]\n",
    "titles_cat_logistic_highb_test=titles_cat_logistic_highb[1200:]"
   ]
  },
  {
   "cell_type": "code",
   "execution_count": 1005,
   "metadata": {
    "collapsed": true
   },
   "outputs": [],
   "source": [
    "titles_cat_logistic_highb_train_x=titles_cat_logistic_highb_train.drop(['gross', 'profit_making','movie_facebook_likes','num_voted_users'],axis=1 )"
   ]
  },
  {
   "cell_type": "code",
   "execution_count": 1006,
   "metadata": {
    "collapsed": true
   },
   "outputs": [],
   "source": [
    "titles_cat_logistic_highb_test_x=titles_cat_logistic_highb_test.drop( ['gross', 'profit_making','movie_facebook_likes','num_voted_users' ],axis=1)"
   ]
  },
  {
   "cell_type": "code",
   "execution_count": 1007,
   "metadata": {
    "collapsed": true
   },
   "outputs": [],
   "source": [
    "titles_cat_logistic_highb_train_y=pd.DataFrame(titles_cat_logistic_highb_train['profit_making'])"
   ]
  },
  {
   "cell_type": "code",
   "execution_count": 1008,
   "metadata": {
    "collapsed": true
   },
   "outputs": [],
   "source": [
    "titles_cat_logistic_highb_test_y=pd.DataFrame(titles_cat_logistic_highb_test[ 'profit_making' ])"
   ]
  },
  {
   "cell_type": "code",
   "execution_count": 1009,
   "metadata": {},
   "outputs": [
    {
     "data": {
      "text/plain": [
       "LogisticRegression(C=1.0, class_weight=None, dual=False, fit_intercept=True,\n",
       "          intercept_scaling=1, max_iter=100, multi_class='ovr', n_jobs=1,\n",
       "          penalty='l2', random_state=None, solver='liblinear', tol=0.0001,\n",
       "          verbose=0, warm_start=False)"
      ]
     },
     "execution_count": 1009,
     "metadata": {},
     "output_type": "execute_result"
    }
   ],
   "source": [
    "logistic_regression_1.fit(titles_cat_logistic_highb_train_x,titles_cat_logistic_highb_train_y.profit_making)"
   ]
  },
  {
   "cell_type": "code",
   "execution_count": 1010,
   "metadata": {},
   "outputs": [
    {
     "data": {
      "text/plain": [
       "0.68972332015810278"
      ]
     },
     "execution_count": 1010,
     "metadata": {},
     "output_type": "execute_result"
    }
   ],
   "source": [
    "accuracy_score(logistic_regression_1.predict(titles_cat_logistic_highb_test_x),titles_cat_logistic_highb_test_y.profit_making)"
   ]
  },
  {
   "cell_type": "code",
   "execution_count": 1011,
   "metadata": {},
   "outputs": [
    {
     "data": {
      "text/plain": [
       "Index(['Marmaduke ', 'Mission: Impossible ', 'Aliens vs. Predator: Requiem ',\n",
       "       'Hop ', 'Gulliver's Travels ', 'The Deep End of the Ocean ',\n",
       "       'Harley Davidson and the Marlboro Man ',\n",
       "       'Transformers: Revenge of the Fallen ', 'Unfaithful ',\n",
       "       'This Is the End '],\n",
       "      dtype='object', name='movie_title')"
      ]
     },
     "execution_count": 1011,
     "metadata": {},
     "output_type": "execute_result"
    }
   ],
   "source": [
    "titles_cat_logistic_highb_test_x.index[:10]"
   ]
  },
  {
   "cell_type": "code",
   "execution_count": 1012,
   "metadata": {
    "collapsed": true
   },
   "outputs": [],
   "source": [
    "logistic_regression_2=LogisticRegression()"
   ]
  },
  {
   "cell_type": "code",
   "execution_count": 1013,
   "metadata": {
    "collapsed": true
   },
   "outputs": [],
   "source": [
    "titles_cat_lowb=titles_cat_lowb.drop(titles_cat_lowb[titles_cat_lowb.country!=\"USA\"].index)"
   ]
  },
  {
   "cell_type": "code",
   "execution_count": 1014,
   "metadata": {
    "collapsed": true
   },
   "outputs": [],
   "source": [
    "titles_cat_ml_lowb=titles_cat_lowb.select_dtypes(exclude=['object']) "
   ]
  },
  {
   "cell_type": "code",
   "execution_count": 1015,
   "metadata": {
    "collapsed": true
   },
   "outputs": [],
   "source": [
    "titles_cat_ml_lowb_ratio=titles_cat_ml_lowb.ratio"
   ]
  },
  {
   "cell_type": "code",
   "execution_count": 1016,
   "metadata": {
    "collapsed": true
   },
   "outputs": [],
   "source": [
    "titles_cat_logistic_lowb=titles_cat_ml_lowb.drop(['ratio'], axis=1)"
   ]
  },
  {
   "cell_type": "code",
   "execution_count": 1017,
   "metadata": {
    "collapsed": true
   },
   "outputs": [],
   "source": [
    "titles_cat_logistic_lowb=titles_cat_logistic_lowb.dropna()"
   ]
  },
  {
   "cell_type": "code",
   "execution_count": 1018,
   "metadata": {
    "collapsed": true
   },
   "outputs": [],
   "source": [
    "titles_cat_logistic_lowb=shuffle(titles_cat_logistic_lowb)"
   ]
  },
  {
   "cell_type": "code",
   "execution_count": 1019,
   "metadata": {
    "collapsed": true
   },
   "outputs": [],
   "source": [
    "titles_cat_logistic_lowb_train=titles_cat_logistic_lowb[:1200]\n",
    "titles_cat_logistic_lowb_test=titles_cat_logistic_lowb[1200:]"
   ]
  },
  {
   "cell_type": "code",
   "execution_count": 1020,
   "metadata": {
    "collapsed": true
   },
   "outputs": [],
   "source": [
    "titles_cat_logistic_lowb_train_x=titles_cat_logistic_lowb_train.drop(['gross', 'profit_making','movie_facebook_likes','num_voted_users'],axis=1 )"
   ]
  },
  {
   "cell_type": "code",
   "execution_count": 1021,
   "metadata": {
    "collapsed": true
   },
   "outputs": [],
   "source": [
    "titles_cat_logistic_lowb_test_x=titles_cat_logistic_lowb_test.drop( ['gross', 'profit_making','movie_facebook_likes','num_voted_users'],axis=1)"
   ]
  },
  {
   "cell_type": "code",
   "execution_count": 1022,
   "metadata": {
    "collapsed": true
   },
   "outputs": [],
   "source": [
    "titles_cat_logistic_lowb_train_y=pd.DataFrame(titles_cat_logistic_lowb_train['profit_making'])"
   ]
  },
  {
   "cell_type": "code",
   "execution_count": 1023,
   "metadata": {
    "collapsed": true
   },
   "outputs": [],
   "source": [
    "titles_cat_logistic_lowb_test_y=pd.DataFrame(titles_cat_logistic_lowb_test[ 'profit_making' ])"
   ]
  },
  {
   "cell_type": "code",
   "execution_count": 1024,
   "metadata": {},
   "outputs": [
    {
     "data": {
      "text/plain": [
       "LogisticRegression(C=1.0, class_weight=None, dual=False, fit_intercept=True,\n",
       "          intercept_scaling=1, max_iter=100, multi_class='ovr', n_jobs=1,\n",
       "          penalty='l2', random_state=None, solver='liblinear', tol=0.0001,\n",
       "          verbose=0, warm_start=False)"
      ]
     },
     "execution_count": 1024,
     "metadata": {},
     "output_type": "execute_result"
    }
   ],
   "source": [
    "logistic_regression_2.fit(titles_cat_logistic_lowb_train_x,titles_cat_logistic_lowb_train_y.profit_making)"
   ]
  },
  {
   "cell_type": "code",
   "execution_count": 1025,
   "metadata": {},
   "outputs": [
    {
     "data": {
      "text/plain": [
       "0.71794871794871795"
      ]
     },
     "execution_count": 1025,
     "metadata": {},
     "output_type": "execute_result"
    }
   ],
   "source": [
    "accuracy_score(logistic_regression_2.predict(titles_cat_logistic_lowb_test_x),titles_cat_logistic_lowb_test_y.profit_making)"
   ]
  },
  {
   "cell_type": "code",
   "execution_count": 1026,
   "metadata": {},
   "outputs": [
    {
     "data": {
      "text/plain": [
       "0.6958333333333333"
      ]
     },
     "execution_count": 1026,
     "metadata": {},
     "output_type": "execute_result"
    }
   ],
   "source": [
    "accuracy_score(logistic_regression_2.predict(titles_cat_logistic_lowb_train_x),titles_cat_logistic_lowb_train_y.profit_making)"
   ]
  },
  {
   "cell_type": "code",
   "execution_count": null,
   "metadata": {
    "collapsed": true
   },
   "outputs": [],
   "source": []
  },
  {
   "cell_type": "code",
   "execution_count": 1027,
   "metadata": {
    "collapsed": true
   },
   "outputs": [],
   "source": [
    "##SVM technique"
   ]
  },
  {
   "cell_type": "code",
   "execution_count": 1028,
   "metadata": {
    "collapsed": true
   },
   "outputs": [],
   "source": [
    "from sklearn.svm import SVC\n",
    "from sklearn.svm import SVR\n",
    "from sklearn.svm import LinearSVC\n",
    "from sklearn.pipeline import Pipeline\n",
    "from sklearn.preprocessing import PolynomialFeatures\n",
    "from sklearn.preprocessing import StandardScaler"
   ]
  },
  {
   "cell_type": "code",
   "execution_count": 1029,
   "metadata": {
    "collapsed": true
   },
   "outputs": [],
   "source": [
    "poly_kernel_svm_clf = Pipeline([\n",
    "        (\"scaler\", StandardScaler()),\n",
    "        (\"svm_clf\", SVC(kernel=\"poly\", degree=3, coef0=10, C=.1))\n",
    "])\n"
   ]
  },
  {
   "cell_type": "code",
   "execution_count": 1030,
   "metadata": {},
   "outputs": [
    {
     "data": {
      "text/plain": [
       "Pipeline(memory=None,\n",
       "     steps=[('scaler', StandardScaler(copy=True, with_mean=True, with_std=True)), ('svm_clf', SVC(C=0.1, cache_size=200, class_weight=None, coef0=10,\n",
       "  decision_function_shape='ovr', degree=3, gamma='auto', kernel='poly',\n",
       "  max_iter=-1, probability=False, random_state=None, shrinking=True,\n",
       "  tol=0.001, verbose=False))])"
      ]
     },
     "execution_count": 1030,
     "metadata": {},
     "output_type": "execute_result"
    }
   ],
   "source": [
    "poly_kernel_svm_clf.fit(titles_cat_logistic_lowb_train_x,titles_cat_logistic_lowb_train_y.profit_making)"
   ]
  },
  {
   "cell_type": "code",
   "execution_count": 1031,
   "metadata": {},
   "outputs": [
    {
     "data": {
      "text/plain": [
       "0.73076923076923073"
      ]
     },
     "execution_count": 1031,
     "metadata": {},
     "output_type": "execute_result"
    }
   ],
   "source": [
    "poly_kernel_svm_clf.score(titles_cat_logistic_lowb_test_x,titles_cat_logistic_lowb_test_y.profit_making)"
   ]
  },
  {
   "cell_type": "code",
   "execution_count": 1032,
   "metadata": {},
   "outputs": [
    {
     "data": {
      "text/plain": [
       "0.78500000000000003"
      ]
     },
     "execution_count": 1032,
     "metadata": {},
     "output_type": "execute_result"
    }
   ],
   "source": [
    "poly_kernel_svm_clf.score(titles_cat_logistic_lowb_train_x,titles_cat_logistic_lowb_train_y.profit_making)"
   ]
  },
  {
   "cell_type": "code",
   "execution_count": null,
   "metadata": {
    "collapsed": true
   },
   "outputs": [],
   "source": []
  },
  {
   "cell_type": "code",
   "execution_count": 1033,
   "metadata": {
    "collapsed": true
   },
   "outputs": [],
   "source": [
    "titles_cat_logistic_lowb_train_x_noimdb=titles_cat_logistic_lowb_train_x.drop('imdb_score',axis=1)"
   ]
  },
  {
   "cell_type": "code",
   "execution_count": 1034,
   "metadata": {
    "collapsed": true
   },
   "outputs": [],
   "source": [
    "titles_cat_logistic_lowb_test_x_noimdb=titles_cat_logistic_lowb_test_x.drop('imdb_score',axis=1)"
   ]
  },
  {
   "cell_type": "code",
   "execution_count": 1035,
   "metadata": {
    "collapsed": true
   },
   "outputs": [],
   "source": [
    "lgr = Pipeline([\n",
    "        (\"scaler\", StandardScaler()),\n",
    "        (\"lgr_clf\", LogisticRegression(C=.1))\n",
    "])"
   ]
  },
  {
   "cell_type": "code",
   "execution_count": 1036,
   "metadata": {},
   "outputs": [
    {
     "data": {
      "text/plain": [
       "Pipeline(memory=None,\n",
       "     steps=[('scaler', StandardScaler(copy=True, with_mean=True, with_std=True)), ('lgr_clf', LogisticRegression(C=0.1, class_weight=None, dual=False, fit_intercept=True,\n",
       "          intercept_scaling=1, max_iter=100, multi_class='ovr', n_jobs=1,\n",
       "          penalty='l2', random_state=None, solver='liblinear', tol=0.0001,\n",
       "          verbose=0, warm_start=False))])"
      ]
     },
     "execution_count": 1036,
     "metadata": {},
     "output_type": "execute_result"
    }
   ],
   "source": [
    "lgr.fit(titles_cat_logistic_lowb_train_x_noimdb,titles_cat_logistic_lowb_train_y.profit_making)"
   ]
  },
  {
   "cell_type": "code",
   "execution_count": 1037,
   "metadata": {},
   "outputs": [
    {
     "data": {
      "text/plain": [
       "0.76923076923076927"
      ]
     },
     "execution_count": 1037,
     "metadata": {},
     "output_type": "execute_result"
    }
   ],
   "source": [
    "lgr.score(titles_cat_logistic_lowb_test_x_noimdb,titles_cat_logistic_lowb_test_y.profit_making)"
   ]
  },
  {
   "cell_type": "code",
   "execution_count": 1038,
   "metadata": {},
   "outputs": [
    {
     "data": {
      "text/plain": [
       "0.71333333333333337"
      ]
     },
     "execution_count": 1038,
     "metadata": {},
     "output_type": "execute_result"
    }
   ],
   "source": [
    "lgr.score(titles_cat_logistic_lowb_train_x_noimdb,titles_cat_logistic_lowb_train_y.profit_making)"
   ]
  },
  {
   "cell_type": "code",
   "execution_count": null,
   "metadata": {
    "collapsed": true
   },
   "outputs": [],
   "source": []
  },
  {
   "cell_type": "code",
   "execution_count": 1039,
   "metadata": {
    "collapsed": true
   },
   "outputs": [],
   "source": [
    "poly_kernel_svm_clf = Pipeline([\n",
    "        (\"scaler\", StandardScaler()),\n",
    "        (\"svm_clf\", SVC(kernel=\"poly\", degree=3, coef0=10, C=.01))\n",
    "])"
   ]
  },
  {
   "cell_type": "code",
   "execution_count": 1040,
   "metadata": {},
   "outputs": [
    {
     "data": {
      "text/plain": [
       "Pipeline(memory=None,\n",
       "     steps=[('scaler', StandardScaler(copy=True, with_mean=True, with_std=True)), ('svm_clf', SVC(C=0.01, cache_size=200, class_weight=None, coef0=10,\n",
       "  decision_function_shape='ovr', degree=3, gamma='auto', kernel='poly',\n",
       "  max_iter=-1, probability=False, random_state=None, shrinking=True,\n",
       "  tol=0.001, verbose=False))])"
      ]
     },
     "execution_count": 1040,
     "metadata": {},
     "output_type": "execute_result"
    }
   ],
   "source": [
    "poly_kernel_svm_clf.fit(titles_cat_logistic_lowb_train_x_noimdb,titles_cat_logistic_lowb_train_y.profit_making)"
   ]
  },
  {
   "cell_type": "code",
   "execution_count": 1041,
   "metadata": {},
   "outputs": [
    {
     "data": {
      "text/plain": [
       "0.73076923076923073"
      ]
     },
     "execution_count": 1041,
     "metadata": {},
     "output_type": "execute_result"
    }
   ],
   "source": [
    "poly_kernel_svm_clf.score(titles_cat_logistic_lowb_test_x_noimdb,titles_cat_logistic_lowb_test_y.profit_making)"
   ]
  },
  {
   "cell_type": "code",
   "execution_count": 1042,
   "metadata": {},
   "outputs": [
    {
     "data": {
      "text/plain": [
       "0.73750000000000004"
      ]
     },
     "execution_count": 1042,
     "metadata": {},
     "output_type": "execute_result"
    }
   ],
   "source": [
    "poly_kernel_svm_clf.score(titles_cat_logistic_lowb_train_x_noimdb,titles_cat_logistic_lowb_train_y.profit_making)"
   ]
  },
  {
   "cell_type": "code",
   "execution_count": 1043,
   "metadata": {
    "collapsed": true
   },
   "outputs": [],
   "source": [
    "## Decision Trees\n"
   ]
  },
  {
   "cell_type": "code",
   "execution_count": 1044,
   "metadata": {
    "collapsed": true
   },
   "outputs": [],
   "source": [
    "##Voting\n"
   ]
  },
  {
   "cell_type": "code",
   "execution_count": 1045,
   "metadata": {
    "collapsed": true
   },
   "outputs": [],
   "source": [
    "from sklearn.ensemble import RandomForestClassifier\n",
    "from sklearn.ensemble import VotingClassifier\n",
    "from sklearn.linear_model import LogisticRegression\n",
    "from sklearn.svm import SVC\n",
    "\n",
    "voting_clf = VotingClassifier(\n",
    "       estimators=[('lr',lgr ),  ('svc', poly_kernel_svm_clf)],\n",
    "       #estimators=[('svc', poly_kernel_svm_clf)],\n",
    "    voting='hard')\n",
    "#voting_clf.fit(X_train, y_train)\n"
   ]
  },
  {
   "cell_type": "code",
   "execution_count": 1046,
   "metadata": {},
   "outputs": [
    {
     "data": {
      "text/plain": [
       "VotingClassifier(estimators=[('lr', Pipeline(memory=None,\n",
       "     steps=[('scaler', StandardScaler(copy=True, with_mean=True, with_std=True)), ('lgr_clf', LogisticRegression(C=0.1, class_weight=None, dual=False, fit_intercept=True,\n",
       "          intercept_scaling=1, max_iter=100, multi_class='ovr', n_jobs=1,\n",
       "          pena... max_iter=-1, probability=False, random_state=None, shrinking=True,\n",
       "  tol=0.001, verbose=False))]))],\n",
       "         flatten_transform=None, n_jobs=1, voting='hard', weights=None)"
      ]
     },
     "execution_count": 1046,
     "metadata": {},
     "output_type": "execute_result"
    }
   ],
   "source": [
    "voting_clf.fit(titles_cat_logistic_lowb_train_x_noimdb,titles_cat_logistic_lowb_train_y.profit_making )"
   ]
  },
  {
   "cell_type": "code",
   "execution_count": 1047,
   "metadata": {},
   "outputs": [
    {
     "data": {
      "text/plain": [
       "[('lr', Pipeline(memory=None,\n",
       "       steps=[('scaler', StandardScaler(copy=True, with_mean=True, with_std=True)), ('lgr_clf', LogisticRegression(C=0.1, class_weight=None, dual=False, fit_intercept=True,\n",
       "            intercept_scaling=1, max_iter=100, multi_class='ovr', n_jobs=1,\n",
       "            penalty='l2', random_state=None, solver='liblinear', tol=0.0001,\n",
       "            verbose=0, warm_start=False))])), ('svc', Pipeline(memory=None,\n",
       "       steps=[('scaler', StandardScaler(copy=True, with_mean=True, with_std=True)), ('svm_clf', SVC(C=0.01, cache_size=200, class_weight=None, coef0=10,\n",
       "    decision_function_shape='ovr', degree=3, gamma='auto', kernel='poly',\n",
       "    max_iter=-1, probability=False, random_state=None, shrinking=True,\n",
       "    tol=0.001, verbose=False))]))]"
      ]
     },
     "execution_count": 1047,
     "metadata": {},
     "output_type": "execute_result"
    }
   ],
   "source": [
    "voting_clf.estimators"
   ]
  },
  {
   "cell_type": "code",
   "execution_count": 1048,
   "metadata": {},
   "outputs": [
    {
     "data": {
      "text/plain": [
       "0.72166666666666668"
      ]
     },
     "execution_count": 1048,
     "metadata": {},
     "output_type": "execute_result"
    }
   ],
   "source": [
    "voting_clf.score(titles_cat_logistic_lowb_train_x_noimdb,titles_cat_logistic_lowb_train_y.profit_making)"
   ]
  },
  {
   "cell_type": "code",
   "execution_count": 1049,
   "metadata": {},
   "outputs": [
    {
     "data": {
      "text/plain": [
       "0.74358974358974361"
      ]
     },
     "execution_count": 1049,
     "metadata": {},
     "output_type": "execute_result"
    }
   ],
   "source": [
    "voting_clf.score(titles_cat_logistic_lowb_test_x_noimdb,titles_cat_logistic_lowb_test_y.profit_making)"
   ]
  },
  {
   "cell_type": "code",
   "execution_count": 1050,
   "metadata": {
    "collapsed": true
   },
   "outputs": [],
   "source": [
    "## Random forest / Bagging/ Pasting /Boosting"
   ]
  },
  {
   "cell_type": "code",
   "execution_count": 1051,
   "metadata": {
    "collapsed": true
   },
   "outputs": [],
   "source": [
    "from sklearn.ensemble import RandomForestClassifier\n",
    "\n",
    "rnd_clf = RandomForestClassifier(n_estimators=1000, max_leaf_nodes=100, n_jobs=-1, random_state=42)"
   ]
  },
  {
   "cell_type": "code",
   "execution_count": 1052,
   "metadata": {},
   "outputs": [
    {
     "data": {
      "text/plain": [
       "RandomForestClassifier(bootstrap=True, class_weight=None, criterion='gini',\n",
       "            max_depth=None, max_features='auto', max_leaf_nodes=100,\n",
       "            min_impurity_decrease=0.0, min_impurity_split=None,\n",
       "            min_samples_leaf=1, min_samples_split=2,\n",
       "            min_weight_fraction_leaf=0.0, n_estimators=1000, n_jobs=-1,\n",
       "            oob_score=False, random_state=42, verbose=0, warm_start=False)"
      ]
     },
     "execution_count": 1052,
     "metadata": {},
     "output_type": "execute_result"
    }
   ],
   "source": [
    "rnd_clf.fit(titles_cat_logistic_lowb_train_x_noimdb,titles_cat_logistic_lowb_train_y.profit_making)"
   ]
  },
  {
   "cell_type": "code",
   "execution_count": 1053,
   "metadata": {},
   "outputs": [
    {
     "data": {
      "text/plain": [
       "0.79487179487179482"
      ]
     },
     "execution_count": 1053,
     "metadata": {},
     "output_type": "execute_result"
    }
   ],
   "source": [
    "rnd_clf.score(titles_cat_logistic_lowb_test_x_noimdb,titles_cat_logistic_lowb_test_y.profit_making)"
   ]
  },
  {
   "cell_type": "code",
   "execution_count": 1054,
   "metadata": {
    "collapsed": true
   },
   "outputs": [],
   "source": [
    "\n",
    "voting_clf = VotingClassifier(\n",
    "       estimators=[('lr',lgr ),  ('svc', poly_kernel_svm_clf),  ('rnd', rnd_clf)],\n",
    "       #estimators=[('svc', poly_kernel_svm_clf)],\n",
    "    voting='hard')\n",
    "#voting_clf.fit(X_train, y_train)\n"
   ]
  },
  {
   "cell_type": "code",
   "execution_count": 1055,
   "metadata": {},
   "outputs": [
    {
     "data": {
      "text/plain": [
       "VotingClassifier(estimators=[('lr', Pipeline(memory=None,\n",
       "     steps=[('scaler', StandardScaler(copy=True, with_mean=True, with_std=True)), ('lgr_clf', LogisticRegression(C=0.1, class_weight=None, dual=False, fit_intercept=True,\n",
       "          intercept_scaling=1, max_iter=100, multi_class='ovr', n_jobs=1,\n",
       "          pena...mators=1000, n_jobs=-1,\n",
       "            oob_score=False, random_state=42, verbose=0, warm_start=False))],\n",
       "         flatten_transform=None, n_jobs=1, voting='hard', weights=None)"
      ]
     },
     "execution_count": 1055,
     "metadata": {},
     "output_type": "execute_result"
    }
   ],
   "source": [
    "voting_clf.fit(titles_cat_logistic_lowb_train_x_noimdb,titles_cat_logistic_lowb_train_y.profit_making )"
   ]
  },
  {
   "cell_type": "code",
   "execution_count": 1056,
   "metadata": {},
   "outputs": [
    {
     "data": {
      "text/plain": [
       "0.76923076923076927"
      ]
     },
     "execution_count": 1056,
     "metadata": {},
     "output_type": "execute_result"
    }
   ],
   "source": [
    "voting_clf.score(titles_cat_logistic_lowb_test_x_noimdb,titles_cat_logistic_lowb_test_y.profit_making)"
   ]
  },
  {
   "cell_type": "code",
   "execution_count": null,
   "metadata": {
    "collapsed": true
   },
   "outputs": [],
   "source": []
  },
  {
   "cell_type": "code",
   "execution_count": 1057,
   "metadata": {
    "collapsed": true
   },
   "outputs": [],
   "source": [
    "## Other stuff"
   ]
  },
  {
   "cell_type": "code",
   "execution_count": 1058,
   "metadata": {},
   "outputs": [
    {
     "ename": "NameError",
     "evalue": "name 'X' is not defined",
     "output_type": "error",
     "traceback": [
      "\u001b[0;31m---------------------------------------------------------------------------\u001b[0m",
      "\u001b[0;31mNameError\u001b[0m                                 Traceback (most recent call last)",
      "\u001b[0;32m<ipython-input-1058-1d8beaff8b43>\u001b[0m in \u001b[0;36m<module>\u001b[0;34m()\u001b[0m\n\u001b[1;32m      7\u001b[0m     \u001b[0mplt\u001b[0m\u001b[0;34m.\u001b[0m\u001b[0mylabel\u001b[0m\u001b[0;34m(\u001b[0m\u001b[0;34mr\"$x_2$\"\u001b[0m\u001b[0;34m,\u001b[0m \u001b[0mfontsize\u001b[0m\u001b[0;34m=\u001b[0m\u001b[0;36m20\u001b[0m\u001b[0;34m,\u001b[0m \u001b[0mrotation\u001b[0m\u001b[0;34m=\u001b[0m\u001b[0;36m0\u001b[0m\u001b[0;34m)\u001b[0m\u001b[0;34m\u001b[0m\u001b[0m\n\u001b[1;32m      8\u001b[0m \u001b[0;34m\u001b[0m\u001b[0m\n\u001b[0;32m----> 9\u001b[0;31m \u001b[0mplot_dataset\u001b[0m\u001b[0;34m(\u001b[0m\u001b[0mX\u001b[0m\u001b[0;34m,\u001b[0m \u001b[0my\u001b[0m\u001b[0;34m,\u001b[0m \u001b[0;34m[\u001b[0m\u001b[0;34m-\u001b[0m\u001b[0;36m1.5\u001b[0m\u001b[0;34m,\u001b[0m \u001b[0;36m2.5\u001b[0m\u001b[0;34m,\u001b[0m \u001b[0;34m-\u001b[0m\u001b[0;36m1\u001b[0m\u001b[0;34m,\u001b[0m \u001b[0;36m1.5\u001b[0m\u001b[0;34m]\u001b[0m\u001b[0;34m)\u001b[0m\u001b[0;34m\u001b[0m\u001b[0m\n\u001b[0m\u001b[1;32m     10\u001b[0m \u001b[0mplt\u001b[0m\u001b[0;34m.\u001b[0m\u001b[0mshow\u001b[0m\u001b[0;34m(\u001b[0m\u001b[0;34m)\u001b[0m\u001b[0;34m\u001b[0m\u001b[0m\n",
      "\u001b[0;31mNameError\u001b[0m: name 'X' is not defined"
     ]
    }
   ],
   "source": [
    "def plot_dataset(X, y, axes):\n",
    "    plt.plot(X[:, 0][y==0], X[:, 1][y==0], \"bs\")\n",
    "    plt.plot(X[:, 0][y==1], X[:, 1][y==1], \"g^\")\n",
    "    plt.axis(axes)\n",
    "    plt.grid(True, which='both')\n",
    "    plt.xlabel(r\"$x_1$\", fontsize=20)\n",
    "    plt.ylabel(r\"$x_2$\", fontsize=20, rotation=0)\n",
    "\n",
    "plot_dataset(X, y, [-1.5, 2.5, -1, 1.5])\n",
    "plt.show()"
   ]
  }
 ],
 "metadata": {
  "kernelspec": {
   "display_name": "Python 3",
   "language": "python",
   "name": "python3"
  },
  "language_info": {
   "codemirror_mode": {
    "name": "ipython",
    "version": 3
   },
   "file_extension": ".py",
   "mimetype": "text/x-python",
   "name": "python",
   "nbconvert_exporter": "python",
   "pygments_lexer": "ipython3",
   "version": "3.6.3"
  }
 },
 "nbformat": 4,
 "nbformat_minor": 2
}
